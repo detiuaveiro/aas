{
 "cells": [
  {
   "cell_type": "markdown",
   "metadata": {},
   "source": [
    "# Malware detection\n",
    "\n",
    "A toy dataset for malware detection. It contains only two classes (benign and malware).\n",
    "\n",
    "This notebook will address the topic of feature importance and feature selection."
   ]
  },
  {
   "cell_type": "code",
   "execution_count": 8,
   "metadata": {},
   "outputs": [],
   "source": [
    "import numpy as np\n",
    "import polars as pl\n",
    "import seaborn as sns\n",
    "import tensorflow as tf\n",
    "import matplotlib.pyplot as plt\n",
    "\n",
    "from sklearn.model_selection import train_test_split\n",
    "from sklearn.metrics import classification_report, confusion_matrix\n",
    "\n",
    "plt.style.use('ggplot')\n",
    "plt.rcParams['figure.figsize'] = [15, 7]"
   ]
  },
  {
   "cell_type": "code",
   "execution_count": 9,
   "metadata": {},
   "outputs": [
    {
     "data": {
      "text/html": [
       "<div><style>\n",
       ".dataframe > thead > tr,\n",
       ".dataframe > tbody > tr {\n",
       "  text-align: right;\n",
       "  white-space: pre-wrap;\n",
       "}\n",
       "</style>\n",
       "<small>shape: (5, 35)</small><table border=\"1\" class=\"dataframe\"><thead><tr><th>hash</th><th>millisecond</th><th>classification</th><th>state</th><th>usage_counter</th><th>prio</th><th>static_prio</th><th>normal_prio</th><th>policy</th><th>vm_pgoff</th><th>vm_truncate_count</th><th>task_size</th><th>cached_hole_size</th><th>free_area_cache</th><th>mm_users</th><th>map_count</th><th>hiwater_rss</th><th>total_vm</th><th>shared_vm</th><th>exec_vm</th><th>reserved_vm</th><th>nr_ptes</th><th>end_data</th><th>last_interval</th><th>nvcsw</th><th>nivcsw</th><th>min_flt</th><th>maj_flt</th><th>fs_excl_counter</th><th>lock</th><th>utime</th><th>stime</th><th>gtime</th><th>cgtime</th><th>signal_nvcsw</th></tr><tr><td>str</td><td>i64</td><td>str</td><td>i64</td><td>i64</td><td>i64</td><td>i64</td><td>i64</td><td>i64</td><td>i64</td><td>i64</td><td>i64</td><td>i64</td><td>i64</td><td>i64</td><td>i64</td><td>i64</td><td>i64</td><td>i64</td><td>i64</td><td>i64</td><td>i64</td><td>i64</td><td>i64</td><td>i64</td><td>i64</td><td>i64</td><td>i64</td><td>i64</td><td>i64</td><td>i64</td><td>i64</td><td>i64</td><td>i64</td><td>i64</td></tr></thead><tbody><tr><td>&quot;42fb5e2ec009a05ff5143227297074…</td><td>0</td><td>&quot;malware&quot;</td><td>0</td><td>0</td><td>3069378560</td><td>14274</td><td>0</td><td>0</td><td>0</td><td>13173</td><td>0</td><td>0</td><td>24</td><td>724</td><td>6850</td><td>0</td><td>150</td><td>120</td><td>124</td><td>210</td><td>0</td><td>120</td><td>3473</td><td>341974</td><td>0</td><td>0</td><td>120</td><td>0</td><td>3204448256</td><td>380690</td><td>4</td><td>0</td><td>0</td><td>0</td></tr><tr><td>&quot;42fb5e2ec009a05ff5143227297074…</td><td>1</td><td>&quot;malware&quot;</td><td>0</td><td>0</td><td>3069378560</td><td>14274</td><td>0</td><td>0</td><td>0</td><td>13173</td><td>0</td><td>0</td><td>24</td><td>724</td><td>6850</td><td>0</td><td>150</td><td>120</td><td>124</td><td>210</td><td>0</td><td>120</td><td>3473</td><td>341974</td><td>0</td><td>0</td><td>120</td><td>0</td><td>3204448256</td><td>380690</td><td>4</td><td>0</td><td>0</td><td>0</td></tr><tr><td>&quot;42fb5e2ec009a05ff5143227297074…</td><td>2</td><td>&quot;malware&quot;</td><td>0</td><td>0</td><td>3069378560</td><td>14274</td><td>0</td><td>0</td><td>0</td><td>13173</td><td>0</td><td>0</td><td>24</td><td>724</td><td>6850</td><td>0</td><td>150</td><td>120</td><td>124</td><td>210</td><td>0</td><td>120</td><td>3473</td><td>341974</td><td>0</td><td>0</td><td>120</td><td>0</td><td>3204448256</td><td>380690</td><td>4</td><td>0</td><td>0</td><td>0</td></tr><tr><td>&quot;42fb5e2ec009a05ff5143227297074…</td><td>3</td><td>&quot;malware&quot;</td><td>0</td><td>0</td><td>3069378560</td><td>14274</td><td>0</td><td>0</td><td>0</td><td>13173</td><td>0</td><td>0</td><td>24</td><td>724</td><td>6850</td><td>0</td><td>150</td><td>120</td><td>124</td><td>210</td><td>0</td><td>120</td><td>3473</td><td>341974</td><td>0</td><td>0</td><td>120</td><td>0</td><td>3204448256</td><td>380690</td><td>4</td><td>0</td><td>0</td><td>0</td></tr><tr><td>&quot;42fb5e2ec009a05ff5143227297074…</td><td>4</td><td>&quot;malware&quot;</td><td>0</td><td>0</td><td>3069378560</td><td>14274</td><td>0</td><td>0</td><td>0</td><td>13173</td><td>0</td><td>0</td><td>24</td><td>724</td><td>6850</td><td>0</td><td>150</td><td>120</td><td>124</td><td>210</td><td>0</td><td>120</td><td>3473</td><td>341974</td><td>0</td><td>0</td><td>120</td><td>0</td><td>3204448256</td><td>380690</td><td>4</td><td>0</td><td>0</td><td>0</td></tr></tbody></table></div>"
      ],
      "text/plain": [
       "shape: (5, 35)\n",
       "┌────────────────┬─────────────┬───────────────┬───────┬───┬───────┬───────┬────────┬──────────────┐\n",
       "│ hash           ┆ millisecond ┆ classificatio ┆ state ┆ … ┆ stime ┆ gtime ┆ cgtime ┆ signal_nvcsw │\n",
       "│ ---            ┆ ---         ┆ n             ┆ ---   ┆   ┆ ---   ┆ ---   ┆ ---    ┆ ---          │\n",
       "│ str            ┆ i64         ┆ ---           ┆ i64   ┆   ┆ i64   ┆ i64   ┆ i64    ┆ i64          │\n",
       "│                ┆             ┆ str           ┆       ┆   ┆       ┆       ┆        ┆              │\n",
       "╞════════════════╪═════════════╪═══════════════╪═══════╪═══╪═══════╪═══════╪════════╪══════════════╡\n",
       "│ 42fb5e2ec009a0 ┆ 0           ┆ malware       ┆ 0     ┆ … ┆ 4     ┆ 0     ┆ 0      ┆ 0            │\n",
       "│ 5ff51432272970 ┆             ┆               ┆       ┆   ┆       ┆       ┆        ┆              │\n",
       "│ 74…            ┆             ┆               ┆       ┆   ┆       ┆       ┆        ┆              │\n",
       "│ 42fb5e2ec009a0 ┆ 1           ┆ malware       ┆ 0     ┆ … ┆ 4     ┆ 0     ┆ 0      ┆ 0            │\n",
       "│ 5ff51432272970 ┆             ┆               ┆       ┆   ┆       ┆       ┆        ┆              │\n",
       "│ 74…            ┆             ┆               ┆       ┆   ┆       ┆       ┆        ┆              │\n",
       "│ 42fb5e2ec009a0 ┆ 2           ┆ malware       ┆ 0     ┆ … ┆ 4     ┆ 0     ┆ 0      ┆ 0            │\n",
       "│ 5ff51432272970 ┆             ┆               ┆       ┆   ┆       ┆       ┆        ┆              │\n",
       "│ 74…            ┆             ┆               ┆       ┆   ┆       ┆       ┆        ┆              │\n",
       "│ 42fb5e2ec009a0 ┆ 3           ┆ malware       ┆ 0     ┆ … ┆ 4     ┆ 0     ┆ 0      ┆ 0            │\n",
       "│ 5ff51432272970 ┆             ┆               ┆       ┆   ┆       ┆       ┆        ┆              │\n",
       "│ 74…            ┆             ┆               ┆       ┆   ┆       ┆       ┆        ┆              │\n",
       "│ 42fb5e2ec009a0 ┆ 4           ┆ malware       ┆ 0     ┆ … ┆ 4     ┆ 0     ┆ 0      ┆ 0            │\n",
       "│ 5ff51432272970 ┆             ┆               ┆       ┆   ┆       ┆       ┆        ┆              │\n",
       "│ 74…            ┆             ┆               ┆       ┆   ┆       ┆       ┆        ┆              │\n",
       "└────────────────┴─────────────┴───────────────┴───────┴───┴───────┴───────┴────────┴──────────────┘"
      ]
     },
     "execution_count": 9,
     "metadata": {},
     "output_type": "execute_result"
    }
   ],
   "source": [
    "df = pl.read_csv('https://cloud.hrun.mooo.com/s/CSEFd6fBQRnryk2/download/malware_dataset.csv')\n",
    "df.head()"
   ]
  },
  {
   "cell_type": "code",
   "execution_count": 10,
   "metadata": {},
   "outputs": [],
   "source": [
    "mapping = {'benign':0, 'malware':1} \n",
    "df = df.with_columns(pl.col('classification').replace(mapping).cast(pl.Int32, strict=False).alias('classification'))"
   ]
  },
  {
   "cell_type": "code",
   "execution_count": 11,
   "metadata": {},
   "outputs": [
    {
     "data": {
      "image/png": "[encoded data removed]",
      "text/plain": [
       "<Figure size 1500x700 with 1 Axes>"
      ]
     },
     "metadata": {},
     "output_type": "display_data"
    }
   ],
   "source": [
    "sns.countplot(data=df, x='classification', hue='classification')\n",
    "plt.show()"
   ]
  },
  {
   "cell_type": "code",
   "execution_count": 12,
   "metadata": {},
   "outputs": [
    {
     "data": {
      "text/html": [
       "<div><style>\n",
       ".dataframe > thead > tr,\n",
       ".dataframe > tbody > tr {\n",
       "  text-align: right;\n",
       "  white-space: pre-wrap;\n",
       "}\n",
       "</style>\n",
       "<small>shape: (9, 34)</small><table border=\"1\" class=\"dataframe\"><thead><tr><th>statistic</th><th>classification</th><th>state</th><th>usage_counter</th><th>prio</th><th>static_prio</th><th>normal_prio</th><th>policy</th><th>vm_pgoff</th><th>vm_truncate_count</th><th>task_size</th><th>cached_hole_size</th><th>free_area_cache</th><th>mm_users</th><th>map_count</th><th>hiwater_rss</th><th>total_vm</th><th>shared_vm</th><th>exec_vm</th><th>reserved_vm</th><th>nr_ptes</th><th>end_data</th><th>last_interval</th><th>nvcsw</th><th>nivcsw</th><th>min_flt</th><th>maj_flt</th><th>fs_excl_counter</th><th>lock</th><th>utime</th><th>stime</th><th>gtime</th><th>cgtime</th><th>signal_nvcsw</th></tr><tr><td>str</td><td>f64</td><td>f64</td><td>f64</td><td>f64</td><td>f64</td><td>f64</td><td>f64</td><td>f64</td><td>f64</td><td>f64</td><td>f64</td><td>f64</td><td>f64</td><td>f64</td><td>f64</td><td>f64</td><td>f64</td><td>f64</td><td>f64</td><td>f64</td><td>f64</td><td>f64</td><td>f64</td><td>f64</td><td>f64</td><td>f64</td><td>f64</td><td>f64</td><td>f64</td><td>f64</td><td>f64</td><td>f64</td><td>f64</td></tr></thead><tbody><tr><td>&quot;count&quot;</td><td>100000.0</td><td>100000.0</td><td>100000.0</td><td>100000.0</td><td>100000.0</td><td>100000.0</td><td>100000.0</td><td>100000.0</td><td>100000.0</td><td>100000.0</td><td>100000.0</td><td>100000.0</td><td>100000.0</td><td>100000.0</td><td>100000.0</td><td>100000.0</td><td>100000.0</td><td>100000.0</td><td>100000.0</td><td>100000.0</td><td>100000.0</td><td>100000.0</td><td>100000.0</td><td>100000.0</td><td>100000.0</td><td>100000.0</td><td>100000.0</td><td>100000.0</td><td>100000.0</td><td>100000.0</td><td>100000.0</td><td>100000.0</td><td>100000.0</td></tr><tr><td>&quot;null_count&quot;</td><td>0.0</td><td>0.0</td><td>0.0</td><td>0.0</td><td>0.0</td><td>0.0</td><td>0.0</td><td>0.0</td><td>0.0</td><td>0.0</td><td>0.0</td><td>0.0</td><td>0.0</td><td>0.0</td><td>0.0</td><td>0.0</td><td>0.0</td><td>0.0</td><td>0.0</td><td>0.0</td><td>0.0</td><td>0.0</td><td>0.0</td><td>0.0</td><td>0.0</td><td>0.0</td><td>0.0</td><td>0.0</td><td>0.0</td><td>0.0</td><td>0.0</td><td>0.0</td><td>0.0</td></tr><tr><td>&quot;mean&quot;</td><td>0.5</td><td>157768.33536</td><td>0.0</td><td>3.0697e9</td><td>18183.90007</td><td>0.0</td><td>0.0</td><td>0.0</td><td>15312.73951</td><td>0.0</td><td>0.0</td><td>9.58777</td><td>728.46543</td><td>8771.13948</td><td>0.0</td><td>266.49112</td><td>117.92024</td><td>127.67815</td><td>205.32485</td><td>0.0</td><td>117.92024</td><td>2435.97361</td><td>348313.0716</td><td>32.99116</td><td>2.05313</td><td>117.92024</td><td>1.10919</td><td>3.2044e9</td><td>385415.45197</td><td>4.05931</td><td>1.66142</td><td>0.0</td><td>0.0</td></tr><tr><td>&quot;std&quot;</td><td>0.500003</td><td>936172.583333</td><td>0.0</td><td>296306.144182</td><td>4609.792765</td><td>0.0</td><td>0.0</td><td>0.0</td><td>3256.475008</td><td>0.0</td><td>0.0</td><td>46.504908</td><td>84.475361</td><td>3785.30516</td><td>0.0</td><td>311.996779</td><td>3.116892</td><td>22.277995</td><td>112.717875</td><td>0.0</td><td>3.116892</td><td>2605.564669</td><td>9117.720632</td><td>52.730176</td><td>13.881382</td><td>3.116892</td><td>2.160466</td><td>0.0</td><td>10144.036494</td><td>0.822848</td><td>3.26304</td><td>0.0</td><td>0.0</td></tr><tr><td>&quot;min&quot;</td><td>0.0</td><td>0.0</td><td>0.0</td><td>3.0692e9</td><td>13988.0</td><td>0.0</td><td>0.0</td><td>0.0</td><td>9695.0</td><td>0.0</td><td>0.0</td><td>0.0</td><td>612.0</td><td>2588.0</td><td>0.0</td><td>4.0</td><td>112.0</td><td>92.0</td><td>29.0</td><td>0.0</td><td>112.0</td><td>0.0</td><td>337688.0</td><td>0.0</td><td>0.0</td><td>112.0</td><td>0.0</td><td>3.2044e9</td><td>371782.0</td><td>3.0</td><td>0.0</td><td>0.0</td><td>0.0</td></tr><tr><td>&quot;25%&quot;</td><td>0.0</td><td>0.0</td><td>0.0</td><td>3.0695e9</td><td>14352.0</td><td>0.0</td><td>0.0</td><td>0.0</td><td>12648.0</td><td>0.0</td><td>0.0</td><td>0.0</td><td>651.0</td><td>6428.0</td><td>0.0</td><td>99.0</td><td>114.0</td><td>112.0</td><td>112.0</td><td>0.0</td><td>114.0</td><td>0.0</td><td>341974.0</td><td>1.0</td><td>0.0</td><td>114.0</td><td>0.0</td><td>3.2044e9</td><td>378208.0</td><td>3.0</td><td>0.0</td><td>0.0</td><td>0.0</td></tr><tr><td>&quot;50%&quot;</td><td>1.0</td><td>0.0</td><td>0.0</td><td>3.0697e9</td><td>16159.0</td><td>0.0</td><td>0.0</td><td>0.0</td><td>15245.0</td><td>0.0</td><td>0.0</td><td>1.0</td><td>725.0</td><td>7865.0</td><td>0.0</td><td>177.0</td><td>120.0</td><td>127.0</td><td>193.0</td><td>0.0</td><td>120.0</td><td>2017.0</td><td>347244.0</td><td>9.0</td><td>1.0</td><td>120.0</td><td>0.0</td><td>3.2044e9</td><td>383637.0</td><td>4.0</td><td>0.0</td><td>0.0</td><td>0.0</td></tr><tr><td>&quot;75%&quot;</td><td>1.0</td><td>4096.0</td><td>0.0</td><td>3.0700e9</td><td>22182.0</td><td>0.0</td><td>0.0</td><td>0.0</td><td>17663.0</td><td>0.0</td><td>0.0</td><td>4.0</td><td>785.0</td><td>10684.0</td><td>0.0</td><td>327.0</td><td>120.0</td><td>138.0</td><td>273.0</td><td>0.0</td><td>120.0</td><td>4036.0</td><td>351667.0</td><td>46.0</td><td>1.0</td><td>120.0</td><td>1.0</td><td>3.2044e9</td><td>390324.0</td><td>5.0</td><td>1.0</td><td>0.0</td><td>0.0</td></tr><tr><td>&quot;max&quot;</td><td>1.0</td><td>4.3266048e7</td><td>0.0</td><td>3.0702e9</td><td>31855.0</td><td>0.0</td><td>0.0</td><td>0.0</td><td>27157.0</td><td>0.0</td><td>0.0</td><td>515.0</td><td>995.0</td><td>28184.0</td><td>0.0</td><td>2810.0</td><td>120.0</td><td>196.0</td><td>755.0</td><td>0.0</td><td>120.0</td><td>9526.0</td><td>384520.0</td><td>365.0</td><td>256.0</td><td>120.0</td><td>18.0</td><td>3.2044e9</td><td>421913.0</td><td>7.0</td><td>15.0</td><td>0.0</td><td>0.0</td></tr></tbody></table></div>"
      ],
      "text/plain": [
       "shape: (9, 34)\n",
       "┌────────────┬────────────┬───────────┬───────────┬───┬──────────┬──────────┬──────────┬───────────┐\n",
       "│ statistic  ┆ classifica ┆ state     ┆ usage_cou ┆ … ┆ stime    ┆ gtime    ┆ cgtime   ┆ signal_nv │\n",
       "│ ---        ┆ tion       ┆ ---       ┆ nter      ┆   ┆ ---      ┆ ---      ┆ ---      ┆ csw       │\n",
       "│ str        ┆ ---        ┆ f64       ┆ ---       ┆   ┆ f64      ┆ f64      ┆ f64      ┆ ---       │\n",
       "│            ┆ f64        ┆           ┆ f64       ┆   ┆          ┆          ┆          ┆ f64       │\n",
       "╞════════════╪════════════╪═══════════╪═══════════╪═══╪══════════╪══════════╪══════════╪═══════════╡\n",
       "│ count      ┆ 100000.0   ┆ 100000.0  ┆ 100000.0  ┆ … ┆ 100000.0 ┆ 100000.0 ┆ 100000.0 ┆ 100000.0  │\n",
       "│ null_count ┆ 0.0        ┆ 0.0       ┆ 0.0       ┆ … ┆ 0.0      ┆ 0.0      ┆ 0.0      ┆ 0.0       │\n",
       "│ mean       ┆ 0.5        ┆ 157768.33 ┆ 0.0       ┆ … ┆ 4.05931  ┆ 1.66142  ┆ 0.0      ┆ 0.0       │\n",
       "│            ┆            ┆ 536       ┆           ┆   ┆          ┆          ┆          ┆           │\n",
       "│ std        ┆ 0.500003   ┆ 936172.58 ┆ 0.0       ┆ … ┆ 0.822848 ┆ 3.26304  ┆ 0.0      ┆ 0.0       │\n",
       "│            ┆            ┆ 3333      ┆           ┆   ┆          ┆          ┆          ┆           │\n",
       "│ min        ┆ 0.0        ┆ 0.0       ┆ 0.0       ┆ … ┆ 3.0      ┆ 0.0      ┆ 0.0      ┆ 0.0       │\n",
       "│ 25%        ┆ 0.0        ┆ 0.0       ┆ 0.0       ┆ … ┆ 3.0      ┆ 0.0      ┆ 0.0      ┆ 0.0       │\n",
       "│ 50%        ┆ 1.0        ┆ 0.0       ┆ 0.0       ┆ … ┆ 4.0      ┆ 0.0      ┆ 0.0      ┆ 0.0       │\n",
       "│ 75%        ┆ 1.0        ┆ 4096.0    ┆ 0.0       ┆ … ┆ 5.0      ┆ 1.0      ┆ 0.0      ┆ 0.0       │\n",
       "│ max        ┆ 1.0        ┆ 4.3266048 ┆ 0.0       ┆ … ┆ 7.0      ┆ 15.0     ┆ 0.0      ┆ 0.0       │\n",
       "│            ┆            ┆ e7        ┆           ┆   ┆          ┆          ┆          ┆           │\n",
       "└────────────┴────────────┴───────────┴───────────┴───┴──────────┴──────────┴──────────┴───────────┘"
      ]
     },
     "execution_count": 12,
     "metadata": {},
     "output_type": "execute_result"
    }
   ],
   "source": [
    "df = df.drop(['hash', 'millisecond'])\n",
    "df.describe()"
   ]
  },
  {
   "cell_type": "markdown",
   "metadata": {},
   "source": [
    "## Drop columns with low variance"
   ]
  },
  {
   "cell_type": "code",
   "execution_count": 13,
   "metadata": {},
   "outputs": [
    {
     "data": {
      "text/html": [
       "<div><style>\n",
       ".dataframe > thead > tr,\n",
       ".dataframe > tbody > tr {\n",
       "  text-align: right;\n",
       "  white-space: pre-wrap;\n",
       "}\n",
       "</style>\n",
       "<small>shape: (9, 23)</small><table border=\"1\" class=\"dataframe\"><thead><tr><th>statistic</th><th>classification</th><th>state</th><th>prio</th><th>static_prio</th><th>vm_truncate_count</th><th>free_area_cache</th><th>mm_users</th><th>map_count</th><th>total_vm</th><th>shared_vm</th><th>exec_vm</th><th>reserved_vm</th><th>end_data</th><th>last_interval</th><th>nvcsw</th><th>nivcsw</th><th>min_flt</th><th>maj_flt</th><th>fs_excl_counter</th><th>utime</th><th>stime</th><th>gtime</th></tr><tr><td>str</td><td>f64</td><td>f64</td><td>f64</td><td>f64</td><td>f64</td><td>f64</td><td>f64</td><td>f64</td><td>f64</td><td>f64</td><td>f64</td><td>f64</td><td>f64</td><td>f64</td><td>f64</td><td>f64</td><td>f64</td><td>f64</td><td>f64</td><td>f64</td><td>f64</td><td>f64</td></tr></thead><tbody><tr><td>&quot;count&quot;</td><td>100000.0</td><td>100000.0</td><td>100000.0</td><td>100000.0</td><td>100000.0</td><td>100000.0</td><td>100000.0</td><td>100000.0</td><td>100000.0</td><td>100000.0</td><td>100000.0</td><td>100000.0</td><td>100000.0</td><td>100000.0</td><td>100000.0</td><td>100000.0</td><td>100000.0</td><td>100000.0</td><td>100000.0</td><td>100000.0</td><td>100000.0</td><td>100000.0</td></tr><tr><td>&quot;null_count&quot;</td><td>0.0</td><td>0.0</td><td>0.0</td><td>0.0</td><td>0.0</td><td>0.0</td><td>0.0</td><td>0.0</td><td>0.0</td><td>0.0</td><td>0.0</td><td>0.0</td><td>0.0</td><td>0.0</td><td>0.0</td><td>0.0</td><td>0.0</td><td>0.0</td><td>0.0</td><td>0.0</td><td>0.0</td><td>0.0</td></tr><tr><td>&quot;mean&quot;</td><td>0.5</td><td>157768.33536</td><td>3.0697e9</td><td>18183.90007</td><td>15312.73951</td><td>9.58777</td><td>728.46543</td><td>8771.13948</td><td>266.49112</td><td>117.92024</td><td>127.67815</td><td>205.32485</td><td>117.92024</td><td>2435.97361</td><td>348313.0716</td><td>32.99116</td><td>2.05313</td><td>117.92024</td><td>1.10919</td><td>385415.45197</td><td>4.05931</td><td>1.66142</td></tr><tr><td>&quot;std&quot;</td><td>0.500003</td><td>936172.583333</td><td>296306.144182</td><td>4609.792765</td><td>3256.475008</td><td>46.504908</td><td>84.475361</td><td>3785.30516</td><td>311.996779</td><td>3.116892</td><td>22.277995</td><td>112.717875</td><td>3.116892</td><td>2605.564669</td><td>9117.720632</td><td>52.730176</td><td>13.881382</td><td>3.116892</td><td>2.160466</td><td>10144.036494</td><td>0.822848</td><td>3.26304</td></tr><tr><td>&quot;min&quot;</td><td>0.0</td><td>0.0</td><td>3.0692e9</td><td>13988.0</td><td>9695.0</td><td>0.0</td><td>612.0</td><td>2588.0</td><td>4.0</td><td>112.0</td><td>92.0</td><td>29.0</td><td>112.0</td><td>0.0</td><td>337688.0</td><td>0.0</td><td>0.0</td><td>112.0</td><td>0.0</td><td>371782.0</td><td>3.0</td><td>0.0</td></tr><tr><td>&quot;25%&quot;</td><td>0.0</td><td>0.0</td><td>3.0695e9</td><td>14352.0</td><td>12648.0</td><td>0.0</td><td>651.0</td><td>6428.0</td><td>99.0</td><td>114.0</td><td>112.0</td><td>112.0</td><td>114.0</td><td>0.0</td><td>341974.0</td><td>1.0</td><td>0.0</td><td>114.0</td><td>0.0</td><td>378208.0</td><td>3.0</td><td>0.0</td></tr><tr><td>&quot;50%&quot;</td><td>1.0</td><td>0.0</td><td>3.0697e9</td><td>16159.0</td><td>15245.0</td><td>1.0</td><td>725.0</td><td>7865.0</td><td>177.0</td><td>120.0</td><td>127.0</td><td>193.0</td><td>120.0</td><td>2017.0</td><td>347244.0</td><td>9.0</td><td>1.0</td><td>120.0</td><td>0.0</td><td>383637.0</td><td>4.0</td><td>0.0</td></tr><tr><td>&quot;75%&quot;</td><td>1.0</td><td>4096.0</td><td>3.0700e9</td><td>22182.0</td><td>17663.0</td><td>4.0</td><td>785.0</td><td>10684.0</td><td>327.0</td><td>120.0</td><td>138.0</td><td>273.0</td><td>120.0</td><td>4036.0</td><td>351667.0</td><td>46.0</td><td>1.0</td><td>120.0</td><td>1.0</td><td>390324.0</td><td>5.0</td><td>1.0</td></tr><tr><td>&quot;max&quot;</td><td>1.0</td><td>4.3266048e7</td><td>3.0702e9</td><td>31855.0</td><td>27157.0</td><td>515.0</td><td>995.0</td><td>28184.0</td><td>2810.0</td><td>120.0</td><td>196.0</td><td>755.0</td><td>120.0</td><td>9526.0</td><td>384520.0</td><td>365.0</td><td>256.0</td><td>120.0</td><td>18.0</td><td>421913.0</td><td>7.0</td><td>15.0</td></tr></tbody></table></div>"
      ],
      "text/plain": [
       "shape: (9, 23)\n",
       "┌────────────┬───────────┬───────────┬───────────┬───┬───────────┬───────────┬──────────┬──────────┐\n",
       "│ statistic  ┆ classific ┆ state     ┆ prio      ┆ … ┆ fs_excl_c ┆ utime     ┆ stime    ┆ gtime    │\n",
       "│ ---        ┆ ation     ┆ ---       ┆ ---       ┆   ┆ ounter    ┆ ---       ┆ ---      ┆ ---      │\n",
       "│ str        ┆ ---       ┆ f64       ┆ f64       ┆   ┆ ---       ┆ f64       ┆ f64      ┆ f64      │\n",
       "│            ┆ f64       ┆           ┆           ┆   ┆ f64       ┆           ┆          ┆          │\n",
       "╞════════════╪═══════════╪═══════════╪═══════════╪═══╪═══════════╪═══════════╪══════════╪══════════╡\n",
       "│ count      ┆ 100000.0  ┆ 100000.0  ┆ 100000.0  ┆ … ┆ 100000.0  ┆ 100000.0  ┆ 100000.0 ┆ 100000.0 │\n",
       "│ null_count ┆ 0.0       ┆ 0.0       ┆ 0.0       ┆ … ┆ 0.0       ┆ 0.0       ┆ 0.0      ┆ 0.0      │\n",
       "│ mean       ┆ 0.5       ┆ 157768.33 ┆ 3.0697e9  ┆ … ┆ 1.10919   ┆ 385415.45 ┆ 4.05931  ┆ 1.66142  │\n",
       "│            ┆           ┆ 536       ┆           ┆   ┆           ┆ 197       ┆          ┆          │\n",
       "│ std        ┆ 0.500003  ┆ 936172.58 ┆ 296306.14 ┆ … ┆ 2.160466  ┆ 10144.036 ┆ 0.822848 ┆ 3.26304  │\n",
       "│            ┆           ┆ 3333      ┆ 4182      ┆   ┆           ┆ 494       ┆          ┆          │\n",
       "│ min        ┆ 0.0       ┆ 0.0       ┆ 3.0692e9  ┆ … ┆ 0.0       ┆ 371782.0  ┆ 3.0      ┆ 0.0      │\n",
       "│ 25%        ┆ 0.0       ┆ 0.0       ┆ 3.0695e9  ┆ … ┆ 0.0       ┆ 378208.0  ┆ 3.0      ┆ 0.0      │\n",
       "│ 50%        ┆ 1.0       ┆ 0.0       ┆ 3.0697e9  ┆ … ┆ 0.0       ┆ 383637.0  ┆ 4.0      ┆ 0.0      │\n",
       "│ 75%        ┆ 1.0       ┆ 4096.0    ┆ 3.0700e9  ┆ … ┆ 1.0       ┆ 390324.0  ┆ 5.0      ┆ 1.0      │\n",
       "│ max        ┆ 1.0       ┆ 4.3266048 ┆ 3.0702e9  ┆ … ┆ 18.0      ┆ 421913.0  ┆ 7.0      ┆ 15.0     │\n",
       "│            ┆           ┆ e7        ┆           ┆   ┆           ┆           ┆          ┆          │\n",
       "└────────────┴───────────┴───────────┴───────────┴───┴───────────┴───────────┴──────────┴──────────┘"
      ]
     },
     "execution_count": 13,
     "metadata": {},
     "output_type": "execute_result"
    }
   ],
   "source": [
    "threshold = 0.5\n",
    "df = df.drop([col.name for col in df.select(pl.all().std() < threshold) if col.item()])\n",
    "df.describe()"
   ]
  },
  {
   "cell_type": "markdown",
   "metadata": {},
   "source": [
    "## Split the data"
   ]
  },
  {
   "cell_type": "code",
   "execution_count": 14,
   "metadata": {},
   "outputs": [],
   "source": [
    "Y = df['classification'].to_numpy()\n",
    "X = df.drop(['classification']).to_numpy()\n",
    "\n",
    "X_train, X_test, y_train, y_test = train_test_split(X, Y, test_size=0.2, random_state=42)"
   ]
  },
  {
   "cell_type": "code",
   "execution_count": 15,
   "metadata": {},
   "outputs": [
    {
     "data": {
      "text/plain": [
       "(100000, 21)"
      ]
     },
     "execution_count": 15,
     "metadata": {},
     "output_type": "execute_result"
    }
   ],
   "source": [
    "from sklearn.preprocessing import StandardScaler\n",
    "sc_X = StandardScaler()\n",
    "X_train = sc_X.fit_transform(X_train)\n",
    "X_test = sc_X.transform(X_test)\n",
    "\n",
    "X.shape"
   ]
  },
  {
   "cell_type": "code",
   "execution_count": 16,
   "metadata": {},
   "outputs": [
    {
     "name": "stderr",
     "output_type": "stream",
     "text": [
      "/home/mantunes/git/aas/venv/lib64/python3.12/site-packages/keras/src/layers/core/dense.py:87: UserWarning: Do not pass an `input_shape`/`input_dim` argument to a layer. When using Sequential models, prefer using an `Input(shape)` object as the first layer in the model instead.\n",
      "  super().__init__(activity_regularizer=activity_regularizer, **kwargs)\n"
     ]
    },
    {
     "data": {
      "text/html": [
       "<pre style=\"white-space:pre;overflow-x:auto;line-height:normal;font-family:Menlo,'DejaVu Sans Mono',consolas,'Courier New',monospace\"><span style=\"font-weight: bold\">Model: \"sequential\"</span>\n",
       "</pre>\n"
      ],
      "text/plain": [
       "\u001b[1mModel: \"sequential\"\u001b[0m\n"
      ]
     },
     "metadata": {},
     "output_type": "display_data"
    },
    {
     "data": {
      "text/html": [
       "<pre style=\"white-space:pre;overflow-x:auto;line-height:normal;font-family:Menlo,'DejaVu Sans Mono',consolas,'Courier New',monospace\">┏━━━━━━━━━━━━━━━━━━━━━━━━━━━━━━━━━┳━━━━━━━━━━━━━━━━━━━━━━━━┳━━━━━━━━━━━━━━━┓\n",
       "┃<span style=\"font-weight: bold\"> Layer (type)                    </span>┃<span style=\"font-weight: bold\"> Output Shape           </span>┃<span style=\"font-weight: bold\">       Param # </span>┃\n",
       "┡━━━━━━━━━━━━━━━━━━━━━━━━━━━━━━━━━╇━━━━━━━━━━━━━━━━━━━━━━━━╇━━━━━━━━━━━━━━━┩\n",
       "│ dense (<span style=\"color: #0087ff; text-decoration-color: #0087ff\">Dense</span>)                   │ (<span style=\"color: #00d7ff; text-decoration-color: #00d7ff\">None</span>, <span style=\"color: #00af00; text-decoration-color: #00af00\">32</span>)             │           <span style=\"color: #00af00; text-decoration-color: #00af00\">704</span> │\n",
       "├─────────────────────────────────┼────────────────────────┼───────────────┤\n",
       "│ dense_1 (<span style=\"color: #0087ff; text-decoration-color: #0087ff\">Dense</span>)                 │ (<span style=\"color: #00d7ff; text-decoration-color: #00d7ff\">None</span>, <span style=\"color: #00af00; text-decoration-color: #00af00\">16</span>)             │           <span style=\"color: #00af00; text-decoration-color: #00af00\">528</span> │\n",
       "├─────────────────────────────────┼────────────────────────┼───────────────┤\n",
       "│ dense_2 (<span style=\"color: #0087ff; text-decoration-color: #0087ff\">Dense</span>)                 │ (<span style=\"color: #00d7ff; text-decoration-color: #00d7ff\">None</span>, <span style=\"color: #00af00; text-decoration-color: #00af00\">1</span>)              │            <span style=\"color: #00af00; text-decoration-color: #00af00\">17</span> │\n",
       "└─────────────────────────────────┴────────────────────────┴───────────────┘\n",
       "</pre>\n"
      ],
      "text/plain": [
       "┏━━━━━━━━━━━━━━━━━━━━━━━━━━━━━━━━━┳━━━━━━━━━━━━━━━━━━━━━━━━┳━━━━━━━━━━━━━━━┓\n",
       "┃\u001b[1m \u001b[0m\u001b[1mLayer (type)                   \u001b[0m\u001b[1m \u001b[0m┃\u001b[1m \u001b[0m\u001b[1mOutput Shape          \u001b[0m\u001b[1m \u001b[0m┃\u001b[1m \u001b[0m\u001b[1m      Param #\u001b[0m\u001b[1m \u001b[0m┃\n",
       "┡━━━━━━━━━━━━━━━━━━━━━━━━━━━━━━━━━╇━━━━━━━━━━━━━━━━━━━━━━━━╇━━━━━━━━━━━━━━━┩\n",
       "│ dense (\u001b[38;5;33mDense\u001b[0m)                   │ (\u001b[38;5;45mNone\u001b[0m, \u001b[38;5;34m32\u001b[0m)             │           \u001b[38;5;34m704\u001b[0m │\n",
       "├─────────────────────────────────┼────────────────────────┼───────────────┤\n",
       "│ dense_1 (\u001b[38;5;33mDense\u001b[0m)                 │ (\u001b[38;5;45mNone\u001b[0m, \u001b[38;5;34m16\u001b[0m)             │           \u001b[38;5;34m528\u001b[0m │\n",
       "├─────────────────────────────────┼────────────────────────┼───────────────┤\n",
       "│ dense_2 (\u001b[38;5;33mDense\u001b[0m)                 │ (\u001b[38;5;45mNone\u001b[0m, \u001b[38;5;34m1\u001b[0m)              │            \u001b[38;5;34m17\u001b[0m │\n",
       "└─────────────────────────────────┴────────────────────────┴───────────────┘\n"
      ]
     },
     "metadata": {},
     "output_type": "display_data"
    },
    {
     "data": {
      "text/html": [
       "<pre style=\"white-space:pre;overflow-x:auto;line-height:normal;font-family:Menlo,'DejaVu Sans Mono',consolas,'Courier New',monospace\"><span style=\"font-weight: bold\"> Total params: </span><span style=\"color: #00af00; text-decoration-color: #00af00\">1,249</span> (4.88 KB)\n",
       "</pre>\n"
      ],
      "text/plain": [
       "\u001b[1m Total params: \u001b[0m\u001b[38;5;34m1,249\u001b[0m (4.88 KB)\n"
      ]
     },
     "metadata": {},
     "output_type": "display_data"
    },
    {
     "data": {
      "text/html": [
       "<pre style=\"white-space:pre;overflow-x:auto;line-height:normal;font-family:Menlo,'DejaVu Sans Mono',consolas,'Courier New',monospace\"><span style=\"font-weight: bold\"> Trainable params: </span><span style=\"color: #00af00; text-decoration-color: #00af00\">1,249</span> (4.88 KB)\n",
       "</pre>\n"
      ],
      "text/plain": [
       "\u001b[1m Trainable params: \u001b[0m\u001b[38;5;34m1,249\u001b[0m (4.88 KB)\n"
      ]
     },
     "metadata": {},
     "output_type": "display_data"
    },
    {
     "data": {
      "text/html": [
       "<pre style=\"white-space:pre;overflow-x:auto;line-height:normal;font-family:Menlo,'DejaVu Sans Mono',consolas,'Courier New',monospace\"><span style=\"font-weight: bold\"> Non-trainable params: </span><span style=\"color: #00af00; text-decoration-color: #00af00\">0</span> (0.00 B)\n",
       "</pre>\n"
      ],
      "text/plain": [
       "\u001b[1m Non-trainable params: \u001b[0m\u001b[38;5;34m0\u001b[0m (0.00 B)\n"
      ]
     },
     "metadata": {},
     "output_type": "display_data"
    }
   ],
   "source": [
    "from tensorflow.keras import models\n",
    "from tensorflow.keras import layers\n",
    "\n",
    "def create_model():\n",
    "    nn = models.Sequential([\n",
    "    layers.Dense(32, input_dim=X.shape[1], kernel_initializer='glorot_uniform', activation=\"relu\"),\n",
    "    layers.Dense(16, kernel_initializer='glorot_uniform', activation=\"relu\"),\n",
    "    layers.Dense(1, kernel_initializer='glorot_uniform', activation=\"sigmoid\")])\n",
    "    nn.compile(loss='binary_crossentropy', optimizer='adam', metrics=['accuracy'])\n",
    "\n",
    "    return nn\n",
    "\n",
    "create_model().summary()"
   ]
  },
  {
   "cell_type": "code",
   "execution_count": 17,
   "metadata": {},
   "outputs": [
    {
     "name": "stderr",
     "output_type": "stream",
     "text": [
      "/home/mantunes/git/aas/venv/lib64/python3.12/site-packages/keras/src/layers/core/dense.py:87: UserWarning: Do not pass an `input_shape`/`input_dim` argument to a layer. When using Sequential models, prefer using an `Input(shape)` object as the first layer in the model instead.\n",
      "  super().__init__(activity_regularizer=activity_regularizer, **kwargs)\n"
     ]
    },
    {
     "data": {
      "text/html": [
       "<style>#sk-container-id-1 {\n",
       "  /* Definition of color scheme common for light and dark mode */\n",
       "  --sklearn-color-text: black;\n",
       "  --sklearn-color-line: gray;\n",
       "  /* Definition of color scheme for unfitted estimators */\n",
       "  --sklearn-color-unfitted-level-0: #fff5e6;\n",
       "  --sklearn-color-unfitted-level-1: #f6e4d2;\n",
       "  --sklearn-color-unfitted-level-2: #ffe0b3;\n",
       "  --sklearn-color-unfitted-level-3: chocolate;\n",
       "  /* Definition of color scheme for fitted estimators */\n",
       "  --sklearn-color-fitted-level-0: #f0f8ff;\n",
       "  --sklearn-color-fitted-level-1: #d4ebff;\n",
       "  --sklearn-color-fitted-level-2: #b3dbfd;\n",
       "  --sklearn-color-fitted-level-3: cornflowerblue;\n",
       "\n",
       "  /* Specific color for light theme */\n",
       "  --sklearn-color-text-on-default-background: var(--sg-text-color, var(--theme-code-foreground, var(--jp-content-font-color1, black)));\n",
       "  --sklearn-color-background: var(--sg-background-color, var(--theme-background, var(--jp-layout-color0, white)));\n",
       "  --sklearn-color-border-box: var(--sg-text-color, var(--theme-code-foreground, var(--jp-content-font-color1, black)));\n",
       "  --sklearn-color-icon: #696969;\n",
       "\n",
       "  @media (prefers-color-scheme: dark) {\n",
       "    /* Redefinition of color scheme for dark theme */\n",
       "    --sklearn-color-text-on-default-background: var(--sg-text-color, var(--theme-code-foreground, var(--jp-content-font-color1, white)));\n",
       "    --sklearn-color-background: var(--sg-background-color, var(--theme-background, var(--jp-layout-color0, #111)));\n",
       "    --sklearn-color-border-box: var(--sg-text-color, var(--theme-code-foreground, var(--jp-content-font-color1, white)));\n",
       "    --sklearn-color-icon: #878787;\n",
       "  }\n",
       "}\n",
       "\n",
       "#sk-container-id-1 {\n",
       "  color: var(--sklearn-color-text);\n",
       "}\n",
       "\n",
       "#sk-container-id-1 pre {\n",
       "  padding: 0;\n",
       "}\n",
       "\n",
       "#sk-container-id-1 input.sk-hidden--visually {\n",
       "  border: 0;\n",
       "  clip: rect(1px 1px 1px 1px);\n",
       "  clip: rect(1px, 1px, 1px, 1px);\n",
       "  height: 1px;\n",
       "  margin: -1px;\n",
       "  overflow: hidden;\n",
       "  padding: 0;\n",
       "  position: absolute;\n",
       "  width: 1px;\n",
       "}\n",
       "\n",
       "#sk-container-id-1 div.sk-dashed-wrapped {\n",
       "  border: 1px dashed var(--sklearn-color-line);\n",
       "  margin: 0 0.4em 0.5em 0.4em;\n",
       "  box-sizing: border-box;\n",
       "  padding-bottom: 0.4em;\n",
       "  background-color: var(--sklearn-color-background);\n",
       "}\n",
       "\n",
       "#sk-container-id-1 div.sk-container {\n",
       "  /* jupyter's `normalize.less` sets `[hidden] { display: none; }`\n",
       "     but bootstrap.min.css set `[hidden] { display: none !important; }`\n",
       "     so we also need the `!important` here to be able to override the\n",
       "     default hidden behavior on the sphinx rendered scikit-learn.org.\n",
       "     See: https://github.com/scikit-learn/scikit-learn/issues/21755 */\n",
       "  display: inline-block !important;\n",
       "  position: relative;\n",
       "}\n",
       "\n",
       "#sk-container-id-1 div.sk-text-repr-fallback {\n",
       "  display: none;\n",
       "}\n",
       "\n",
       "div.sk-parallel-item,\n",
       "div.sk-serial,\n",
       "div.sk-item {\n",
       "  /* draw centered vertical line to link estimators */\n",
       "  background-image: linear-gradient(var(--sklearn-color-text-on-default-background), var(--sklearn-color-text-on-default-background));\n",
       "  background-size: 2px 100%;\n",
       "  background-repeat: no-repeat;\n",
       "  background-position: center center;\n",
       "}\n",
       "\n",
       "/* Parallel-specific style estimator block */\n",
       "\n",
       "#sk-container-id-1 div.sk-parallel-item::after {\n",
       "  content: \"\";\n",
       "  width: 100%;\n",
       "  border-bottom: 2px solid var(--sklearn-color-text-on-default-background);\n",
       "  flex-grow: 1;\n",
       "}\n",
       "\n",
       "#sk-container-id-1 div.sk-parallel {\n",
       "  display: flex;\n",
       "  align-items: stretch;\n",
       "  justify-content: center;\n",
       "  background-color: var(--sklearn-color-background);\n",
       "  position: relative;\n",
       "}\n",
       "\n",
       "#sk-container-id-1 div.sk-parallel-item {\n",
       "  display: flex;\n",
       "  flex-direction: column;\n",
       "}\n",
       "\n",
       "#sk-container-id-1 div.sk-parallel-item:first-child::after {\n",
       "  align-self: flex-end;\n",
       "  width: 50%;\n",
       "}\n",
       "\n",
       "#sk-container-id-1 div.sk-parallel-item:last-child::after {\n",
       "  align-self: flex-start;\n",
       "  width: 50%;\n",
       "}\n",
       "\n",
       "#sk-container-id-1 div.sk-parallel-item:only-child::after {\n",
       "  width: 0;\n",
       "}\n",
       "\n",
       "/* Serial-specific style estimator block */\n",
       "\n",
       "#sk-container-id-1 div.sk-serial {\n",
       "  display: flex;\n",
       "  flex-direction: column;\n",
       "  align-items: center;\n",
       "  background-color: var(--sklearn-color-background);\n",
       "  padding-right: 1em;\n",
       "  padding-left: 1em;\n",
       "}\n",
       "\n",
       "\n",
       "/* Toggleable style: style used for estimator/Pipeline/ColumnTransformer box that is\n",
       "clickable and can be expanded/collapsed.\n",
       "- Pipeline and ColumnTransformer use this feature and define the default style\n",
       "- Estimators will overwrite some part of the style using the `sk-estimator` class\n",
       "*/\n",
       "\n",
       "/* Pipeline and ColumnTransformer style (default) */\n",
       "\n",
       "#sk-container-id-1 div.sk-toggleable {\n",
       "  /* Default theme specific background. It is overwritten whether we have a\n",
       "  specific estimator or a Pipeline/ColumnTransformer */\n",
       "  background-color: var(--sklearn-color-background);\n",
       "}\n",
       "\n",
       "/* Toggleable label */\n",
       "#sk-container-id-1 label.sk-toggleable__label {\n",
       "  cursor: pointer;\n",
       "  display: block;\n",
       "  width: 100%;\n",
       "  margin-bottom: 0;\n",
       "  padding: 0.5em;\n",
       "  box-sizing: border-box;\n",
       "  text-align: center;\n",
       "}\n",
       "\n",
       "#sk-container-id-1 label.sk-toggleable__label-arrow:before {\n",
       "  /* Arrow on the left of the label */\n",
       "  content: \"▸\";\n",
       "  float: left;\n",
       "  margin-right: 0.25em;\n",
       "  color: var(--sklearn-color-icon);\n",
       "}\n",
       "\n",
       "#sk-container-id-1 label.sk-toggleable__label-arrow:hover:before {\n",
       "  color: var(--sklearn-color-text);\n",
       "}\n",
       "\n",
       "/* Toggleable content - dropdown */\n",
       "\n",
       "#sk-container-id-1 div.sk-toggleable__content {\n",
       "  max-height: 0;\n",
       "  max-width: 0;\n",
       "  overflow: hidden;\n",
       "  text-align: left;\n",
       "  /* unfitted */\n",
       "  background-color: var(--sklearn-color-unfitted-level-0);\n",
       "}\n",
       "\n",
       "#sk-container-id-1 div.sk-toggleable__content.fitted {\n",
       "  /* fitted */\n",
       "  background-color: var(--sklearn-color-fitted-level-0);\n",
       "}\n",
       "\n",
       "#sk-container-id-1 div.sk-toggleable__content pre {\n",
       "  margin: 0.2em;\n",
       "  border-radius: 0.25em;\n",
       "  color: var(--sklearn-color-text);\n",
       "  /* unfitted */\n",
       "  background-color: var(--sklearn-color-unfitted-level-0);\n",
       "}\n",
       "\n",
       "#sk-container-id-1 div.sk-toggleable__content.fitted pre {\n",
       "  /* unfitted */\n",
       "  background-color: var(--sklearn-color-fitted-level-0);\n",
       "}\n",
       "\n",
       "#sk-container-id-1 input.sk-toggleable__control:checked~div.sk-toggleable__content {\n",
       "  /* Expand drop-down */\n",
       "  max-height: 200px;\n",
       "  max-width: 100%;\n",
       "  overflow: auto;\n",
       "}\n",
       "\n",
       "#sk-container-id-1 input.sk-toggleable__control:checked~label.sk-toggleable__label-arrow:before {\n",
       "  content: \"▾\";\n",
       "}\n",
       "\n",
       "/* Pipeline/ColumnTransformer-specific style */\n",
       "\n",
       "#sk-container-id-1 div.sk-label input.sk-toggleable__control:checked~label.sk-toggleable__label {\n",
       "  color: var(--sklearn-color-text);\n",
       "  background-color: var(--sklearn-color-unfitted-level-2);\n",
       "}\n",
       "\n",
       "#sk-container-id-1 div.sk-label.fitted input.sk-toggleable__control:checked~label.sk-toggleable__label {\n",
       "  background-color: var(--sklearn-color-fitted-level-2);\n",
       "}\n",
       "\n",
       "/* Estimator-specific style */\n",
       "\n",
       "/* Colorize estimator box */\n",
       "#sk-container-id-1 div.sk-estimator input.sk-toggleable__control:checked~label.sk-toggleable__label {\n",
       "  /* unfitted */\n",
       "  background-color: var(--sklearn-color-unfitted-level-2);\n",
       "}\n",
       "\n",
       "#sk-container-id-1 div.sk-estimator.fitted input.sk-toggleable__control:checked~label.sk-toggleable__label {\n",
       "  /* fitted */\n",
       "  background-color: var(--sklearn-color-fitted-level-2);\n",
       "}\n",
       "\n",
       "#sk-container-id-1 div.sk-label label.sk-toggleable__label,\n",
       "#sk-container-id-1 div.sk-label label {\n",
       "  /* The background is the default theme color */\n",
       "  color: var(--sklearn-color-text-on-default-background);\n",
       "}\n",
       "\n",
       "/* On hover, darken the color of the background */\n",
       "#sk-container-id-1 div.sk-label:hover label.sk-toggleable__label {\n",
       "  color: var(--sklearn-color-text);\n",
       "  background-color: var(--sklearn-color-unfitted-level-2);\n",
       "}\n",
       "\n",
       "/* Label box, darken color on hover, fitted */\n",
       "#sk-container-id-1 div.sk-label.fitted:hover label.sk-toggleable__label.fitted {\n",
       "  color: var(--sklearn-color-text);\n",
       "  background-color: var(--sklearn-color-fitted-level-2);\n",
       "}\n",
       "\n",
       "/* Estimator label */\n",
       "\n",
       "#sk-container-id-1 div.sk-label label {\n",
       "  font-family: monospace;\n",
       "  font-weight: bold;\n",
       "  display: inline-block;\n",
       "  line-height: 1.2em;\n",
       "}\n",
       "\n",
       "#sk-container-id-1 div.sk-label-container {\n",
       "  text-align: center;\n",
       "}\n",
       "\n",
       "/* Estimator-specific */\n",
       "#sk-container-id-1 div.sk-estimator {\n",
       "  font-family: monospace;\n",
       "  border: 1px dotted var(--sklearn-color-border-box);\n",
       "  border-radius: 0.25em;\n",
       "  box-sizing: border-box;\n",
       "  margin-bottom: 0.5em;\n",
       "  /* unfitted */\n",
       "  background-color: var(--sklearn-color-unfitted-level-0);\n",
       "}\n",
       "\n",
       "#sk-container-id-1 div.sk-estimator.fitted {\n",
       "  /* fitted */\n",
       "  background-color: var(--sklearn-color-fitted-level-0);\n",
       "}\n",
       "\n",
       "/* on hover */\n",
       "#sk-container-id-1 div.sk-estimator:hover {\n",
       "  /* unfitted */\n",
       "  background-color: var(--sklearn-color-unfitted-level-2);\n",
       "}\n",
       "\n",
       "#sk-container-id-1 div.sk-estimator.fitted:hover {\n",
       "  /* fitted */\n",
       "  background-color: var(--sklearn-color-fitted-level-2);\n",
       "}\n",
       "\n",
       "/* Specification for estimator info (e.g. \"i\" and \"?\") */\n",
       "\n",
       "/* Common style for \"i\" and \"?\" */\n",
       "\n",
       ".sk-estimator-doc-link,\n",
       "a:link.sk-estimator-doc-link,\n",
       "a:visited.sk-estimator-doc-link {\n",
       "  float: right;\n",
       "  font-size: smaller;\n",
       "  line-height: 1em;\n",
       "  font-family: monospace;\n",
       "  background-color: var(--sklearn-color-background);\n",
       "  border-radius: 1em;\n",
       "  height: 1em;\n",
       "  width: 1em;\n",
       "  text-decoration: none !important;\n",
       "  margin-left: 1ex;\n",
       "  /* unfitted */\n",
       "  border: var(--sklearn-color-unfitted-level-1) 1pt solid;\n",
       "  color: var(--sklearn-color-unfitted-level-1);\n",
       "}\n",
       "\n",
       ".sk-estimator-doc-link.fitted,\n",
       "a:link.sk-estimator-doc-link.fitted,\n",
       "a:visited.sk-estimator-doc-link.fitted {\n",
       "  /* fitted */\n",
       "  border: var(--sklearn-color-fitted-level-1) 1pt solid;\n",
       "  color: var(--sklearn-color-fitted-level-1);\n",
       "}\n",
       "\n",
       "/* On hover */\n",
       "div.sk-estimator:hover .sk-estimator-doc-link:hover,\n",
       ".sk-estimator-doc-link:hover,\n",
       "div.sk-label-container:hover .sk-estimator-doc-link:hover,\n",
       ".sk-estimator-doc-link:hover {\n",
       "  /* unfitted */\n",
       "  background-color: var(--sklearn-color-unfitted-level-3);\n",
       "  color: var(--sklearn-color-background);\n",
       "  text-decoration: none;\n",
       "}\n",
       "\n",
       "div.sk-estimator.fitted:hover .sk-estimator-doc-link.fitted:hover,\n",
       ".sk-estimator-doc-link.fitted:hover,\n",
       "div.sk-label-container:hover .sk-estimator-doc-link.fitted:hover,\n",
       ".sk-estimator-doc-link.fitted:hover {\n",
       "  /* fitted */\n",
       "  background-color: var(--sklearn-color-fitted-level-3);\n",
       "  color: var(--sklearn-color-background);\n",
       "  text-decoration: none;\n",
       "}\n",
       "\n",
       "/* Span, style for the box shown on hovering the info icon */\n",
       ".sk-estimator-doc-link span {\n",
       "  display: none;\n",
       "  z-index: 9999;\n",
       "  position: relative;\n",
       "  font-weight: normal;\n",
       "  right: .2ex;\n",
       "  padding: .5ex;\n",
       "  margin: .5ex;\n",
       "  width: min-content;\n",
       "  min-width: 20ex;\n",
       "  max-width: 50ex;\n",
       "  color: var(--sklearn-color-text);\n",
       "  box-shadow: 2pt 2pt 4pt #999;\n",
       "  /* unfitted */\n",
       "  background: var(--sklearn-color-unfitted-level-0);\n",
       "  border: .5pt solid var(--sklearn-color-unfitted-level-3);\n",
       "}\n",
       "\n",
       ".sk-estimator-doc-link.fitted span {\n",
       "  /* fitted */\n",
       "  background: var(--sklearn-color-fitted-level-0);\n",
       "  border: var(--sklearn-color-fitted-level-3);\n",
       "}\n",
       "\n",
       ".sk-estimator-doc-link:hover span {\n",
       "  display: block;\n",
       "}\n",
       "\n",
       "/* \"?\"-specific style due to the `<a>` HTML tag */\n",
       "\n",
       "#sk-container-id-1 a.estimator_doc_link {\n",
       "  float: right;\n",
       "  font-size: 1rem;\n",
       "  line-height: 1em;\n",
       "  font-family: monospace;\n",
       "  background-color: var(--sklearn-color-background);\n",
       "  border-radius: 1rem;\n",
       "  height: 1rem;\n",
       "  width: 1rem;\n",
       "  text-decoration: none;\n",
       "  /* unfitted */\n",
       "  color: var(--sklearn-color-unfitted-level-1);\n",
       "  border: var(--sklearn-color-unfitted-level-1) 1pt solid;\n",
       "}\n",
       "\n",
       "#sk-container-id-1 a.estimator_doc_link.fitted {\n",
       "  /* fitted */\n",
       "  border: var(--sklearn-color-fitted-level-1) 1pt solid;\n",
       "  color: var(--sklearn-color-fitted-level-1);\n",
       "}\n",
       "\n",
       "/* On hover */\n",
       "#sk-container-id-1 a.estimator_doc_link:hover {\n",
       "  /* unfitted */\n",
       "  background-color: var(--sklearn-color-unfitted-level-3);\n",
       "  color: var(--sklearn-color-background);\n",
       "  text-decoration: none;\n",
       "}\n",
       "\n",
       "#sk-container-id-1 a.estimator_doc_link.fitted:hover {\n",
       "  /* fitted */\n",
       "  background-color: var(--sklearn-color-fitted-level-3);\n",
       "}\n",
       "</style><div id=\"sk-container-id-1\" class=\"sk-top-container\"><div class=\"sk-text-repr-fallback\"><pre>KerasClassifier(\n",
       "\tmodel=&lt;function create_model at 0x7f707c3b74c0&gt;\n",
       "\tbuild_fn=None\n",
       "\twarm_start=False\n",
       "\trandom_state=None\n",
       "\toptimizer=rmsprop\n",
       "\tloss=None\n",
       "\tmetrics=None\n",
       "\tbatch_size=128\n",
       "\tvalidation_batch_size=None\n",
       "\tverbose=0\n",
       "\tcallbacks=None\n",
       "\tvalidation_split=0.0\n",
       "\tshuffle=True\n",
       "\trun_eagerly=False\n",
       "\tepochs=10\n",
       "\tclass_weight=None\n",
       ")</pre><b>In a Jupyter environment, please rerun this cell to show the HTML representation or trust the notebook. <br />On GitHub, the HTML representation is unable to render, please try loading this page with nbviewer.org.</b></div><div class=\"sk-container\" hidden><div class=\"sk-item\"><div class=\"sk-estimator fitted sk-toggleable\"><input class=\"sk-toggleable__control sk-hidden--visually\" id=\"sk-estimator-id-1\" type=\"checkbox\" checked><label for=\"sk-estimator-id-1\" class=\"sk-toggleable__label fitted sk-toggleable__label-arrow fitted\">&nbsp;KerasClassifier<span class=\"sk-estimator-doc-link fitted\">i<span>Fitted</span></span></label><div class=\"sk-toggleable__content fitted\"><pre>KerasClassifier(\n",
       "\tmodel=&lt;function create_model at 0x7f707c3b74c0&gt;\n",
       "\tbuild_fn=None\n",
       "\twarm_start=False\n",
       "\trandom_state=None\n",
       "\toptimizer=rmsprop\n",
       "\tloss=None\n",
       "\tmetrics=None\n",
       "\tbatch_size=128\n",
       "\tvalidation_batch_size=None\n",
       "\tverbose=0\n",
       "\tcallbacks=None\n",
       "\tvalidation_split=0.0\n",
       "\tshuffle=True\n",
       "\trun_eagerly=False\n",
       "\tepochs=10\n",
       "\tclass_weight=None\n",
       ")</pre></div> </div></div></div></div>"
      ],
      "text/plain": [
       "KerasClassifier(\n",
       "\tmodel=<function create_model at 0x7f707c3b74c0>\n",
       "\tbuild_fn=None\n",
       "\twarm_start=False\n",
       "\trandom_state=None\n",
       "\toptimizer=rmsprop\n",
       "\tloss=None\n",
       "\tmetrics=None\n",
       "\tbatch_size=128\n",
       "\tvalidation_batch_size=None\n",
       "\tverbose=0\n",
       "\tcallbacks=None\n",
       "\tvalidation_split=0.0\n",
       "\tshuffle=True\n",
       "\trun_eagerly=False\n",
       "\tepochs=10\n",
       "\tclass_weight=None\n",
       ")"
      ]
     },
     "execution_count": 17,
     "metadata": {},
     "output_type": "execute_result"
    }
   ],
   "source": [
    "from scikeras.wrappers import KerasClassifier\n",
    "\n",
    "clf = KerasClassifier(model=create_model, verbose=0, epochs=10, batch_size=128)\n",
    "\n",
    "# fit the model\n",
    "clf.fit(X_train, y_train)"
   ]
  },
  {
   "cell_type": "code",
   "execution_count": 18,
   "metadata": {},
   "outputs": [
    {
     "name": "stdout",
     "output_type": "stream",
     "text": [
      "              precision    recall  f1-score   support\n",
      "\n",
      "      Benign       1.00      1.00      1.00     10030\n",
      "     Malware       1.00      1.00      1.00      9970\n",
      "\n",
      "    accuracy                           1.00     20000\n",
      "   macro avg       1.00      1.00      1.00     20000\n",
      "weighted avg       1.00      1.00      1.00     20000\n",
      "\n"
     ]
    }
   ],
   "source": [
    "y_pred = clf.predict(X_test)\n",
    "print(classification_report(y_test, y_pred, target_names=['Benign', 'Malware']))"
   ]
  },
  {
   "cell_type": "markdown",
   "metadata": {},
   "source": [
    "## Using Keras Directly"
   ]
  },
  {
   "cell_type": "code",
   "execution_count": 19,
   "metadata": {},
   "outputs": [
    {
     "name": "stderr",
     "output_type": "stream",
     "text": [
      "/home/mantunes/git/aas/venv/lib64/python3.12/site-packages/keras/src/layers/core/dense.py:87: UserWarning: Do not pass an `input_shape`/`input_dim` argument to a layer. When using Sequential models, prefer using an `Input(shape)` object as the first layer in the model instead.\n",
      "  super().__init__(activity_regularizer=activity_regularizer, **kwargs)\n"
     ]
    },
    {
     "data": {
      "text/html": [
       "<pre style=\"white-space:pre;overflow-x:auto;line-height:normal;font-family:Menlo,'DejaVu Sans Mono',consolas,'Courier New',monospace\"><span style=\"font-weight: bold\">Model: \"sequential_2\"</span>\n",
       "</pre>\n"
      ],
      "text/plain": [
       "\u001b[1mModel: \"sequential_2\"\u001b[0m\n"
      ]
     },
     "metadata": {},
     "output_type": "display_data"
    },
    {
     "data": {
      "text/html": [
       "<pre style=\"white-space:pre;overflow-x:auto;line-height:normal;font-family:Menlo,'DejaVu Sans Mono',consolas,'Courier New',monospace\">┏━━━━━━━━━━━━━━━━━━━━━━━━━━━━━━━━━┳━━━━━━━━━━━━━━━━━━━━━━━━┳━━━━━━━━━━━━━━━┓\n",
       "┃<span style=\"font-weight: bold\"> Layer (type)                    </span>┃<span style=\"font-weight: bold\"> Output Shape           </span>┃<span style=\"font-weight: bold\">       Param # </span>┃\n",
       "┡━━━━━━━━━━━━━━━━━━━━━━━━━━━━━━━━━╇━━━━━━━━━━━━━━━━━━━━━━━━╇━━━━━━━━━━━━━━━┩\n",
       "│ dense_6 (<span style=\"color: #0087ff; text-decoration-color: #0087ff\">Dense</span>)                 │ (<span style=\"color: #00d7ff; text-decoration-color: #00d7ff\">None</span>, <span style=\"color: #00af00; text-decoration-color: #00af00\">16</span>)             │           <span style=\"color: #00af00; text-decoration-color: #00af00\">352</span> │\n",
       "├─────────────────────────────────┼────────────────────────┼───────────────┤\n",
       "│ dense_7 (<span style=\"color: #0087ff; text-decoration-color: #0087ff\">Dense</span>)                 │ (<span style=\"color: #00d7ff; text-decoration-color: #00d7ff\">None</span>, <span style=\"color: #00af00; text-decoration-color: #00af00\">8</span>)              │           <span style=\"color: #00af00; text-decoration-color: #00af00\">136</span> │\n",
       "├─────────────────────────────────┼────────────────────────┼───────────────┤\n",
       "│ dense_8 (<span style=\"color: #0087ff; text-decoration-color: #0087ff\">Dense</span>)                 │ (<span style=\"color: #00d7ff; text-decoration-color: #00d7ff\">None</span>, <span style=\"color: #00af00; text-decoration-color: #00af00\">1</span>)              │             <span style=\"color: #00af00; text-decoration-color: #00af00\">9</span> │\n",
       "└─────────────────────────────────┴────────────────────────┴───────────────┘\n",
       "</pre>\n"
      ],
      "text/plain": [
       "┏━━━━━━━━━━━━━━━━━━━━━━━━━━━━━━━━━┳━━━━━━━━━━━━━━━━━━━━━━━━┳━━━━━━━━━━━━━━━┓\n",
       "┃\u001b[1m \u001b[0m\u001b[1mLayer (type)                   \u001b[0m\u001b[1m \u001b[0m┃\u001b[1m \u001b[0m\u001b[1mOutput Shape          \u001b[0m\u001b[1m \u001b[0m┃\u001b[1m \u001b[0m\u001b[1m      Param #\u001b[0m\u001b[1m \u001b[0m┃\n",
       "┡━━━━━━━━━━━━━━━━━━━━━━━━━━━━━━━━━╇━━━━━━━━━━━━━━━━━━━━━━━━╇━━━━━━━━━━━━━━━┩\n",
       "│ dense_6 (\u001b[38;5;33mDense\u001b[0m)                 │ (\u001b[38;5;45mNone\u001b[0m, \u001b[38;5;34m16\u001b[0m)             │           \u001b[38;5;34m352\u001b[0m │\n",
       "├─────────────────────────────────┼────────────────────────┼───────────────┤\n",
       "│ dense_7 (\u001b[38;5;33mDense\u001b[0m)                 │ (\u001b[38;5;45mNone\u001b[0m, \u001b[38;5;34m8\u001b[0m)              │           \u001b[38;5;34m136\u001b[0m │\n",
       "├─────────────────────────────────┼────────────────────────┼───────────────┤\n",
       "│ dense_8 (\u001b[38;5;33mDense\u001b[0m)                 │ (\u001b[38;5;45mNone\u001b[0m, \u001b[38;5;34m1\u001b[0m)              │             \u001b[38;5;34m9\u001b[0m │\n",
       "└─────────────────────────────────┴────────────────────────┴───────────────┘\n"
      ]
     },
     "metadata": {},
     "output_type": "display_data"
    },
    {
     "data": {
      "text/html": [
       "<pre style=\"white-space:pre;overflow-x:auto;line-height:normal;font-family:Menlo,'DejaVu Sans Mono',consolas,'Courier New',monospace\"><span style=\"font-weight: bold\"> Total params: </span><span style=\"color: #00af00; text-decoration-color: #00af00\">497</span> (1.94 KB)\n",
       "</pre>\n"
      ],
      "text/plain": [
       "\u001b[1m Total params: \u001b[0m\u001b[38;5;34m497\u001b[0m (1.94 KB)\n"
      ]
     },
     "metadata": {},
     "output_type": "display_data"
    },
    {
     "data": {
      "text/html": [
       "<pre style=\"white-space:pre;overflow-x:auto;line-height:normal;font-family:Menlo,'DejaVu Sans Mono',consolas,'Courier New',monospace\"><span style=\"font-weight: bold\"> Trainable params: </span><span style=\"color: #00af00; text-decoration-color: #00af00\">497</span> (1.94 KB)\n",
       "</pre>\n"
      ],
      "text/plain": [
       "\u001b[1m Trainable params: \u001b[0m\u001b[38;5;34m497\u001b[0m (1.94 KB)\n"
      ]
     },
     "metadata": {},
     "output_type": "display_data"
    },
    {
     "data": {
      "text/html": [
       "<pre style=\"white-space:pre;overflow-x:auto;line-height:normal;font-family:Menlo,'DejaVu Sans Mono',consolas,'Courier New',monospace\"><span style=\"font-weight: bold\"> Non-trainable params: </span><span style=\"color: #00af00; text-decoration-color: #00af00\">0</span> (0.00 B)\n",
       "</pre>\n"
      ],
      "text/plain": [
       "\u001b[1m Non-trainable params: \u001b[0m\u001b[38;5;34m0\u001b[0m (0.00 B)\n"
      ]
     },
     "metadata": {},
     "output_type": "display_data"
    }
   ],
   "source": [
    "# create model\n",
    "nn = models.Sequential()\n",
    "\n",
    "nn.add(layers.Dense(16, input_dim=X.shape[1], kernel_initializer='glorot_uniform', activation=\"relu\"))\n",
    "nn.add(layers.Dense(8, kernel_initializer='glorot_uniform', activation=\"relu\"))\n",
    "nn.add(layers.Dense(1, kernel_initializer='glorot_uniform', activation=\"sigmoid\"))\n",
    "\n",
    "nn.compile(loss='binary_crossentropy', optimizer='rmsprop', metrics=['accuracy'])\n",
    "\n",
    "nn.summary()"
   ]
  },
  {
   "cell_type": "code",
   "execution_count": 20,
   "metadata": {},
   "outputs": [
    {
     "name": "stdout",
     "output_type": "stream",
     "text": [
      "Epoch 1/10\n",
      "\u001b[1m2500/2500\u001b[0m \u001b[32m━━━━━━━━━━━━━━━━━━━━\u001b[0m\u001b[37m\u001b[0m \u001b[1m5s\u001b[0m 2ms/step - accuracy: 0.8777 - loss: 0.2988 - val_accuracy: 0.9958 - val_loss: 0.0300\n",
      "Epoch 2/10\n",
      "\u001b[1m2500/2500\u001b[0m \u001b[32m━━━━━━━━━━━━━━━━━━━━\u001b[0m\u001b[37m\u001b[0m \u001b[1m5s\u001b[0m 2ms/step - accuracy: 0.9940 - loss: 0.0246 - val_accuracy: 0.9970 - val_loss: 0.0134\n",
      "Epoch 3/10\n",
      "\u001b[1m2500/2500\u001b[0m \u001b[32m━━━━━━━━━━━━━━━━━━━━\u001b[0m\u001b[37m\u001b[0m \u001b[1m4s\u001b[0m 2ms/step - accuracy: 0.9969 - loss: 0.0107 - val_accuracy: 0.9980 - val_loss: 0.0079\n",
      "Epoch 4/10\n",
      "\u001b[1m2500/2500\u001b[0m \u001b[32m━━━━━━━━━━━━━━━━━━━━\u001b[0m\u001b[37m\u001b[0m \u001b[1m4s\u001b[0m 2ms/step - accuracy: 0.9981 - loss: 0.0078 - val_accuracy: 0.9990 - val_loss: 0.0044\n",
      "Epoch 5/10\n",
      "\u001b[1m2500/2500\u001b[0m \u001b[32m━━━━━━━━━━━━━━━━━━━━\u001b[0m\u001b[37m\u001b[0m \u001b[1m5s\u001b[0m 2ms/step - accuracy: 0.9987 - loss: 0.0059 - val_accuracy: 0.9991 - val_loss: 0.0040\n",
      "Epoch 6/10\n",
      "\u001b[1m2500/2500\u001b[0m \u001b[32m━━━━━━━━━━━━━━━━━━━━\u001b[0m\u001b[37m\u001b[0m \u001b[1m4s\u001b[0m 2ms/step - accuracy: 0.9992 - loss: 0.0031 - val_accuracy: 0.9993 - val_loss: 0.0020\n",
      "Epoch 7/10\n",
      "\u001b[1m2500/2500\u001b[0m \u001b[32m━━━━━━━━━━━━━━━━━━━━\u001b[0m\u001b[37m\u001b[0m \u001b[1m4s\u001b[0m 2ms/step - accuracy: 0.9992 - loss: 0.0029 - val_accuracy: 0.9995 - val_loss: 0.0021\n",
      "Epoch 8/10\n",
      "\u001b[1m2500/2500\u001b[0m \u001b[32m━━━━━━━━━━━━━━━━━━━━\u001b[0m\u001b[37m\u001b[0m \u001b[1m4s\u001b[0m 2ms/step - accuracy: 0.9994 - loss: 0.0031 - val_accuracy: 0.9997 - val_loss: 0.0018\n",
      "Epoch 9/10\n",
      "\u001b[1m2500/2500\u001b[0m \u001b[32m━━━━━━━━━━━━━━━━━━━━\u001b[0m\u001b[37m\u001b[0m \u001b[1m4s\u001b[0m 2ms/step - accuracy: 0.9995 - loss: 0.0023 - val_accuracy: 0.9997 - val_loss: 0.0023\n",
      "Epoch 10/10\n",
      "\u001b[1m2500/2500\u001b[0m \u001b[32m━━━━━━━━━━━━━━━━━━━━\u001b[0m\u001b[37m\u001b[0m \u001b[1m4s\u001b[0m 2ms/step - accuracy: 0.9996 - loss: 0.0016 - val_accuracy: 0.9996 - val_loss: 0.0027\n"
     ]
    }
   ],
   "source": [
    "history = nn.fit(X_train, y_train, epochs=10, batch_size=32, validation_data=(X_test, y_test))"
   ]
  },
  {
   "cell_type": "code",
   "execution_count": 21,
   "metadata": {},
   "outputs": [
    {
     "name": "stdout",
     "output_type": "stream",
     "text": [
      "dict_keys(['accuracy', 'loss', 'val_accuracy', 'val_loss'])\n"
     ]
    },
    {
     "data": {
      "image/png": "[encoded data removed]",
      "text/plain": [
       "<Figure size 1500x700 with 1 Axes>"
      ]
     },
     "metadata": {},
     "output_type": "display_data"
    },
    {
     "data": {
      "image/png": "[encoded data removed]",
      "text/plain": [
       "<Figure size 1500x700 with 1 Axes>"
      ]
     },
     "metadata": {},
     "output_type": "display_data"
    }
   ],
   "source": [
    "# list all data in history\n",
    "print(history.history.keys())\n",
    "# summarize history for accuracy\n",
    "plt.plot(history.history['accuracy'])\n",
    "plt.plot(history.history['val_accuracy'])\n",
    "plt.title('model accuracy')\n",
    "plt.ylabel('accuracy')\n",
    "plt.xlabel('epoch')\n",
    "plt.legend(['train', 'test'], loc='upper left')\n",
    "plt.show()\n",
    "# summarize history for loss\n",
    "plt.plot(history.history['loss'])\n",
    "plt.plot(history.history['val_loss'])\n",
    "plt.title('model loss')\n",
    "plt.ylabel('loss')\n",
    "plt.xlabel('epoch')\n",
    "plt.legend(['train', 'test'], loc='upper left')\n",
    "plt.show()"
   ]
  }
 ],
 "metadata": {
  "kernelspec": {
   "display_name": "venv",
   "language": "python",
   "name": "python3"
  },
  "language_info": {
   "codemirror_mode": {
    "name": "ipython",
    "version": 3
   },
   "file_extension": ".py",
   "mimetype": "text/x-python",
   "name": "python",
   "nbconvert_exporter": "python",
   "pygments_lexer": "ipython3",
   "version": "3.12.8"
  }
 },
 "nbformat": 4,
 "nbformat_minor": 2
}
