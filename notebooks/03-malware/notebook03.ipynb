{
  "cells": [
    {
      "cell_type": "markdown",
      "metadata": {
        "id": "LsyWEfBiiV3P"
      },
      "source": [
        "# Comparing two classifiers\n",
        "\n",
        "The choice of a [statistical hypothesis test](https://machinelearningmastery.com/statistical-hypothesis-tests/) is a challenging open problem for interpreting machine learning results.\n",
        "\n",
        "Model Evaluation is the subsidiary part of the model development process. It is the phase that is decided whether the model performs better. Therefore, it is critical to consider the model outcomes according to every possible evaluation method. Applying different methods can provide different perspectives.\n",
        "\n",
        "One of the mistakes while evaluating the classification model is considering only the true cases. It means that looking for only how the model estimates actual cases correctly. Therefore, when the results are unsatisfactory, people try to apply different methods or different variations to get the result that makes them satisfied, without considering the main reason for that result. It shouldn’t be forgotten the accuracy also depends on the false predictions as much as it depends on the true predictions. Thus, false predictions also have to be taken into consideration before rendering a certain verdict. These are the predictions which we want to be as minimum as possible. The metrics called Recall and Precision slightly explain the performance of the positive classes (or negative) by considering the false cases too. But, what I try to say is, the false positives and the false negatives should be compared like they are compared for the true cases. This is where the McNemar test should be used for obtaining a probability of difference between the cases of false negative and false positives.\n",
        "\n",
        "McNemar’s test is applied to $2\\times 2$ contingency tables to find whether row and column marginal frequencies are equal for paired samples. What row and column marginal frequencies mean for confusion matrices is the number of false predictions for both positive and negative classes. It uses the Chi-Square distribution to determine the probability of difference.\n",
        "\n",
        "![mcnemar](https://media.githubusercontent.com/media/mariolpantunes/ml101/main/figs/mcnemar.png)\n"
      ]
    },
    {
      "cell_type": "code",
      "execution_count": 9,
      "metadata": {
        "id": "CDE8CTnLiThN"
      },
      "outputs": [],
      "source": [
        "%matplotlib inline\n",
        "import matplotlib.pyplot as plt\n",
        "import pandas as pd\n",
        "import numpy as np\n",
        "import seaborn as sns\n",
        "\n",
        "from mlxtend.evaluate import mcnemar_table\n",
        "from mlxtend.evaluate import mcnemar\n",
        "\n",
        "from sklearn import datasets\n",
        "from sklearn.model_selection import train_test_split\n",
        "\n",
        "from sklearn.metrics import matthews_corrcoef\n",
        "\n",
        "from sklearn.linear_model import LogisticRegression\n",
        "from sklearn.naive_bayes import GaussianNB\n",
        "from sklearn.svm import SVC"
      ]
    },
    {
      "cell_type": "code",
      "execution_count": 10,
      "metadata": {
        "colab": {
          "base_uri": "https://localhost:8080/"
        },
        "id": "p_Xd9Hsui4c8",
        "outputId": "a98723e5-f850-4360-8445-792ba8bb27d4"
      },
      "outputs": [
        {
          "name": "stdout",
          "output_type": "stream",
          "text": [
            "LR MCC 0.9515873026942034\n",
            "NB MCC 0.9515873026942034\n",
            "SVM MCC 1.0\n"
          ]
        }
      ],
      "source": [
        "iris = datasets.load_iris()\n",
        "X = iris.data\n",
        "y = iris.target\n",
        "X_train, X_test, y_train, y_test = train_test_split(X, y, test_size=0.2, random_state=42, stratify=y)\n",
        "\n",
        "\n",
        "# Logistic Regression\n",
        "clf = LogisticRegression().fit(X_train, y_train)\n",
        "y_pred_lr = clf.predict(X_test)\n",
        "m = matthews_corrcoef(y_test, y_pred_lr)\n",
        "print(f'LR MCC {m}')\n",
        "\n",
        "# Naive Bayes\n",
        "clf = GaussianNB().fit(X_train, y_train)\n",
        "y_pred_nb = clf.predict(X_test)\n",
        "m = matthews_corrcoef(y_test, y_pred_nb)\n",
        "print(f'NB MCC {m}')\n",
        "\n",
        "# SVM\n",
        "clf = SVC(probability=True, kernel='linear').fit(X_train,y_train)\n",
        "y_pred_svm = clf.predict(X_test)\n",
        "m = matthews_corrcoef(y_test, y_pred_svm)\n",
        "print(f'SVM MCC {m}')"
      ]
    },
    {
      "cell_type": "code",
      "execution_count": 11,
      "metadata": {
        "colab": {
          "base_uri": "https://localhost:8080/",
          "height": 283
        },
        "id": "DGzbSjrqkUEB",
        "outputId": "7f492ae9-c9cd-4a8c-97df-2f806b169df9"
      },
      "outputs": [
        {
          "data": {
            "text/plain": [
              "<Axes: >"
            ]
          },
          "execution_count": 11,
          "metadata": {},
          "output_type": "execute_result"
        },
        {
          "data": {
            "image/png": "[encoded data removed]",
            "text/plain": [
              "<Figure size 640x480 with 2 Axes>"
            ]
          },
          "metadata": {},
          "output_type": "display_data"
        }
      ],
      "source": [
        "tb = mcnemar_table(y_target=y_test, y_model1=y_pred_nb, y_model2=y_pred_svm)\n",
        "sns.heatmap(tb, annot=True)"
      ]
    },
    {
      "cell_type": "code",
      "execution_count": 12,
      "metadata": {
        "colab": {
          "base_uri": "https://localhost:8080/"
        },
        "id": "Nu6m4wkzkt1i",
        "outputId": "8028a540-b6f6-4484-c04b-7734fb8466cd"
      },
      "outputs": [
        {
          "name": "stdout",
          "output_type": "stream",
          "text": [
            "chi-squared: None\n",
            "p-value: 1.0\n",
            "The models are similar\n"
          ]
        }
      ],
      "source": [
        "chi2, p = mcnemar(ary=tb, exact=True)\n",
        "print('chi-squared:', chi2)\n",
        "print('p-value:', p)\n",
        "\n",
        "alpha = 0.05\n",
        "\n",
        "if p < alpha:\n",
        "  print('The models are significantly different')\n",
        "else:\n",
        "  print('The models are similar')"
      ]
    }
  ],
  "metadata": {
    "colab": {
      "provenance": []
    },
    "kernelspec": {
      "display_name": "venv",
      "language": "python",
      "name": "python3"
    },
    "language_info": {
      "codemirror_mode": {
        "name": "ipython",
        "version": 3
      },
      "file_extension": ".py",
      "mimetype": "text/x-python",
      "name": "python",
      "nbconvert_exporter": "python",
      "pygments_lexer": "ipython3",
      "version": "3.12.7"
    }
  },
  "nbformat": 4,
  "nbformat_minor": 0
}
