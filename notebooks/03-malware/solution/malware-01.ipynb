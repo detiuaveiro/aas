{
 "cells": [
  {
   "cell_type": "markdown",
   "metadata": {},
   "source": [
    "# Malware Detection\n",
    "\n",
    "## Dataset malware/beningn permissions Android\n",
    "\n",
    "The data were obtained by a process that consisted to create a binary vector of permissions used for each application analyzed {1=used, 0=no used}. \n",
    "Moreover, the samples of malware/benign were devided by \"Type\"; 1 malware and 0 non-malware.\n",
    "\n",
    "More details on the dataset [here](https://www.kaggle.com/datasets/xwolf12/datasetandroidpermissions)."
   ]
  },
  {
   "cell_type": "code",
   "execution_count": 11,
   "metadata": {},
   "outputs": [],
   "source": [
    "import numpy as np\n",
    "import polars as pl\n",
    "import seaborn as sns\n",
    "import matplotlib.pyplot as plt\n",
    "\n",
    "from sklearn.model_selection import train_test_split\n",
    "from sklearn.metrics import classification_report, confusion_matrix\n",
    "\n",
    "plt.style.use('ggplot')\n",
    "plt.rcParams['figure.figsize'] = [15, 7]"
   ]
  },
  {
   "cell_type": "code",
   "execution_count": 12,
   "metadata": {},
   "outputs": [
    {
     "data": {
      "text/html": [
       "<div><style>\n",
       ".dataframe > thead > tr > th,\n",
       ".dataframe > tbody > tr > td {\n",
       "  text-align: right;\n",
       "  white-space: pre-wrap;\n",
       "}\n",
       "</style>\n",
       "<small>shape: (9, 332)</small><table border=\"1\" class=\"dataframe\"><thead><tr><th>describe</th><th>android</th><th>android.app.cts.permission.TEST_GRANTED</th><th>android.intent.category.MASTER_CLEAR.permission.C2D_MESSAGE</th><th>android.os.cts.permission.TEST_GRANTED</th><th>android.permission.ACCESS_ALL_DOWNLOADS</th><th>android.permission.ACCESS_ALL_EXTERNAL_STORAGE</th><th>android.permission.ACCESS_BLUETOOTH_SHARE</th><th>android.permission.ACCESS_CACHE_FILESYSTEM</th><th>android.permission.ACCESS_CHECKIN_PROPERTIES</th><th>android.permission.ACCESS_COARSE_LOCATION</th><th>android.permission.ACCESS_CONTENT_PROVIDERS_EXTERNALLY</th><th>android.permission.ACCESS_DOWNLOAD_MANAGER</th><th>android.permission.ACCESS_DOWNLOAD_MANAGER_ADVANCED</th><th>android.permission.ACCESS_DRM_CERTIFICATES</th><th>android.permission.ACCESS_FINE_LOCATION</th><th>android.permission.ACCESS_FM_RADIO</th><th>android.permission.ACCESS_INPUT_FLINGER</th><th>android.permission.ACCESS_KEYGUARD_SECURE_STORAGE</th><th>android.permission.ACCESS_LOCATION_EXTRA_COMMANDS</th><th>android.permission.ACCESS_MOCK_LOCATION</th><th>android.permission.ACCESS_MTP</th><th>android.permission.ACCESS_NETWORK_CONDITIONS</th><th>android.permission.ACCESS_NETWORK_STATE</th><th>android.permission.ACCESS_NOTIFICATIONS</th><th>android.permission.ACCESS_PDB_STATE</th><th>android.permission.ACCESS_SURFACE_FLINGER</th><th>android.permission.ACCESS_WIFI_STATE</th><th>android.permission.ACCESS_WIMAX_STATE</th><th>android.permission.ACCOUNT_MANAGER</th><th>android.permission.ALLOW_ANY_CODEC_FOR_PLAYBACK</th><th>android.permission.ASEC_ACCESS</th><th>android.permission.ASEC_CREATE</th><th>android.permission.ASEC_DESTROY</th><th>android.permission.ASEC_MOUNT_UNMOUNT</th><th>android.permission.ASEC_RENAME</th><th>android.permission.AUTHENTICATE_ACCOUNTS</th><th>&hellip;</th><th>com.android.frameworks.coretests.DANGEROUS</th><th>com.android.frameworks.coretests.NORMAL</th><th>com.android.frameworks.coretests.SIGNATURE</th><th>com.android.frameworks.coretests.keysets_permdef.keyset_perm</th><th>com.android.frameworks.coretests.permission.TEST_DENIED</th><th>com.android.frameworks.coretests.permission.TEST_GRANTED</th><th>com.android.gallery3d.filtershow.permission.READ</th><th>com.android.gallery3d.filtershow.permission.WRITE</th><th>com.android.gallery3d.permission.GALLERY_PROVIDER</th><th>com.android.launcher.permission.INSTALL_SHORTCUT</th><th>com.android.launcher.permission.PRELOAD_WORKSPACE</th><th>com.android.launcher.permission.READ_SETTINGS</th><th>com.android.launcher.permission.UNINSTALL_SHORTCUT</th><th>com.android.launcher.permission.WRITE_SETTINGS</th><th>com.android.launcher3.permission.READ_SETTINGS</th><th>com.android.launcher3.permission.RECEIVE_FIRST_LOAD_BROADCAST</th><th>com.android.launcher3.permission.RECEIVE_LAUNCH_BROADCASTS</th><th>com.android.launcher3.permission.WRITE_SETTINGS</th><th>com.android.permission.WHITELIST_BLUETOOTH_DEVICE</th><th>com.android.printspooler.permission.ACCESS_ALL_PRINT_JOBS</th><th>com.android.providers.tv.permission.ACCESS_ALL_EPG_DATA</th><th>com.android.providers.tv.permission.ACCESS_WATCHED_PROGRAMS</th><th>com.android.providers.tv.permission.READ_EPG_DATA</th><th>com.android.providers.tv.permission.WRITE_EPG_DATA</th><th>com.android.smspush.WAPPUSH_MANAGER_BIND</th><th>com.android.voicemail.permission.ADD_VOICEMAIL</th><th>com.android.voicemail.permission.READ_VOICEMAIL</th><th>com.android.voicemail.permission.WRITE_VOICEMAIL</th><th>com.foo.mypermission</th><th>com.foo.mypermission2</th><th>org.chromium.chrome.shell.permission.C2D_MESSAGE</th><th>org.chromium.chrome.shell.permission.DEBUG</th><th>org.chromium.chrome.shell.permission.SANDBOX</th><th>org.chromium.chromecast.shell.permission.SANDBOX</th><th>org.chromium.content_shell.permission.SANDBOX</th><th>test_permission</th><th>type</th></tr><tr><td>str</td><td>f64</td><td>f64</td><td>f64</td><td>f64</td><td>f64</td><td>f64</td><td>f64</td><td>f64</td><td>f64</td><td>f64</td><td>f64</td><td>f64</td><td>f64</td><td>f64</td><td>f64</td><td>f64</td><td>f64</td><td>f64</td><td>f64</td><td>f64</td><td>f64</td><td>f64</td><td>f64</td><td>f64</td><td>f64</td><td>f64</td><td>f64</td><td>f64</td><td>f64</td><td>f64</td><td>f64</td><td>f64</td><td>f64</td><td>f64</td><td>f64</td><td>f64</td><td>&hellip;</td><td>f64</td><td>f64</td><td>f64</td><td>f64</td><td>f64</td><td>f64</td><td>f64</td><td>f64</td><td>f64</td><td>f64</td><td>f64</td><td>f64</td><td>f64</td><td>f64</td><td>f64</td><td>f64</td><td>f64</td><td>f64</td><td>f64</td><td>f64</td><td>f64</td><td>f64</td><td>f64</td><td>f64</td><td>f64</td><td>f64</td><td>f64</td><td>f64</td><td>f64</td><td>f64</td><td>f64</td><td>f64</td><td>f64</td><td>f64</td><td>f64</td><td>f64</td><td>f64</td></tr></thead><tbody><tr><td>&quot;count&quot;</td><td>398.0</td><td>398.0</td><td>398.0</td><td>398.0</td><td>398.0</td><td>398.0</td><td>398.0</td><td>398.0</td><td>398.0</td><td>398.0</td><td>398.0</td><td>398.0</td><td>398.0</td><td>398.0</td><td>398.0</td><td>398.0</td><td>398.0</td><td>398.0</td><td>398.0</td><td>398.0</td><td>398.0</td><td>398.0</td><td>398.0</td><td>398.0</td><td>398.0</td><td>398.0</td><td>398.0</td><td>398.0</td><td>398.0</td><td>398.0</td><td>398.0</td><td>398.0</td><td>398.0</td><td>398.0</td><td>398.0</td><td>398.0</td><td>&hellip;</td><td>398.0</td><td>398.0</td><td>398.0</td><td>398.0</td><td>398.0</td><td>398.0</td><td>398.0</td><td>398.0</td><td>398.0</td><td>398.0</td><td>398.0</td><td>398.0</td><td>398.0</td><td>398.0</td><td>398.0</td><td>398.0</td><td>398.0</td><td>398.0</td><td>398.0</td><td>398.0</td><td>398.0</td><td>398.0</td><td>398.0</td><td>398.0</td><td>398.0</td><td>398.0</td><td>398.0</td><td>398.0</td><td>398.0</td><td>398.0</td><td>398.0</td><td>398.0</td><td>398.0</td><td>398.0</td><td>398.0</td><td>398.0</td><td>398.0</td></tr><tr><td>&quot;null_count&quot;</td><td>0.0</td><td>0.0</td><td>0.0</td><td>0.0</td><td>0.0</td><td>0.0</td><td>0.0</td><td>0.0</td><td>0.0</td><td>0.0</td><td>0.0</td><td>0.0</td><td>0.0</td><td>0.0</td><td>0.0</td><td>0.0</td><td>0.0</td><td>0.0</td><td>0.0</td><td>0.0</td><td>0.0</td><td>0.0</td><td>0.0</td><td>0.0</td><td>0.0</td><td>0.0</td><td>0.0</td><td>0.0</td><td>0.0</td><td>0.0</td><td>0.0</td><td>0.0</td><td>0.0</td><td>0.0</td><td>0.0</td><td>0.0</td><td>&hellip;</td><td>0.0</td><td>0.0</td><td>0.0</td><td>0.0</td><td>0.0</td><td>0.0</td><td>0.0</td><td>0.0</td><td>0.0</td><td>0.0</td><td>0.0</td><td>0.0</td><td>0.0</td><td>0.0</td><td>0.0</td><td>0.0</td><td>0.0</td><td>0.0</td><td>0.0</td><td>0.0</td><td>0.0</td><td>0.0</td><td>0.0</td><td>0.0</td><td>0.0</td><td>0.0</td><td>0.0</td><td>0.0</td><td>0.0</td><td>0.0</td><td>0.0</td><td>0.0</td><td>0.0</td><td>0.0</td><td>0.0</td><td>0.0</td><td>0.0</td></tr><tr><td>&quot;mean&quot;</td><td>0.0</td><td>0.0</td><td>0.0</td><td>0.0</td><td>0.0</td><td>0.0</td><td>0.0</td><td>0.005025</td><td>0.0</td><td>0.233668</td><td>0.0</td><td>0.002513</td><td>0.002513</td><td>0.0</td><td>0.231156</td><td>0.0</td><td>0.0</td><td>0.0</td><td>0.082915</td><td>0.007538</td><td>0.0</td><td>0.0</td><td>0.575377</td><td>0.0</td><td>0.0</td><td>0.0</td><td>0.41206</td><td>0.005025</td><td>0.0</td><td>0.0</td><td>0.0</td><td>0.0</td><td>0.0</td><td>0.0</td><td>0.0</td><td>0.017588</td><td>&hellip;</td><td>0.0</td><td>0.0</td><td>0.0</td><td>0.0</td><td>0.0</td><td>0.0</td><td>0.0</td><td>0.0</td><td>0.0</td><td>0.042714</td><td>0.0</td><td>0.027638</td><td>0.007538</td><td>0.022613</td><td>0.0</td><td>0.0</td><td>0.0</td><td>0.0</td><td>0.0</td><td>0.0</td><td>0.0</td><td>0.0</td><td>0.0</td><td>0.0</td><td>0.0</td><td>0.0</td><td>0.0</td><td>0.0</td><td>0.0</td><td>0.0</td><td>0.0</td><td>0.0</td><td>0.0</td><td>0.0</td><td>0.0</td><td>0.0</td><td>0.5</td></tr><tr><td>&quot;std&quot;</td><td>0.0</td><td>0.0</td><td>0.0</td><td>0.0</td><td>0.0</td><td>0.0</td><td>0.0</td><td>0.070799</td><td>0.0</td><td>0.423696</td><td>0.0</td><td>0.050125</td><td>0.050125</td><td>0.0</td><td>0.422102</td><td>0.0</td><td>0.0</td><td>0.0</td><td>0.2761</td><td>0.086601</td><td>0.0</td><td>0.0</td><td>0.494908</td><td>0.0</td><td>0.0</td><td>0.0</td><td>0.492825</td><td>0.070799</td><td>0.0</td><td>0.0</td><td>0.0</td><td>0.0</td><td>0.0</td><td>0.0</td><td>0.0</td><td>0.131614</td><td>&hellip;</td><td>0.0</td><td>0.0</td><td>0.0</td><td>0.0</td><td>0.0</td><td>0.0</td><td>0.0</td><td>0.0</td><td>0.0</td><td>0.202465</td><td>0.0</td><td>0.16414</td><td>0.086601</td><td>0.148854</td><td>0.0</td><td>0.0</td><td>0.0</td><td>0.0</td><td>0.0</td><td>0.0</td><td>0.0</td><td>0.0</td><td>0.0</td><td>0.0</td><td>0.0</td><td>0.0</td><td>0.0</td><td>0.0</td><td>0.0</td><td>0.0</td><td>0.0</td><td>0.0</td><td>0.0</td><td>0.0</td><td>0.0</td><td>0.0</td><td>0.500629</td></tr><tr><td>&quot;min&quot;</td><td>0.0</td><td>0.0</td><td>0.0</td><td>0.0</td><td>0.0</td><td>0.0</td><td>0.0</td><td>0.0</td><td>0.0</td><td>0.0</td><td>0.0</td><td>0.0</td><td>0.0</td><td>0.0</td><td>0.0</td><td>0.0</td><td>0.0</td><td>0.0</td><td>0.0</td><td>0.0</td><td>0.0</td><td>0.0</td><td>0.0</td><td>0.0</td><td>0.0</td><td>0.0</td><td>0.0</td><td>0.0</td><td>0.0</td><td>0.0</td><td>0.0</td><td>0.0</td><td>0.0</td><td>0.0</td><td>0.0</td><td>0.0</td><td>&hellip;</td><td>0.0</td><td>0.0</td><td>0.0</td><td>0.0</td><td>0.0</td><td>0.0</td><td>0.0</td><td>0.0</td><td>0.0</td><td>0.0</td><td>0.0</td><td>0.0</td><td>0.0</td><td>0.0</td><td>0.0</td><td>0.0</td><td>0.0</td><td>0.0</td><td>0.0</td><td>0.0</td><td>0.0</td><td>0.0</td><td>0.0</td><td>0.0</td><td>0.0</td><td>0.0</td><td>0.0</td><td>0.0</td><td>0.0</td><td>0.0</td><td>0.0</td><td>0.0</td><td>0.0</td><td>0.0</td><td>0.0</td><td>0.0</td><td>0.0</td></tr><tr><td>&quot;25%&quot;</td><td>0.0</td><td>0.0</td><td>0.0</td><td>0.0</td><td>0.0</td><td>0.0</td><td>0.0</td><td>0.0</td><td>0.0</td><td>0.0</td><td>0.0</td><td>0.0</td><td>0.0</td><td>0.0</td><td>0.0</td><td>0.0</td><td>0.0</td><td>0.0</td><td>0.0</td><td>0.0</td><td>0.0</td><td>0.0</td><td>0.0</td><td>0.0</td><td>0.0</td><td>0.0</td><td>0.0</td><td>0.0</td><td>0.0</td><td>0.0</td><td>0.0</td><td>0.0</td><td>0.0</td><td>0.0</td><td>0.0</td><td>0.0</td><td>&hellip;</td><td>0.0</td><td>0.0</td><td>0.0</td><td>0.0</td><td>0.0</td><td>0.0</td><td>0.0</td><td>0.0</td><td>0.0</td><td>0.0</td><td>0.0</td><td>0.0</td><td>0.0</td><td>0.0</td><td>0.0</td><td>0.0</td><td>0.0</td><td>0.0</td><td>0.0</td><td>0.0</td><td>0.0</td><td>0.0</td><td>0.0</td><td>0.0</td><td>0.0</td><td>0.0</td><td>0.0</td><td>0.0</td><td>0.0</td><td>0.0</td><td>0.0</td><td>0.0</td><td>0.0</td><td>0.0</td><td>0.0</td><td>0.0</td><td>0.0</td></tr><tr><td>&quot;50%&quot;</td><td>0.0</td><td>0.0</td><td>0.0</td><td>0.0</td><td>0.0</td><td>0.0</td><td>0.0</td><td>0.0</td><td>0.0</td><td>0.0</td><td>0.0</td><td>0.0</td><td>0.0</td><td>0.0</td><td>0.0</td><td>0.0</td><td>0.0</td><td>0.0</td><td>0.0</td><td>0.0</td><td>0.0</td><td>0.0</td><td>1.0</td><td>0.0</td><td>0.0</td><td>0.0</td><td>0.0</td><td>0.0</td><td>0.0</td><td>0.0</td><td>0.0</td><td>0.0</td><td>0.0</td><td>0.0</td><td>0.0</td><td>0.0</td><td>&hellip;</td><td>0.0</td><td>0.0</td><td>0.0</td><td>0.0</td><td>0.0</td><td>0.0</td><td>0.0</td><td>0.0</td><td>0.0</td><td>0.0</td><td>0.0</td><td>0.0</td><td>0.0</td><td>0.0</td><td>0.0</td><td>0.0</td><td>0.0</td><td>0.0</td><td>0.0</td><td>0.0</td><td>0.0</td><td>0.0</td><td>0.0</td><td>0.0</td><td>0.0</td><td>0.0</td><td>0.0</td><td>0.0</td><td>0.0</td><td>0.0</td><td>0.0</td><td>0.0</td><td>0.0</td><td>0.0</td><td>0.0</td><td>0.0</td><td>1.0</td></tr><tr><td>&quot;75%&quot;</td><td>0.0</td><td>0.0</td><td>0.0</td><td>0.0</td><td>0.0</td><td>0.0</td><td>0.0</td><td>0.0</td><td>0.0</td><td>0.0</td><td>0.0</td><td>0.0</td><td>0.0</td><td>0.0</td><td>0.0</td><td>0.0</td><td>0.0</td><td>0.0</td><td>0.0</td><td>0.0</td><td>0.0</td><td>0.0</td><td>1.0</td><td>0.0</td><td>0.0</td><td>0.0</td><td>1.0</td><td>0.0</td><td>0.0</td><td>0.0</td><td>0.0</td><td>0.0</td><td>0.0</td><td>0.0</td><td>0.0</td><td>0.0</td><td>&hellip;</td><td>0.0</td><td>0.0</td><td>0.0</td><td>0.0</td><td>0.0</td><td>0.0</td><td>0.0</td><td>0.0</td><td>0.0</td><td>0.0</td><td>0.0</td><td>0.0</td><td>0.0</td><td>0.0</td><td>0.0</td><td>0.0</td><td>0.0</td><td>0.0</td><td>0.0</td><td>0.0</td><td>0.0</td><td>0.0</td><td>0.0</td><td>0.0</td><td>0.0</td><td>0.0</td><td>0.0</td><td>0.0</td><td>0.0</td><td>0.0</td><td>0.0</td><td>0.0</td><td>0.0</td><td>0.0</td><td>0.0</td><td>0.0</td><td>1.0</td></tr><tr><td>&quot;max&quot;</td><td>0.0</td><td>0.0</td><td>0.0</td><td>0.0</td><td>0.0</td><td>0.0</td><td>0.0</td><td>1.0</td><td>0.0</td><td>1.0</td><td>0.0</td><td>1.0</td><td>1.0</td><td>0.0</td><td>1.0</td><td>0.0</td><td>0.0</td><td>0.0</td><td>1.0</td><td>1.0</td><td>0.0</td><td>0.0</td><td>1.0</td><td>0.0</td><td>0.0</td><td>0.0</td><td>1.0</td><td>1.0</td><td>0.0</td><td>0.0</td><td>0.0</td><td>0.0</td><td>0.0</td><td>0.0</td><td>0.0</td><td>1.0</td><td>&hellip;</td><td>0.0</td><td>0.0</td><td>0.0</td><td>0.0</td><td>0.0</td><td>0.0</td><td>0.0</td><td>0.0</td><td>0.0</td><td>1.0</td><td>0.0</td><td>1.0</td><td>1.0</td><td>1.0</td><td>0.0</td><td>0.0</td><td>0.0</td><td>0.0</td><td>0.0</td><td>0.0</td><td>0.0</td><td>0.0</td><td>0.0</td><td>0.0</td><td>0.0</td><td>0.0</td><td>0.0</td><td>0.0</td><td>0.0</td><td>0.0</td><td>0.0</td><td>0.0</td><td>0.0</td><td>0.0</td><td>0.0</td><td>0.0</td><td>1.0</td></tr></tbody></table></div>"
      ],
      "text/plain": [
       "shape: (9, 332)\n",
       "┌────────────┬─────────┬────────────┬───────────┬───┬───────────┬───────────┬───────────┬──────────┐\n",
       "│ describe   ┆ android ┆ android.ap ┆ android.i ┆ … ┆ org.chrom ┆ org.chrom ┆ test_perm ┆ type     │\n",
       "│ ---        ┆ ---     ┆ p.cts.perm ┆ ntent.cat ┆   ┆ ium.chrom ┆ ium.conte ┆ ission    ┆ ---      │\n",
       "│ str        ┆ f64     ┆ ission.TES ┆ egory.MAS ┆   ┆ ecast.she ┆ nt_shell. ┆ ---       ┆ f64      │\n",
       "│            ┆         ┆ T_…        ┆ TER_C…    ┆   ┆ ll.pe…    ┆ permi…    ┆ f64       ┆          │\n",
       "│            ┆         ┆ ---        ┆ ---       ┆   ┆ ---       ┆ ---       ┆           ┆          │\n",
       "│            ┆         ┆ f64        ┆ f64       ┆   ┆ f64       ┆ f64       ┆           ┆          │\n",
       "╞════════════╪═════════╪════════════╪═══════════╪═══╪═══════════╪═══════════╪═══════════╪══════════╡\n",
       "│ count      ┆ 398.0   ┆ 398.0      ┆ 398.0     ┆ … ┆ 398.0     ┆ 398.0     ┆ 398.0     ┆ 398.0    │\n",
       "│ null_count ┆ 0.0     ┆ 0.0        ┆ 0.0       ┆ … ┆ 0.0       ┆ 0.0       ┆ 0.0       ┆ 0.0      │\n",
       "│ mean       ┆ 0.0     ┆ 0.0        ┆ 0.0       ┆ … ┆ 0.0       ┆ 0.0       ┆ 0.0       ┆ 0.5      │\n",
       "│ std        ┆ 0.0     ┆ 0.0        ┆ 0.0       ┆ … ┆ 0.0       ┆ 0.0       ┆ 0.0       ┆ 0.500629 │\n",
       "│ min        ┆ 0.0     ┆ 0.0        ┆ 0.0       ┆ … ┆ 0.0       ┆ 0.0       ┆ 0.0       ┆ 0.0      │\n",
       "│ 25%        ┆ 0.0     ┆ 0.0        ┆ 0.0       ┆ … ┆ 0.0       ┆ 0.0       ┆ 0.0       ┆ 0.0      │\n",
       "│ 50%        ┆ 0.0     ┆ 0.0        ┆ 0.0       ┆ … ┆ 0.0       ┆ 0.0       ┆ 0.0       ┆ 1.0      │\n",
       "│ 75%        ┆ 0.0     ┆ 0.0        ┆ 0.0       ┆ … ┆ 0.0       ┆ 0.0       ┆ 0.0       ┆ 1.0      │\n",
       "│ max        ┆ 0.0     ┆ 0.0        ┆ 0.0       ┆ … ┆ 0.0       ┆ 0.0       ┆ 0.0       ┆ 1.0      │\n",
       "└────────────┴─────────┴────────────┴───────────┴───┴───────────┴───────────┴───────────┴──────────┘"
      ]
     },
     "execution_count": 12,
     "metadata": {},
     "output_type": "execute_result"
    }
   ],
   "source": [
    "df = pl.read_csv('../../../datasets/android_malware_permissions.csv', separator=';')\n",
    "df.describe()"
   ]
  },
  {
   "cell_type": "code",
   "execution_count": 13,
   "metadata": {},
   "outputs": [
    {
     "data": {
      "image/png": "[encoded data removed]",
      "text/plain": [
       "<Figure size 1500x700 with 1 Axes>"
      ]
     },
     "metadata": {},
     "output_type": "display_data"
    }
   ],
   "source": [
    "sns.countplot(data=df, x='type', hue='type')\n",
    "plt.show()"
   ]
  },
  {
   "cell_type": "markdown",
   "metadata": {},
   "source": [
    "## Pre process the dataset"
   ]
  },
  {
   "cell_type": "code",
   "execution_count": 15,
   "metadata": {},
   "outputs": [
    {
     "data": {
      "text/html": [
       "<div><style>\n",
       ".dataframe > thead > tr > th,\n",
       ".dataframe > tbody > tr > td {\n",
       "  text-align: right;\n",
       "  white-space: pre-wrap;\n",
       "}\n",
       "</style>\n",
       "<small>shape: (9, 94)</small><table border=\"1\" class=\"dataframe\"><thead><tr><th>describe</th><th>android.permission.ACCESS_CACHE_FILESYSTEM</th><th>android.permission.ACCESS_COARSE_LOCATION</th><th>android.permission.ACCESS_DOWNLOAD_MANAGER</th><th>android.permission.ACCESS_DOWNLOAD_MANAGER_ADVANCED</th><th>android.permission.ACCESS_FINE_LOCATION</th><th>android.permission.ACCESS_LOCATION_EXTRA_COMMANDS</th><th>android.permission.ACCESS_MOCK_LOCATION</th><th>android.permission.ACCESS_NETWORK_STATE</th><th>android.permission.ACCESS_WIFI_STATE</th><th>android.permission.ACCESS_WIMAX_STATE</th><th>android.permission.AUTHENTICATE_ACCOUNTS</th><th>android.permission.BATTERY_STATS</th><th>android.permission.BLUETOOTH</th><th>android.permission.BLUETOOTH_ADMIN</th><th>android.permission.BROADCAST_PACKAGE_REMOVED</th><th>android.permission.BROADCAST_STICKY</th><th>android.permission.CALL_PHONE</th><th>android.permission.CALL_PRIVILEGED</th><th>android.permission.CAMERA</th><th>android.permission.CHANGE_COMPONENT_ENABLED_STATE</th><th>android.permission.CHANGE_CONFIGURATION</th><th>android.permission.CHANGE_NETWORK_STATE</th><th>android.permission.CHANGE_WIFI_MULTICAST_STATE</th><th>android.permission.CHANGE_WIFI_STATE</th><th>android.permission.CHANGE_WIMAX_STATE</th><th>android.permission.CLEAR_APP_CACHE</th><th>android.permission.DELETE_CACHE_FILES</th><th>android.permission.DELETE_PACKAGES</th><th>android.permission.DEVICE_POWER</th><th>android.permission.DISABLE_KEYGUARD</th><th>android.permission.DUMP</th><th>android.permission.EXPAND_STATUS_BAR</th><th>android.permission.FLASHLIGHT</th><th>android.permission.GET_ACCOUNTS</th><th>android.permission.GET_PACKAGE_SIZE</th><th>android.permission.GET_TASKS</th><th>&hellip;</th><th>android.permission.READ_SYNC_SETTINGS</th><th>android.permission.READ_SYNC_STATS</th><th>android.permission.REBOOT</th><th>android.permission.RECEIVE_BOOT_COMPLETED</th><th>android.permission.RECEIVE_MMS</th><th>android.permission.RECEIVE_SMS</th><th>android.permission.RECEIVE_WAP_PUSH</th><th>android.permission.RECORD_AUDIO</th><th>android.permission.RESTART_PACKAGES</th><th>android.permission.SEND_DOWNLOAD_COMPLETED_INTENTS</th><th>android.permission.SEND_SMS</th><th>android.permission.SET_ORIENTATION</th><th>android.permission.SET_PREFERRED_APPLICATIONS</th><th>android.permission.SET_WALLPAPER</th><th>android.permission.SET_WALLPAPER_HINTS</th><th>android.permission.SYSTEM_ALERT_WINDOW</th><th>android.permission.UPDATE_DEVICE_STATS</th><th>android.permission.USE_CREDENTIALS</th><th>android.permission.VIBRATE</th><th>android.permission.WAKE_LOCK</th><th>android.permission.WRITE_APN_SETTINGS</th><th>android.permission.WRITE_CALENDAR</th><th>android.permission.WRITE_CALL_LOG</th><th>android.permission.WRITE_CONTACTS</th><th>android.permission.WRITE_EXTERNAL_STORAGE</th><th>android.permission.WRITE_SECURE_SETTINGS</th><th>android.permission.WRITE_SETTINGS</th><th>android.permission.WRITE_SMS</th><th>android.permission.WRITE_SYNC_SETTINGS</th><th>com.android.alarm.permission.SET_ALARM</th><th>com.android.browser.permission.READ_HISTORY_BOOKMARKS</th><th>com.android.browser.permission.WRITE_HISTORY_BOOKMARKS</th><th>com.android.launcher.permission.INSTALL_SHORTCUT</th><th>com.android.launcher.permission.READ_SETTINGS</th><th>com.android.launcher.permission.UNINSTALL_SHORTCUT</th><th>com.android.launcher.permission.WRITE_SETTINGS</th><th>type</th></tr><tr><td>str</td><td>f64</td><td>f64</td><td>f64</td><td>f64</td><td>f64</td><td>f64</td><td>f64</td><td>f64</td><td>f64</td><td>f64</td><td>f64</td><td>f64</td><td>f64</td><td>f64</td><td>f64</td><td>f64</td><td>f64</td><td>f64</td><td>f64</td><td>f64</td><td>f64</td><td>f64</td><td>f64</td><td>f64</td><td>f64</td><td>f64</td><td>f64</td><td>f64</td><td>f64</td><td>f64</td><td>f64</td><td>f64</td><td>f64</td><td>f64</td><td>f64</td><td>f64</td><td>&hellip;</td><td>f64</td><td>f64</td><td>f64</td><td>f64</td><td>f64</td><td>f64</td><td>f64</td><td>f64</td><td>f64</td><td>f64</td><td>f64</td><td>f64</td><td>f64</td><td>f64</td><td>f64</td><td>f64</td><td>f64</td><td>f64</td><td>f64</td><td>f64</td><td>f64</td><td>f64</td><td>f64</td><td>f64</td><td>f64</td><td>f64</td><td>f64</td><td>f64</td><td>f64</td><td>f64</td><td>f64</td><td>f64</td><td>f64</td><td>f64</td><td>f64</td><td>f64</td><td>f64</td></tr></thead><tbody><tr><td>&quot;count&quot;</td><td>398.0</td><td>398.0</td><td>398.0</td><td>398.0</td><td>398.0</td><td>398.0</td><td>398.0</td><td>398.0</td><td>398.0</td><td>398.0</td><td>398.0</td><td>398.0</td><td>398.0</td><td>398.0</td><td>398.0</td><td>398.0</td><td>398.0</td><td>398.0</td><td>398.0</td><td>398.0</td><td>398.0</td><td>398.0</td><td>398.0</td><td>398.0</td><td>398.0</td><td>398.0</td><td>398.0</td><td>398.0</td><td>398.0</td><td>398.0</td><td>398.0</td><td>398.0</td><td>398.0</td><td>398.0</td><td>398.0</td><td>398.0</td><td>&hellip;</td><td>398.0</td><td>398.0</td><td>398.0</td><td>398.0</td><td>398.0</td><td>398.0</td><td>398.0</td><td>398.0</td><td>398.0</td><td>398.0</td><td>398.0</td><td>398.0</td><td>398.0</td><td>398.0</td><td>398.0</td><td>398.0</td><td>398.0</td><td>398.0</td><td>398.0</td><td>398.0</td><td>398.0</td><td>398.0</td><td>398.0</td><td>398.0</td><td>398.0</td><td>398.0</td><td>398.0</td><td>398.0</td><td>398.0</td><td>398.0</td><td>398.0</td><td>398.0</td><td>398.0</td><td>398.0</td><td>398.0</td><td>398.0</td><td>398.0</td></tr><tr><td>&quot;null_count&quot;</td><td>0.0</td><td>0.0</td><td>0.0</td><td>0.0</td><td>0.0</td><td>0.0</td><td>0.0</td><td>0.0</td><td>0.0</td><td>0.0</td><td>0.0</td><td>0.0</td><td>0.0</td><td>0.0</td><td>0.0</td><td>0.0</td><td>0.0</td><td>0.0</td><td>0.0</td><td>0.0</td><td>0.0</td><td>0.0</td><td>0.0</td><td>0.0</td><td>0.0</td><td>0.0</td><td>0.0</td><td>0.0</td><td>0.0</td><td>0.0</td><td>0.0</td><td>0.0</td><td>0.0</td><td>0.0</td><td>0.0</td><td>0.0</td><td>&hellip;</td><td>0.0</td><td>0.0</td><td>0.0</td><td>0.0</td><td>0.0</td><td>0.0</td><td>0.0</td><td>0.0</td><td>0.0</td><td>0.0</td><td>0.0</td><td>0.0</td><td>0.0</td><td>0.0</td><td>0.0</td><td>0.0</td><td>0.0</td><td>0.0</td><td>0.0</td><td>0.0</td><td>0.0</td><td>0.0</td><td>0.0</td><td>0.0</td><td>0.0</td><td>0.0</td><td>0.0</td><td>0.0</td><td>0.0</td><td>0.0</td><td>0.0</td><td>0.0</td><td>0.0</td><td>0.0</td><td>0.0</td><td>0.0</td><td>0.0</td></tr><tr><td>&quot;mean&quot;</td><td>0.005025</td><td>0.233668</td><td>0.002513</td><td>0.002513</td><td>0.231156</td><td>0.082915</td><td>0.007538</td><td>0.575377</td><td>0.41206</td><td>0.005025</td><td>0.017588</td><td>0.002513</td><td>0.030151</td><td>0.017588</td><td>0.002513</td><td>0.005025</td><td>0.155779</td><td>0.002513</td><td>0.042714</td><td>0.002513</td><td>0.015075</td><td>0.025126</td><td>0.005025</td><td>0.221106</td><td>0.005025</td><td>0.002513</td><td>0.002513</td><td>0.030151</td><td>0.007538</td><td>0.100503</td><td>0.002513</td><td>0.022613</td><td>0.01005</td><td>0.055276</td><td>0.01005</td><td>0.123116</td><td>&hellip;</td><td>0.022613</td><td>0.01005</td><td>0.002513</td><td>0.331658</td><td>0.032663</td><td>0.175879</td><td>0.027638</td><td>0.032663</td><td>0.113065</td><td>0.002513</td><td>0.183417</td><td>0.002513</td><td>0.002513</td><td>0.072864</td><td>0.020101</td><td>0.007538</td><td>0.002513</td><td>0.017588</td><td>0.223618</td><td>0.253769</td><td>0.133166</td><td>0.007538</td><td>0.002513</td><td>0.138191</td><td>0.532663</td><td>0.012563</td><td>0.055276</td><td>0.263819</td><td>0.020101</td><td>0.007538</td><td>0.070352</td><td>0.045226</td><td>0.042714</td><td>0.027638</td><td>0.007538</td><td>0.022613</td><td>0.5</td></tr><tr><td>&quot;std&quot;</td><td>0.070799</td><td>0.423696</td><td>0.050125</td><td>0.050125</td><td>0.422102</td><td>0.2761</td><td>0.086601</td><td>0.494908</td><td>0.492825</td><td>0.070799</td><td>0.131614</td><td>0.050125</td><td>0.171217</td><td>0.131614</td><td>0.050125</td><td>0.070799</td><td>0.363102</td><td>0.050125</td><td>0.202465</td><td>0.050125</td><td>0.122006</td><td>0.156704</td><td>0.070799</td><td>0.415514</td><td>0.070799</td><td>0.050125</td><td>0.050125</td><td>0.171217</td><td>0.086601</td><td>0.301047</td><td>0.050125</td><td>0.148854</td><td>0.099871</td><td>0.228807</td><td>0.099871</td><td>0.328983</td><td>&hellip;</td><td>0.148854</td><td>0.099871</td><td>0.050125</td><td>0.471402</td><td>0.177978</td><td>0.381197</td><td>0.16414</td><td>0.177978</td><td>0.317071</td><td>0.050125</td><td>0.387495</td><td>0.050125</td><td>0.050125</td><td>0.260241</td><td>0.140521</td><td>0.086601</td><td>0.050125</td><td>0.131614</td><td>0.417193</td><td>0.435715</td><td>0.340182</td><td>0.086601</td><td>0.050125</td><td>0.345535</td><td>0.49956</td><td>0.111518</td><td>0.228807</td><td>0.441257</td><td>0.140521</td><td>0.086601</td><td>0.256061</td><td>0.208061</td><td>0.202465</td><td>0.16414</td><td>0.086601</td><td>0.148854</td><td>0.500629</td></tr><tr><td>&quot;min&quot;</td><td>0.0</td><td>0.0</td><td>0.0</td><td>0.0</td><td>0.0</td><td>0.0</td><td>0.0</td><td>0.0</td><td>0.0</td><td>0.0</td><td>0.0</td><td>0.0</td><td>0.0</td><td>0.0</td><td>0.0</td><td>0.0</td><td>0.0</td><td>0.0</td><td>0.0</td><td>0.0</td><td>0.0</td><td>0.0</td><td>0.0</td><td>0.0</td><td>0.0</td><td>0.0</td><td>0.0</td><td>0.0</td><td>0.0</td><td>0.0</td><td>0.0</td><td>0.0</td><td>0.0</td><td>0.0</td><td>0.0</td><td>0.0</td><td>&hellip;</td><td>0.0</td><td>0.0</td><td>0.0</td><td>0.0</td><td>0.0</td><td>0.0</td><td>0.0</td><td>0.0</td><td>0.0</td><td>0.0</td><td>0.0</td><td>0.0</td><td>0.0</td><td>0.0</td><td>0.0</td><td>0.0</td><td>0.0</td><td>0.0</td><td>0.0</td><td>0.0</td><td>0.0</td><td>0.0</td><td>0.0</td><td>0.0</td><td>0.0</td><td>0.0</td><td>0.0</td><td>0.0</td><td>0.0</td><td>0.0</td><td>0.0</td><td>0.0</td><td>0.0</td><td>0.0</td><td>0.0</td><td>0.0</td><td>0.0</td></tr><tr><td>&quot;25%&quot;</td><td>0.0</td><td>0.0</td><td>0.0</td><td>0.0</td><td>0.0</td><td>0.0</td><td>0.0</td><td>0.0</td><td>0.0</td><td>0.0</td><td>0.0</td><td>0.0</td><td>0.0</td><td>0.0</td><td>0.0</td><td>0.0</td><td>0.0</td><td>0.0</td><td>0.0</td><td>0.0</td><td>0.0</td><td>0.0</td><td>0.0</td><td>0.0</td><td>0.0</td><td>0.0</td><td>0.0</td><td>0.0</td><td>0.0</td><td>0.0</td><td>0.0</td><td>0.0</td><td>0.0</td><td>0.0</td><td>0.0</td><td>0.0</td><td>&hellip;</td><td>0.0</td><td>0.0</td><td>0.0</td><td>0.0</td><td>0.0</td><td>0.0</td><td>0.0</td><td>0.0</td><td>0.0</td><td>0.0</td><td>0.0</td><td>0.0</td><td>0.0</td><td>0.0</td><td>0.0</td><td>0.0</td><td>0.0</td><td>0.0</td><td>0.0</td><td>0.0</td><td>0.0</td><td>0.0</td><td>0.0</td><td>0.0</td><td>0.0</td><td>0.0</td><td>0.0</td><td>0.0</td><td>0.0</td><td>0.0</td><td>0.0</td><td>0.0</td><td>0.0</td><td>0.0</td><td>0.0</td><td>0.0</td><td>0.0</td></tr><tr><td>&quot;50%&quot;</td><td>0.0</td><td>0.0</td><td>0.0</td><td>0.0</td><td>0.0</td><td>0.0</td><td>0.0</td><td>1.0</td><td>0.0</td><td>0.0</td><td>0.0</td><td>0.0</td><td>0.0</td><td>0.0</td><td>0.0</td><td>0.0</td><td>0.0</td><td>0.0</td><td>0.0</td><td>0.0</td><td>0.0</td><td>0.0</td><td>0.0</td><td>0.0</td><td>0.0</td><td>0.0</td><td>0.0</td><td>0.0</td><td>0.0</td><td>0.0</td><td>0.0</td><td>0.0</td><td>0.0</td><td>0.0</td><td>0.0</td><td>0.0</td><td>&hellip;</td><td>0.0</td><td>0.0</td><td>0.0</td><td>0.0</td><td>0.0</td><td>0.0</td><td>0.0</td><td>0.0</td><td>0.0</td><td>0.0</td><td>0.0</td><td>0.0</td><td>0.0</td><td>0.0</td><td>0.0</td><td>0.0</td><td>0.0</td><td>0.0</td><td>0.0</td><td>0.0</td><td>0.0</td><td>0.0</td><td>0.0</td><td>0.0</td><td>1.0</td><td>0.0</td><td>0.0</td><td>0.0</td><td>0.0</td><td>0.0</td><td>0.0</td><td>0.0</td><td>0.0</td><td>0.0</td><td>0.0</td><td>0.0</td><td>1.0</td></tr><tr><td>&quot;75%&quot;</td><td>0.0</td><td>0.0</td><td>0.0</td><td>0.0</td><td>0.0</td><td>0.0</td><td>0.0</td><td>1.0</td><td>1.0</td><td>0.0</td><td>0.0</td><td>0.0</td><td>0.0</td><td>0.0</td><td>0.0</td><td>0.0</td><td>0.0</td><td>0.0</td><td>0.0</td><td>0.0</td><td>0.0</td><td>0.0</td><td>0.0</td><td>0.0</td><td>0.0</td><td>0.0</td><td>0.0</td><td>0.0</td><td>0.0</td><td>0.0</td><td>0.0</td><td>0.0</td><td>0.0</td><td>0.0</td><td>0.0</td><td>0.0</td><td>&hellip;</td><td>0.0</td><td>0.0</td><td>0.0</td><td>1.0</td><td>0.0</td><td>0.0</td><td>0.0</td><td>0.0</td><td>0.0</td><td>0.0</td><td>0.0</td><td>0.0</td><td>0.0</td><td>0.0</td><td>0.0</td><td>0.0</td><td>0.0</td><td>0.0</td><td>0.0</td><td>1.0</td><td>0.0</td><td>0.0</td><td>0.0</td><td>0.0</td><td>1.0</td><td>0.0</td><td>0.0</td><td>1.0</td><td>0.0</td><td>0.0</td><td>0.0</td><td>0.0</td><td>0.0</td><td>0.0</td><td>0.0</td><td>0.0</td><td>1.0</td></tr><tr><td>&quot;max&quot;</td><td>1.0</td><td>1.0</td><td>1.0</td><td>1.0</td><td>1.0</td><td>1.0</td><td>1.0</td><td>1.0</td><td>1.0</td><td>1.0</td><td>1.0</td><td>1.0</td><td>1.0</td><td>1.0</td><td>1.0</td><td>1.0</td><td>1.0</td><td>1.0</td><td>1.0</td><td>1.0</td><td>1.0</td><td>1.0</td><td>1.0</td><td>1.0</td><td>1.0</td><td>1.0</td><td>1.0</td><td>1.0</td><td>1.0</td><td>1.0</td><td>1.0</td><td>1.0</td><td>1.0</td><td>1.0</td><td>1.0</td><td>1.0</td><td>&hellip;</td><td>1.0</td><td>1.0</td><td>1.0</td><td>1.0</td><td>1.0</td><td>1.0</td><td>1.0</td><td>1.0</td><td>1.0</td><td>1.0</td><td>1.0</td><td>1.0</td><td>1.0</td><td>1.0</td><td>1.0</td><td>1.0</td><td>1.0</td><td>1.0</td><td>1.0</td><td>1.0</td><td>1.0</td><td>1.0</td><td>1.0</td><td>1.0</td><td>1.0</td><td>1.0</td><td>1.0</td><td>1.0</td><td>1.0</td><td>1.0</td><td>1.0</td><td>1.0</td><td>1.0</td><td>1.0</td><td>1.0</td><td>1.0</td><td>1.0</td></tr></tbody></table></div>"
      ],
      "text/plain": [
       "shape: (9, 94)\n",
       "┌───────────┬───────────┬───────────┬───────────┬───┬───────────┬───────────┬───────────┬──────────┐\n",
       "│ describe  ┆ android.p ┆ android.p ┆ android.p ┆ … ┆ com.andro ┆ com.andro ┆ com.andro ┆ type     │\n",
       "│ ---       ┆ ermission ┆ ermission ┆ ermission ┆   ┆ id.launch ┆ id.launch ┆ id.launch ┆ ---      │\n",
       "│ str       ┆ .ACCESS_C ┆ .ACCESS_C ┆ .ACCESS_D ┆   ┆ er.permis ┆ er.permis ┆ er.permis ┆ f64      │\n",
       "│           ┆ ACHE_…    ┆ OARSE…    ┆ OWNLO…    ┆   ┆ sion.…    ┆ sion.…    ┆ sion.…    ┆          │\n",
       "│           ┆ ---       ┆ ---       ┆ ---       ┆   ┆ ---       ┆ ---       ┆ ---       ┆          │\n",
       "│           ┆ f64       ┆ f64       ┆ f64       ┆   ┆ f64       ┆ f64       ┆ f64       ┆          │\n",
       "╞═══════════╪═══════════╪═══════════╪═══════════╪═══╪═══════════╪═══════════╪═══════════╪══════════╡\n",
       "│ count     ┆ 398.0     ┆ 398.0     ┆ 398.0     ┆ … ┆ 398.0     ┆ 398.0     ┆ 398.0     ┆ 398.0    │\n",
       "│ null_coun ┆ 0.0       ┆ 0.0       ┆ 0.0       ┆ … ┆ 0.0       ┆ 0.0       ┆ 0.0       ┆ 0.0      │\n",
       "│ t         ┆           ┆           ┆           ┆   ┆           ┆           ┆           ┆          │\n",
       "│ mean      ┆ 0.005025  ┆ 0.233668  ┆ 0.002513  ┆ … ┆ 0.027638  ┆ 0.007538  ┆ 0.022613  ┆ 0.5      │\n",
       "│ std       ┆ 0.070799  ┆ 0.423696  ┆ 0.050125  ┆ … ┆ 0.16414   ┆ 0.086601  ┆ 0.148854  ┆ 0.500629 │\n",
       "│ min       ┆ 0.0       ┆ 0.0       ┆ 0.0       ┆ … ┆ 0.0       ┆ 0.0       ┆ 0.0       ┆ 0.0      │\n",
       "│ 25%       ┆ 0.0       ┆ 0.0       ┆ 0.0       ┆ … ┆ 0.0       ┆ 0.0       ┆ 0.0       ┆ 0.0      │\n",
       "│ 50%       ┆ 0.0       ┆ 0.0       ┆ 0.0       ┆ … ┆ 0.0       ┆ 0.0       ┆ 0.0       ┆ 1.0      │\n",
       "│ 75%       ┆ 0.0       ┆ 0.0       ┆ 0.0       ┆ … ┆ 0.0       ┆ 0.0       ┆ 0.0       ┆ 1.0      │\n",
       "│ max       ┆ 1.0       ┆ 1.0       ┆ 1.0       ┆ … ┆ 1.0       ┆ 1.0       ┆ 1.0       ┆ 1.0      │\n",
       "└───────────┴───────────┴───────────┴───────────┴───┴───────────┴───────────┴───────────┴──────────┘"
      ]
     },
     "execution_count": 15,
     "metadata": {},
     "output_type": "execute_result"
    }
   ],
   "source": [
    "threshold = 0.0\n",
    "df = df.drop([col.name for col in df.select(pl.all().std() <= threshold) if col.item()])\n",
    "#df.describe()"
   ]
  },
  {
   "cell_type": "markdown",
   "metadata": {},
   "source": [
    "## Train one or more models"
   ]
  },
  {
   "cell_type": "code",
   "execution_count": 16,
   "metadata": {},
   "outputs": [],
   "source": [
    "Y = df['type']\n",
    "X = df.drop(['type'])\n",
    "\n",
    "X_train, X_test, y_train, y_test = train_test_split(X, Y, test_size=0.2, random_state=42)"
   ]
  },
  {
   "cell_type": "code",
   "execution_count": 17,
   "metadata": {},
   "outputs": [],
   "source": [
    "from sklearn.preprocessing import StandardScaler\n",
    "sc_X = StandardScaler()\n",
    "X_train = sc_X.fit_transform(X_train)\n",
    "X_test = sc_X.transform(X_test)"
   ]
  },
  {
   "cell_type": "code",
   "execution_count": 20,
   "metadata": {},
   "outputs": [
    {
     "name": "stdout",
     "output_type": "stream",
     "text": [
      "              precision    recall  f1-score   support\n",
      "\n",
      "      Benign       0.87      0.97      0.92        34\n",
      "     Malware       0.98      0.89      0.93        46\n",
      "\n",
      "    accuracy                           0.93        80\n",
      "   macro avg       0.92      0.93      0.92        80\n",
      "weighted avg       0.93      0.93      0.93        80\n",
      "\n",
      "              precision    recall  f1-score   support\n",
      "\n",
      "      Benign       0.92      0.97      0.94        34\n",
      "     Malware       0.98      0.93      0.96        46\n",
      "\n",
      "    accuracy                           0.95        80\n",
      "   macro avg       0.95      0.95      0.95        80\n",
      "weighted avg       0.95      0.95      0.95        80\n",
      "\n",
      "              precision    recall  f1-score   support\n",
      "\n",
      "      Benign       0.84      0.94      0.89        34\n",
      "     Malware       0.95      0.87      0.91        46\n",
      "\n",
      "    accuracy                           0.90        80\n",
      "   macro avg       0.90      0.91      0.90        80\n",
      "weighted avg       0.91      0.90      0.90        80\n",
      "\n"
     ]
    }
   ],
   "source": [
    "from sklearn.linear_model import LogisticRegression\n",
    "from sklearn.tree import DecisionTreeClassifier\n",
    "from sklearn.ensemble import RandomForestClassifier\n",
    "\n",
    "models = [LogisticRegression(max_iter=1000), DecisionTreeClassifier(), RandomForestClassifier()]\n",
    "\n",
    "for m in models:\n",
    "    # fit the model\n",
    "    m.fit(X_train, y_train)\n",
    "    y_pred = m.predict(X_test)\n",
    "    print(classification_report(y_test, y_pred, target_names=['Benign', 'Malware']))"
   ]
  },
  {
   "cell_type": "markdown",
   "metadata": {},
   "source": [
    "## Select the best model (McNemar Test)"
   ]
  },
  {
   "cell_type": "code",
   "execution_count": null,
   "metadata": {},
   "outputs": [],
   "source": []
  },
  {
   "cell_type": "markdown",
   "metadata": {},
   "source": [
    "## Plot the confusion matrix"
   ]
  },
  {
   "cell_type": "code",
   "execution_count": null,
   "metadata": {},
   "outputs": [],
   "source": []
  },
  {
   "cell_type": "markdown",
   "metadata": {},
   "source": [
    "## Plot the feature importance"
   ]
  },
  {
   "cell_type": "code",
   "execution_count": null,
   "metadata": {},
   "outputs": [],
   "source": []
  }
 ],
 "metadata": {
  "kernelspec": {
   "display_name": "Python 3",
   "language": "python",
   "name": "python3"
  },
  "language_info": {
   "codemirror_mode": {
    "name": "ipython",
    "version": 3
   },
   "file_extension": ".py",
   "mimetype": "text/x-python",
   "name": "python",
   "nbconvert_exporter": "python",
   "pygments_lexer": "ipython3",
   "version": "3.9.18"
  }
 },
 "nbformat": 4,
 "nbformat_minor": 2
}
