{
 "cells": [
  {
   "cell_type": "markdown",
   "metadata": {},
   "source": [
    "# Scikit-Learn and Keras Cheat Sheet"
   ]
  },
  {
   "cell_type": "code",
   "execution_count": 1,
   "metadata": {},
   "outputs": [
    {
     "name": "stderr",
     "output_type": "stream",
     "text": [
      "2023-12-22 16:32:18.357721: I tensorflow/core/platform/cpu_feature_guard.cc:182] This TensorFlow binary is optimized to use available CPU instructions in performance-critical operations.\n",
      "To enable the following instructions: AVX2 FMA, in other operations, rebuild TensorFlow with the appropriate compiler flags.\n"
     ]
    }
   ],
   "source": [
    "import numpy as np\n",
    "import polars as pl\n",
    "import seaborn as sns\n",
    "import matplotlib.pyplot as plt\n",
    "\n",
    "from sklearn.linear_model import LogisticRegression\n",
    "from sklearn.ensemble import RandomForestClassifier\n",
    "from sklearn.model_selection import train_test_split, GridSearchCV\n",
    "from sklearn.preprocessing import OneHotEncoder, OrdinalEncoder, MinMaxScaler\n",
    "from sklearn.metrics import classification_report, confusion_matrix, matthews_corrcoef, make_scorer\n",
    "\n",
    "from tensorflow.keras import models, layers\n",
    "from tensorflow.keras.layers import Dense\n",
    "from tensorflow.keras.models import Sequential\n",
    "\n",
    "from scikeras.wrappers import KerasClassifier"
   ]
  },
  {
   "cell_type": "markdown",
   "metadata": {},
   "source": [
    "## Load the dataset"
   ]
  },
  {
   "cell_type": "code",
   "execution_count": 2,
   "metadata": {},
   "outputs": [
    {
     "data": {
      "text/html": [
       "<div><style>\n",
       ".dataframe > thead > tr,\n",
       ".dataframe > tbody > tr {\n",
       "  text-align: right;\n",
       "  white-space: pre-wrap;\n",
       "}\n",
       "</style>\n",
       "<small>shape: (5, 4)</small><table border=\"1\" class=\"dataframe\"><thead><tr><th>user</th><th>dst_port</th><th>country</th><th>anomaly</th></tr><tr><td>str</td><td>i64</td><td>str</td><td>i64</td></tr></thead><tbody><tr><td>&quot;b244d142&quot;</td><td>443</td><td>&quot;United States&quot;</td><td>1</td></tr><tr><td>&quot;1021694a&quot;</td><td>80</td><td>&quot;United States&quot;</td><td>1</td></tr><tr><td>&quot;1021694a&quot;</td><td>80</td><td>&quot;United States&quot;</td><td>1</td></tr><tr><td>&quot;1021694a&quot;</td><td>80</td><td>&quot;United States&quot;</td><td>1</td></tr><tr><td>&quot;142f88ad&quot;</td><td>443</td><td>&quot;United States&quot;</td><td>1</td></tr></tbody></table></div>"
      ],
      "text/plain": [
       "shape: (5, 4)\n",
       "┌──────────┬──────────┬───────────────┬─────────┐\n",
       "│ user     ┆ dst_port ┆ country       ┆ anomaly │\n",
       "│ ---      ┆ ---      ┆ ---           ┆ ---     │\n",
       "│ str      ┆ i64      ┆ str           ┆ i64     │\n",
       "╞══════════╪══════════╪═══════════════╪═════════╡\n",
       "│ b244d142 ┆ 443      ┆ United States ┆ 1       │\n",
       "│ 1021694a ┆ 80       ┆ United States ┆ 1       │\n",
       "│ 1021694a ┆ 80       ┆ United States ┆ 1       │\n",
       "│ 1021694a ┆ 80       ┆ United States ┆ 1       │\n",
       "│ 142f88ad ┆ 443      ┆ United States ┆ 1       │\n",
       "└──────────┴──────────┴───────────────┴─────────┘"
      ]
     },
     "execution_count": 2,
     "metadata": {},
     "output_type": "execute_result"
    }
   ],
   "source": [
    "df = pl.read_csv('../../datasets/sample_anomaly.csv', null_values=['-'])\n",
    "df.head()"
   ]
  },
  {
   "cell_type": "markdown",
   "metadata": {},
   "source": [
    "## Ordinal encoding"
   ]
  },
  {
   "cell_type": "code",
   "execution_count": 3,
   "metadata": {},
   "outputs": [
    {
     "data": {
      "text/html": [
       "<div><style>\n",
       ".dataframe > thead > tr,\n",
       ".dataframe > tbody > tr {\n",
       "  text-align: right;\n",
       "  white-space: pre-wrap;\n",
       "}\n",
       "</style>\n",
       "<small>shape: (5, 4)</small><table border=\"1\" class=\"dataframe\"><thead><tr><th>user</th><th>dst_port</th><th>country</th><th>anomaly</th></tr><tr><td>f64</td><td>i64</td><td>str</td><td>i64</td></tr></thead><tbody><tr><td>0.698506</td><td>443</td><td>&quot;United States&quot;</td><td>1</td></tr><tr><td>0.065101</td><td>80</td><td>&quot;United States&quot;</td><td>1</td></tr><tr><td>0.065101</td><td>80</td><td>&quot;United States&quot;</td><td>1</td></tr><tr><td>0.065101</td><td>80</td><td>&quot;United States&quot;</td><td>1</td></tr><tr><td>0.08111</td><td>443</td><td>&quot;United States&quot;</td><td>1</td></tr></tbody></table></div>"
      ],
      "text/plain": [
       "shape: (5, 4)\n",
       "┌──────────┬──────────┬───────────────┬─────────┐\n",
       "│ user     ┆ dst_port ┆ country       ┆ anomaly │\n",
       "│ ---      ┆ ---      ┆ ---           ┆ ---     │\n",
       "│ f64      ┆ i64      ┆ str           ┆ i64     │\n",
       "╞══════════╪══════════╪═══════════════╪═════════╡\n",
       "│ 0.698506 ┆ 443      ┆ United States ┆ 1       │\n",
       "│ 0.065101 ┆ 80       ┆ United States ┆ 1       │\n",
       "│ 0.065101 ┆ 80       ┆ United States ┆ 1       │\n",
       "│ 0.065101 ┆ 80       ┆ United States ┆ 1       │\n",
       "│ 0.08111  ┆ 443      ┆ United States ┆ 1       │\n",
       "└──────────┴──────────┴───────────────┴─────────┘"
      ]
     },
     "execution_count": 3,
     "metadata": {},
     "output_type": "execute_result"
    }
   ],
   "source": [
    "ord_enc = OrdinalEncoder()\n",
    "sca = MinMaxScaler()\n",
    "\n",
    "df[['user']] = sca.fit_transform(ord_enc.fit_transform(df[['user']]))\n",
    "df.head()"
   ]
  },
  {
   "cell_type": "markdown",
   "metadata": {},
   "source": [
    "## One-Hot Encoding"
   ]
  },
  {
   "cell_type": "code",
   "execution_count": 4,
   "metadata": {},
   "outputs": [
    {
     "data": {
      "text/html": [
       "<div><style>\n",
       ".dataframe > thead > tr,\n",
       ".dataframe > tbody > tr {\n",
       "  text-align: right;\n",
       "  white-space: pre-wrap;\n",
       "}\n",
       "</style>\n",
       "<small>shape: (5, 8)</small><table border=\"1\" class=\"dataframe\"><thead><tr><th>user</th><th>dst_port</th><th>anomaly</th><th>country_0</th><th>country_1</th><th>country_2</th><th>country_3</th><th>country_4</th></tr><tr><td>f64</td><td>i64</td><td>i64</td><td>f64</td><td>f64</td><td>f64</td><td>f64</td><td>f64</td></tr></thead><tbody><tr><td>0.698506</td><td>443</td><td>1</td><td>0.0</td><td>0.0</td><td>0.0</td><td>1.0</td><td>0.0</td></tr><tr><td>0.065101</td><td>80</td><td>1</td><td>0.0</td><td>0.0</td><td>0.0</td><td>1.0</td><td>0.0</td></tr><tr><td>0.065101</td><td>80</td><td>1</td><td>0.0</td><td>0.0</td><td>0.0</td><td>1.0</td><td>0.0</td></tr><tr><td>0.065101</td><td>80</td><td>1</td><td>0.0</td><td>0.0</td><td>0.0</td><td>1.0</td><td>0.0</td></tr><tr><td>0.08111</td><td>443</td><td>1</td><td>0.0</td><td>0.0</td><td>0.0</td><td>1.0</td><td>0.0</td></tr></tbody></table></div>"
      ],
      "text/plain": [
       "shape: (5, 8)\n",
       "┌──────────┬──────────┬─────────┬───────────┬───────────┬───────────┬───────────┬───────────┐\n",
       "│ user     ┆ dst_port ┆ anomaly ┆ country_0 ┆ country_1 ┆ country_2 ┆ country_3 ┆ country_4 │\n",
       "│ ---      ┆ ---      ┆ ---     ┆ ---       ┆ ---       ┆ ---       ┆ ---       ┆ ---       │\n",
       "│ f64      ┆ i64      ┆ i64     ┆ f64       ┆ f64       ┆ f64       ┆ f64       ┆ f64       │\n",
       "╞══════════╪══════════╪═════════╪═══════════╪═══════════╪═══════════╪═══════════╪═══════════╡\n",
       "│ 0.698506 ┆ 443      ┆ 1       ┆ 0.0       ┆ 0.0       ┆ 0.0       ┆ 1.0       ┆ 0.0       │\n",
       "│ 0.065101 ┆ 80       ┆ 1       ┆ 0.0       ┆ 0.0       ┆ 0.0       ┆ 1.0       ┆ 0.0       │\n",
       "│ 0.065101 ┆ 80       ┆ 1       ┆ 0.0       ┆ 0.0       ┆ 0.0       ┆ 1.0       ┆ 0.0       │\n",
       "│ 0.065101 ┆ 80       ┆ 1       ┆ 0.0       ┆ 0.0       ┆ 0.0       ┆ 1.0       ┆ 0.0       │\n",
       "│ 0.08111  ┆ 443      ┆ 1       ┆ 0.0       ┆ 0.0       ┆ 0.0       ┆ 1.0       ┆ 0.0       │\n",
       "└──────────┴──────────┴─────────┴───────────┴───────────┴───────────┴───────────┴───────────┘"
      ]
     },
     "execution_count": 4,
     "metadata": {},
     "output_type": "execute_result"
    }
   ],
   "source": [
    "MAX_CAT = 5\n",
    "one_hot_enc = OneHotEncoder(max_categories=MAX_CAT, sparse_output=False)\n",
    "\n",
    "encoded_columns = one_hot_enc.fit_transform(df[['country']])\n",
    "\n",
    "for i in range(MAX_CAT):\n",
    "    df = df.with_columns(pl.lit(pl.Series(f'country_{i}', [x[i] for x in encoded_columns])))\n",
    "df = df.drop('country')\n",
    "df.head()"
   ]
  },
  {
   "cell_type": "code",
   "execution_count": 5,
   "metadata": {},
   "outputs": [
    {
     "data": {
      "text/html": [
       "<div><style>\n",
       ".dataframe > thead > tr,\n",
       ".dataframe > tbody > tr {\n",
       "  text-align: right;\n",
       "  white-space: pre-wrap;\n",
       "}\n",
       "</style>\n",
       "<small>shape: (5, 12)</small><table border=\"1\" class=\"dataframe\"><thead><tr><th>user</th><th>anomaly</th><th>country_0</th><th>country_1</th><th>country_2</th><th>country_3</th><th>country_4</th><th>dst_port_0</th><th>dst_port_1</th><th>dst_port_2</th><th>dst_port_3</th><th>dst_port_4</th></tr><tr><td>f64</td><td>i64</td><td>f64</td><td>f64</td><td>f64</td><td>f64</td><td>f64</td><td>f64</td><td>f64</td><td>f64</td><td>f64</td><td>f64</td></tr></thead><tbody><tr><td>0.698506</td><td>1</td><td>0.0</td><td>0.0</td><td>0.0</td><td>1.0</td><td>0.0</td><td>0.0</td><td>0.0</td><td>1.0</td><td>0.0</td><td>0.0</td></tr><tr><td>0.065101</td><td>1</td><td>0.0</td><td>0.0</td><td>0.0</td><td>1.0</td><td>0.0</td><td>0.0</td><td>1.0</td><td>0.0</td><td>0.0</td><td>0.0</td></tr><tr><td>0.065101</td><td>1</td><td>0.0</td><td>0.0</td><td>0.0</td><td>1.0</td><td>0.0</td><td>0.0</td><td>1.0</td><td>0.0</td><td>0.0</td><td>0.0</td></tr><tr><td>0.065101</td><td>1</td><td>0.0</td><td>0.0</td><td>0.0</td><td>1.0</td><td>0.0</td><td>0.0</td><td>1.0</td><td>0.0</td><td>0.0</td><td>0.0</td></tr><tr><td>0.08111</td><td>1</td><td>0.0</td><td>0.0</td><td>0.0</td><td>1.0</td><td>0.0</td><td>0.0</td><td>0.0</td><td>1.0</td><td>0.0</td><td>0.0</td></tr></tbody></table></div>"
      ],
      "text/plain": [
       "shape: (5, 12)\n",
       "┌──────────┬─────────┬───────────┬───────────┬───┬────────────┬────────────┬───────────┬───────────┐\n",
       "│ user     ┆ anomaly ┆ country_0 ┆ country_1 ┆ … ┆ dst_port_1 ┆ dst_port_2 ┆ dst_port_ ┆ dst_port_ │\n",
       "│ ---      ┆ ---     ┆ ---       ┆ ---       ┆   ┆ ---        ┆ ---        ┆ 3         ┆ 4         │\n",
       "│ f64      ┆ i64     ┆ f64       ┆ f64       ┆   ┆ f64        ┆ f64        ┆ ---       ┆ ---       │\n",
       "│          ┆         ┆           ┆           ┆   ┆            ┆            ┆ f64       ┆ f64       │\n",
       "╞══════════╪═════════╪═══════════╪═══════════╪═══╪════════════╪════════════╪═══════════╪═══════════╡\n",
       "│ 0.698506 ┆ 1       ┆ 0.0       ┆ 0.0       ┆ … ┆ 0.0        ┆ 1.0        ┆ 0.0       ┆ 0.0       │\n",
       "│ 0.065101 ┆ 1       ┆ 0.0       ┆ 0.0       ┆ … ┆ 1.0        ┆ 0.0        ┆ 0.0       ┆ 0.0       │\n",
       "│ 0.065101 ┆ 1       ┆ 0.0       ┆ 0.0       ┆ … ┆ 1.0        ┆ 0.0        ┆ 0.0       ┆ 0.0       │\n",
       "│ 0.065101 ┆ 1       ┆ 0.0       ┆ 0.0       ┆ … ┆ 1.0        ┆ 0.0        ┆ 0.0       ┆ 0.0       │\n",
       "│ 0.08111  ┆ 1       ┆ 0.0       ┆ 0.0       ┆ … ┆ 0.0        ┆ 1.0        ┆ 0.0       ┆ 0.0       │\n",
       "└──────────┴─────────┴───────────┴───────────┴───┴────────────┴────────────┴───────────┴───────────┘"
      ]
     },
     "execution_count": 5,
     "metadata": {},
     "output_type": "execute_result"
    }
   ],
   "source": [
    "MAX_CAT = 5\n",
    "one_hot_enc = OneHotEncoder(max_categories=MAX_CAT, sparse_output=False)\n",
    "\n",
    "encoded_columns = one_hot_enc.fit_transform(df[['dst_port']])\n",
    "\n",
    "for i in range(MAX_CAT):\n",
    "    df = df.with_columns(pl.lit(pl.Series(f'dst_port_{i}', [x[i] for x in encoded_columns])))\n",
    "df = df.drop('dst_port')\n",
    "df.head()"
   ]
  },
  {
   "cell_type": "markdown",
   "metadata": {},
   "source": [
    "## Plot Data distribution"
   ]
  },
  {
   "cell_type": "code",
   "execution_count": 6,
   "metadata": {},
   "outputs": [
    {
     "data": {
      "image/png": "[encoded data removed]",
      "text/plain": [
       "<Figure size 640x480 with 1 Axes>"
      ]
     },
     "metadata": {},
     "output_type": "display_data"
    }
   ],
   "source": [
    "df_malicious = df.filter(pl.col('anomaly') == 1)\n",
    "df_benign    = df.filter(pl.col('anomaly') == 0)\n",
    "\n",
    "df_count = pl.DataFrame({'anomaly': ['Benign', 'Malicious'], 'count': [df_benign.shape[0], df_malicious.shape[0]]})\n",
    "sns.barplot(x='anomaly', y='count', hue='anomaly', data=df_count)\n",
    "plt.show()"
   ]
  },
  {
   "cell_type": "markdown",
   "metadata": {},
   "source": [
    "## Split data from training"
   ]
  },
  {
   "cell_type": "code",
   "execution_count": 7,
   "metadata": {},
   "outputs": [
    {
     "name": "stdout",
     "output_type": "stream",
     "text": [
      "(3592, 11)\n"
     ]
    }
   ],
   "source": [
    "y = df['anomaly']\n",
    "X = df.drop(['anomaly'])\n",
    "\n",
    "X_train, X_test, y_train, y_test = train_test_split(X, y, test_size=0.3, stratify=y, random_state=42)\n",
    "print(f'{X.shape}')"
   ]
  },
  {
   "cell_type": "markdown",
   "metadata": {},
   "source": [
    "## Train with a grid Search"
   ]
  },
  {
   "cell_type": "markdown",
   "metadata": {},
   "source": [
    "### Define a method to generate DL models from Keras"
   ]
  },
  {
   "cell_type": "code",
   "execution_count": 8,
   "metadata": {},
   "outputs": [],
   "source": [
    "def neural_network(optimizer='adam', activation='relu', hidden_layers=1):\n",
    "  # Initialize the constructor\n",
    "  model = Sequential()\n",
    "  # Add an input layer\n",
    "  model.add(Dense(11, activation=activation, input_shape=(11,)))\n",
    "\n",
    "  for i in range(hidden_layers):\n",
    "    # Add one hidden layer\n",
    "    model.add(Dense(8, activation=activation))\n",
    "\n",
    "  # Add an output layer \n",
    "  model.add(Dense(1, activation=activation))\n",
    "  #compile model\n",
    "  model.compile(loss='binary_crossentropy', optimizer=optimizer)\n",
    "  return model"
   ]
  },
  {
   "cell_type": "markdown",
   "metadata": {},
   "source": [
    "### Define the models and the parameters"
   ]
  },
  {
   "cell_type": "code",
   "execution_count": 9,
   "metadata": {},
   "outputs": [],
   "source": [
    "models = [\n",
    "    ('LR', LogisticRegression(random_state=42), {'C':[0.01, 0.1, 1.0]}),\n",
    "    ('RF', RandomForestClassifier(random_state=42), {'n_estimators':[100, 150, 200],\n",
    "    'min_samples_split':[2, 5, 10], 'min_samples_leaf':[1, 2, 4], 'bootstrap':[True, False]}),\n",
    "    ('NN', KerasClassifier(model=neural_network, verbose=0, epochs=20, batch_size=256), {\n",
    "        'model__optimizer': ['adam', 'adamax', 'rmsprop'],\n",
    "        'model__activation': ['relu', 'sigmoid', 'silu'],\n",
    "        'model__hidden_layers': [1,2,3]\n",
    "    })\n",
    "]"
   ]
  },
  {
   "cell_type": "markdown",
   "metadata": {},
   "source": [
    "### Run the Grid Search and evaluate the results"
   ]
  },
  {
   "cell_type": "code",
   "execution_count": 10,
   "metadata": {},
   "outputs": [
    {
     "name": "stdout",
     "output_type": "stream",
     "text": [
      "Training model LR\n",
      "              precision    recall  f1-score   support\n",
      "\n",
      "      Benign       0.94      0.99      0.96       809\n",
      "   Malicious       0.96      0.81      0.88       269\n",
      "\n",
      "    accuracy                           0.94      1078\n",
      "   macro avg       0.95      0.90      0.92      1078\n",
      "weighted avg       0.95      0.94      0.94      1078\n",
      "\n"
     ]
    },
    {
     "data": {
      "image/png": "[encoded data removed]",
      "text/plain": [
       "<Figure size 640x480 with 2 Axes>"
      ]
     },
     "metadata": {},
     "output_type": "display_data"
    },
    {
     "name": "stdout",
     "output_type": "stream",
     "text": [
      "Training model RF\n",
      "              precision    recall  f1-score   support\n",
      "\n",
      "      Benign       0.99      0.99      0.99       809\n",
      "   Malicious       0.96      0.97      0.96       269\n",
      "\n",
      "    accuracy                           0.98      1078\n",
      "   macro avg       0.97      0.98      0.98      1078\n",
      "weighted avg       0.98      0.98      0.98      1078\n",
      "\n"
     ]
    },
    {
     "data": {
      "image/png": "[encoded data removed]",
      "text/plain": [
       "<Figure size 640x480 with 2 Axes>"
      ]
     },
     "metadata": {},
     "output_type": "display_data"
    },
    {
     "name": "stdout",
     "output_type": "stream",
     "text": [
      "Training model NN\n",
      "              precision    recall  f1-score   support\n",
      "\n",
      "      Benign       0.75      1.00      0.86       809\n",
      "   Malicious       0.00      0.00      0.00       269\n",
      "\n",
      "    accuracy                           0.75      1078\n",
      "   macro avg       0.38      0.50      0.43      1078\n",
      "weighted avg       0.56      0.75      0.64      1078\n",
      "\n"
     ]
    },
    {
     "name": "stderr",
     "output_type": "stream",
     "text": [
      "/home/mantunes/git/aas/venv/lib64/python3.9/site-packages/sklearn/metrics/_classification.py:1471: UndefinedMetricWarning: Precision and F-score are ill-defined and being set to 0.0 in labels with no predicted samples. Use `zero_division` parameter to control this behavior.\n",
      "  _warn_prf(average, modifier, msg_start, len(result))\n",
      "/home/mantunes/git/aas/venv/lib64/python3.9/site-packages/sklearn/metrics/_classification.py:1471: UndefinedMetricWarning: Precision and F-score are ill-defined and being set to 0.0 in labels with no predicted samples. Use `zero_division` parameter to control this behavior.\n",
      "  _warn_prf(average, modifier, msg_start, len(result))\n",
      "/home/mantunes/git/aas/venv/lib64/python3.9/site-packages/sklearn/metrics/_classification.py:1471: UndefinedMetricWarning: Precision and F-score are ill-defined and being set to 0.0 in labels with no predicted samples. Use `zero_division` parameter to control this behavior.\n",
      "  _warn_prf(average, modifier, msg_start, len(result))\n"
     ]
    },
    {
     "data": {
      "image/png": "[encoded data removed]",
      "text/plain": [
       "<Figure size 640x480 with 2 Axes>"
      ]
     },
     "metadata": {},
     "output_type": "display_data"
    }
   ],
   "source": [
    "for n, m, p in models:\n",
    "    print(f'Training model {n}')\n",
    "    cla = GridSearchCV(estimator=m, param_grid=p, cv=3)\n",
    "    cla.fit(X_train, y_train)\n",
    "    \n",
    "    y_pred = cla.predict(X_test)\n",
    "    \n",
    "    print(classification_report(y_test, y_pred, target_names=['Benign', 'Malicious']))\n",
    "    \n",
    "    cf_matrix = confusion_matrix(y_test, y_pred)\n",
    "    sns.heatmap(cf_matrix/np.sum(cf_matrix), annot=True, fmt='.2%', cmap='Blues')\n",
    "    plt.show()"
   ]
  }
 ],
 "metadata": {
  "kernelspec": {
   "display_name": "venv",
   "language": "python",
   "name": "python3"
  },
  "language_info": {
   "codemirror_mode": {
    "name": "ipython",
    "version": 3
   },
   "file_extension": ".py",
   "mimetype": "text/x-python",
   "name": "python",
   "nbconvert_exporter": "python",
   "pygments_lexer": "ipython3",
   "version": "3.12.11"
  }
 },
 "nbformat": 4,
 "nbformat_minor": 2
}
