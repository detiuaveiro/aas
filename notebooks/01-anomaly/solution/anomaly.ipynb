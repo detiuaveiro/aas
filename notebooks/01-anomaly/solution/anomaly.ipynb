{
 "cells": [
  {
   "cell_type": "markdown",
   "metadata": {},
   "source": [
    "# Anomly detection for IoT \n",
    "\n",
    "Preprocessed dataset for network based intrusion detection system in Iot Devices. \n",
    "Ultrasonic Sensor with Arduino and NodeMCU used to monitor the network and collect the network logs. \n",
    "NodeMCU with ESP8266 wifi module was used to send data to the server via wifi. \n",
    "\n",
    "For more detail, check [here](https://www.kaggle.com/datasets/speedwall10/iot-device-network-logs).\n"
   ]
  },
  {
   "cell_type": "code",
   "execution_count": 15,
   "metadata": {},
   "outputs": [],
   "source": [
    "%matplotlib inline\n",
    "import numpy as np\n",
    "import polars as pl\n",
    "import seaborn as sns\n",
    "import matplotlib.pyplot as plt\n",
    "plt.rcParams['figure.figsize'] = [20, 5]\n",
    "plt.rcParams[\"figure.autolayout\"] = True\n",
    "plt.rcParams.update({'font.size': 22})\n",
    "\n",
    "from sklearn.preprocessing import StandardScaler, LabelEncoder\n",
    "from sklearn.decomposition import PCA\n",
    "\n",
    "from yellowbrick.cluster import KElbowVisualizer\n",
    "\n",
    "from sklearn.cluster import KMeans\n"
   ]
  },
  {
   "cell_type": "code",
   "execution_count": 16,
   "metadata": {},
   "outputs": [
    {
     "data": {
      "text/html": [
       "<div><style>\n",
       ".dataframe > thead > tr > th,\n",
       ".dataframe > tbody > tr > td {\n",
       "  text-align: right;\n",
       "  white-space: pre-wrap;\n",
       "}\n",
       "</style>\n",
       "<small>shape: (5, 14)</small><table border=\"1\" class=\"dataframe\"><thead><tr><th>frame.number</th><th>frame.time</th><th>frame.len</th><th>eth.src</th><th>eth.dst</th><th>ip.src</th><th>ip.dst</th><th>ip.proto</th><th>ip.len</th><th>tcp.len</th><th>tcp.srcport</th><th>tcp.dstport</th><th>Value</th><th>normality</th></tr><tr><td>i64</td><td>i64</td><td>i64</td><td>i64</td><td>i64</td><td>i64</td><td>i64</td><td>f64</td><td>f64</td><td>f64</td><td>f64</td><td>f64</td><td>f64</td><td>i64</td></tr></thead><tbody><tr><td>3994</td><td>123814123496113</td><td>62</td><td>167275820076079</td><td>87971959760497</td><td>1921680121</td><td>192168035</td><td>6.0</td><td>48.0</td><td>0.0</td><td>80.0</td><td>58292.0</td><td>-99.0</td><td>0</td></tr><tr><td>53498</td><td>125053714945724</td><td>42</td><td>167275820076079</td><td>110425385261001</td><td>0</td><td>0</td><td>-1.0</td><td>0.0</td><td>0.0</td><td>0.0</td><td>0.0</td><td>-4.0</td><td>4</td></tr><tr><td>2156</td><td>123748193274544</td><td>269</td><td>87971959760497</td><td>167275820076079</td><td>192168035</td><td>1921680121</td><td>6.0</td><td>255.0</td><td>215.0</td><td>57124.864725</td><td>80.0</td><td>62.0</td><td>1</td></tr><tr><td>88715</td><td>125851344688020</td><td>42</td><td>167275820076079</td><td>281474976710655</td><td>0</td><td>0</td><td>-1.0</td><td>0.0</td><td>0.0</td><td>0.0</td><td>0.0</td><td>-4.0</td><td>4</td></tr><tr><td>26030</td><td>124309256583786</td><td>268</td><td>87971959760497</td><td>167275820076079</td><td>192168035</td><td>1921680121</td><td>6.0</td><td>254.536308</td><td>214.536308</td><td>58415.088499</td><td>80.0</td><td>44.541561</td><td>1</td></tr></tbody></table></div>"
      ],
      "text/plain": [
       "shape: (5, 14)\n",
       "┌───────────┬───────────┬───────────┬───────────┬───┬───────────┬───────────┬───────────┬──────────┐\n",
       "│ frame.num ┆ frame.tim ┆ frame.len ┆ eth.src   ┆ … ┆ tcp.srcpo ┆ tcp.dstpo ┆ Value     ┆ normalit │\n",
       "│ ber       ┆ e         ┆ ---       ┆ ---       ┆   ┆ rt        ┆ rt        ┆ ---       ┆ y        │\n",
       "│ ---       ┆ ---       ┆ i64       ┆ i64       ┆   ┆ ---       ┆ ---       ┆ f64       ┆ ---      │\n",
       "│ i64       ┆ i64       ┆           ┆           ┆   ┆ f64       ┆ f64       ┆           ┆ i64      │\n",
       "╞═══════════╪═══════════╪═══════════╪═══════════╪═══╪═══════════╪═══════════╪═══════════╪══════════╡\n",
       "│ 3994      ┆ 123814123 ┆ 62        ┆ 167275820 ┆ … ┆ 80.0      ┆ 58292.0   ┆ -99.0     ┆ 0        │\n",
       "│           ┆ 496113    ┆           ┆ 076079    ┆   ┆           ┆           ┆           ┆          │\n",
       "│ 53498     ┆ 125053714 ┆ 42        ┆ 167275820 ┆ … ┆ 0.0       ┆ 0.0       ┆ -4.0      ┆ 4        │\n",
       "│           ┆ 945724    ┆           ┆ 076079    ┆   ┆           ┆           ┆           ┆          │\n",
       "│ 2156      ┆ 123748193 ┆ 269       ┆ 879719597 ┆ … ┆ 57124.864 ┆ 80.0      ┆ 62.0      ┆ 1        │\n",
       "│           ┆ 274544    ┆           ┆ 60497     ┆   ┆ 725       ┆           ┆           ┆          │\n",
       "│ 88715     ┆ 125851344 ┆ 42        ┆ 167275820 ┆ … ┆ 0.0       ┆ 0.0       ┆ -4.0      ┆ 4        │\n",
       "│           ┆ 688020    ┆           ┆ 076079    ┆   ┆           ┆           ┆           ┆          │\n",
       "│ 26030     ┆ 124309256 ┆ 268       ┆ 879719597 ┆ … ┆ 58415.088 ┆ 80.0      ┆ 44.541561 ┆ 1        │\n",
       "│           ┆ 583786    ┆           ┆ 60497     ┆   ┆ 499       ┆           ┆           ┆          │\n",
       "└───────────┴───────────┴───────────┴───────────┴───┴───────────┴───────────┴───────────┴──────────┘"
      ]
     },
     "execution_count": 16,
     "metadata": {},
     "output_type": "execute_result"
    }
   ],
   "source": [
    "df = pl.read_csv('https://cloud.hrun.duckdns.org/s/9YdoqYTGR4poZxe/download/IoT-DNL.csv')\n",
    "df = df.sample(int(df.shape[0]*0.2))\n",
    "df.head()"
   ]
  },
  {
   "cell_type": "code",
   "execution_count": 17,
   "metadata": {},
   "outputs": [
    {
     "data": {
      "text/html": [
       "<div><style>\n",
       ".dataframe > thead > tr > th,\n",
       ".dataframe > tbody > tr > td {\n",
       "  text-align: right;\n",
       "  white-space: pre-wrap;\n",
       "}\n",
       "</style>\n",
       "<small>shape: (9, 15)</small><table border=\"1\" class=\"dataframe\"><thead><tr><th>describe</th><th>frame.number</th><th>frame.time</th><th>frame.len</th><th>eth.src</th><th>eth.dst</th><th>ip.src</th><th>ip.dst</th><th>ip.proto</th><th>ip.len</th><th>tcp.len</th><th>tcp.srcport</th><th>tcp.dstport</th><th>Value</th><th>normality</th></tr><tr><td>str</td><td>f64</td><td>f64</td><td>f64</td><td>f64</td><td>f64</td><td>f64</td><td>f64</td><td>f64</td><td>f64</td><td>f64</td><td>f64</td><td>f64</td><td>f64</td><td>f64</td></tr></thead><tbody><tr><td>&quot;count&quot;</td><td>95485.0</td><td>95485.0</td><td>95485.0</td><td>95485.0</td><td>95485.0</td><td>95485.0</td><td>95485.0</td><td>95485.0</td><td>95485.0</td><td>95485.0</td><td>95485.0</td><td>95485.0</td><td>95485.0</td><td>95485.0</td></tr><tr><td>&quot;null_count&quot;</td><td>0.0</td><td>0.0</td><td>0.0</td><td>0.0</td><td>0.0</td><td>0.0</td><td>0.0</td><td>0.0</td><td>0.0</td><td>0.0</td><td>0.0</td><td>0.0</td><td>0.0</td><td>0.0</td></tr><tr><td>&quot;mean&quot;</td><td>52872.347751</td><td>1.2566e14</td><td>120.478871</td><td>1.2930e14</td><td>1.6070e14</td><td>8.7175e8</td><td>1.2024e9</td><td>2.844667</td><td>97.022943</td><td>60.707825</td><td>23600.581854</td><td>4546.053988</td><td>18.896065</td><td>2.495973</td></tr><tr><td>&quot;std&quot;</td><td>32300.349452</td><td>2.0571e12</td><td>87.948041</td><td>4.4741e13</td><td>5.0870e13</td><td>2.4701e9</td><td>3.5995e9</td><td>3.283761</td><td>96.90159</td><td>87.332629</td><td>27880.729705</td><td>15460.094569</td><td>7127.501454</td><td>1.707938</td></tr><tr><td>&quot;min&quot;</td><td>1.0</td><td>1.2372e14</td><td>42.0</td><td>3.7560e13</td><td>1.1011e12</td><td>0.0</td><td>0.0</td><td>-1.0</td><td>0.0</td><td>0.0</td><td>0.0</td><td>0.0</td><td>-99.0</td><td>0.0</td></tr><tr><td>&quot;25%&quot;</td><td>27594.0</td><td>1.2434e14</td><td>42.0</td><td>8.7972e13</td><td>1.3341e14</td><td>0.0</td><td>0.0</td><td>-1.0</td><td>0.0</td><td>0.0</td><td>0.0</td><td>0.0</td><td>-5.0</td><td>1.0</td></tr><tr><td>&quot;50%&quot;</td><td>47448.0</td><td>1.2491e14</td><td>98.0</td><td>1.1043e14</td><td>1.6728e14</td><td>1.92168035e8</td><td>1.9217e9</td><td>1.0</td><td>84.0</td><td>0.0</td><td>0.0</td><td>0.0</td><td>-3.0</td><td>2.0</td></tr><tr><td>&quot;75%&quot;</td><td>77849.0</td><td>1.2565e14</td><td>176.0</td><td>1.6728e14</td><td>1.6728e14</td><td>1.9217e9</td><td>1.9217e9</td><td>6.0</td><td>162.0</td><td>110.0</td><td>54901.64586</td><td>80.0</td><td>-2.0</td><td>4.0</td></tr><tr><td>&quot;max&quot;</td><td>125151.0</td><td>1.3051e14</td><td>1424.0</td><td>2.0707e14</td><td>2.8147e14</td><td>1.7222e11</td><td>2.3926e11</td><td>17.0</td><td>1410.0</td><td>1358.0</td><td>65531.0</td><td>65531.0</td><td>2.202219e6</td><td>5.0</td></tr></tbody></table></div>"
      ],
      "text/plain": [
       "shape: (9, 15)\n",
       "┌───────────┬───────────┬───────────┬───────────┬───┬───────────┬───────────┬───────────┬──────────┐\n",
       "│ describe  ┆ frame.num ┆ frame.tim ┆ frame.len ┆ … ┆ tcp.srcpo ┆ tcp.dstpo ┆ Value     ┆ normalit │\n",
       "│ ---       ┆ ber       ┆ e         ┆ ---       ┆   ┆ rt        ┆ rt        ┆ ---       ┆ y        │\n",
       "│ str       ┆ ---       ┆ ---       ┆ f64       ┆   ┆ ---       ┆ ---       ┆ f64       ┆ ---      │\n",
       "│           ┆ f64       ┆ f64       ┆           ┆   ┆ f64       ┆ f64       ┆           ┆ f64      │\n",
       "╞═══════════╪═══════════╪═══════════╪═══════════╪═══╪═══════════╪═══════════╪═══════════╪══════════╡\n",
       "│ count     ┆ 95485.0   ┆ 95485.0   ┆ 95485.0   ┆ … ┆ 95485.0   ┆ 95485.0   ┆ 95485.0   ┆ 95485.0  │\n",
       "│ null_coun ┆ 0.0       ┆ 0.0       ┆ 0.0       ┆ … ┆ 0.0       ┆ 0.0       ┆ 0.0       ┆ 0.0      │\n",
       "│ t         ┆           ┆           ┆           ┆   ┆           ┆           ┆           ┆          │\n",
       "│ mean      ┆ 52872.347 ┆ 1.2566e14 ┆ 120.47887 ┆ … ┆ 23600.581 ┆ 4546.0539 ┆ 18.896065 ┆ 2.495973 │\n",
       "│           ┆ 751       ┆           ┆ 1         ┆   ┆ 854       ┆ 88        ┆           ┆          │\n",
       "│ std       ┆ 32300.349 ┆ 2.0571e12 ┆ 87.948041 ┆ … ┆ 27880.729 ┆ 15460.094 ┆ 7127.5014 ┆ 1.707938 │\n",
       "│           ┆ 452       ┆           ┆           ┆   ┆ 705       ┆ 569       ┆ 54        ┆          │\n",
       "│ min       ┆ 1.0       ┆ 1.2372e14 ┆ 42.0      ┆ … ┆ 0.0       ┆ 0.0       ┆ -99.0     ┆ 0.0      │\n",
       "│ 25%       ┆ 27594.0   ┆ 1.2434e14 ┆ 42.0      ┆ … ┆ 0.0       ┆ 0.0       ┆ -5.0      ┆ 1.0      │\n",
       "│ 50%       ┆ 47448.0   ┆ 1.2491e14 ┆ 98.0      ┆ … ┆ 0.0       ┆ 0.0       ┆ -3.0      ┆ 2.0      │\n",
       "│ 75%       ┆ 77849.0   ┆ 1.2565e14 ┆ 176.0     ┆ … ┆ 54901.645 ┆ 80.0      ┆ -2.0      ┆ 4.0      │\n",
       "│           ┆           ┆           ┆           ┆   ┆ 86        ┆           ┆           ┆          │\n",
       "│ max       ┆ 125151.0  ┆ 1.3051e14 ┆ 1424.0    ┆ … ┆ 65531.0   ┆ 65531.0   ┆ 2.202219e ┆ 5.0      │\n",
       "│           ┆           ┆           ┆           ┆   ┆           ┆           ┆ 6         ┆          │\n",
       "└───────────┴───────────┴───────────┴───────────┴───┴───────────┴───────────┴───────────┴──────────┘"
      ]
     },
     "execution_count": 17,
     "metadata": {},
     "output_type": "execute_result"
    }
   ],
   "source": [
    "df.describe()"
   ]
  },
  {
   "cell_type": "code",
   "execution_count": 18,
   "metadata": {},
   "outputs": [
    {
     "data": {
      "text/html": [
       "<div><style>\n",
       ".dataframe > thead > tr > th,\n",
       ".dataframe > tbody > tr > td {\n",
       "  text-align: right;\n",
       "  white-space: pre-wrap;\n",
       "}\n",
       "</style>\n",
       "<small>shape: (4_635, 2)</small><table border=\"1\" class=\"dataframe\"><thead><tr><th>tcp.dstport</th><th>counts</th></tr><tr><td>f64</td><td>u32</td></tr></thead><tbody><tr><td>51101.0</td><td>1</td></tr><tr><td>65154.0</td><td>1</td></tr><tr><td>55090.0</td><td>1</td></tr><tr><td>60242.0</td><td>1</td></tr><tr><td>59076.0</td><td>1</td></tr><tr><td>59189.0</td><td>1</td></tr><tr><td>64734.0</td><td>1</td></tr><tr><td>49914.0</td><td>1</td></tr><tr><td>61481.0</td><td>1</td></tr><tr><td>50023.0</td><td>1</td></tr><tr><td>57171.0</td><td>1</td></tr><tr><td>49931.0</td><td>1</td></tr><tr><td>&hellip;</td><td>&hellip;</td></tr><tr><td>56206.0</td><td>6</td></tr><tr><td>52838.0</td><td>6</td></tr><tr><td>59828.0</td><td>7</td></tr><tr><td>57030.0</td><td>7</td></tr><tr><td>49269.0</td><td>7</td></tr><tr><td>51817.0</td><td>7</td></tr><tr><td>51712.0</td><td>7</td></tr><tr><td>61905.0</td><td>9</td></tr><tr><td>44438.0</td><td>20</td></tr><tr><td>443.0</td><td>92</td></tr><tr><td>80.0</td><td>39915</td></tr><tr><td>0.0</td><td>47936</td></tr></tbody></table></div>"
      ],
      "text/plain": [
       "shape: (4_635, 2)\n",
       "┌─────────────┬────────┐\n",
       "│ tcp.dstport ┆ counts │\n",
       "│ ---         ┆ ---    │\n",
       "│ f64         ┆ u32    │\n",
       "╞═════════════╪════════╡\n",
       "│ 51101.0     ┆ 1      │\n",
       "│ 65154.0     ┆ 1      │\n",
       "│ 55090.0     ┆ 1      │\n",
       "│ 60242.0     ┆ 1      │\n",
       "│ …           ┆ …      │\n",
       "│ 44438.0     ┆ 20     │\n",
       "│ 443.0       ┆ 92     │\n",
       "│ 80.0        ┆ 39915  │\n",
       "│ 0.0         ┆ 47936  │\n",
       "└─────────────┴────────┘"
      ]
     },
     "execution_count": 18,
     "metadata": {},
     "output_type": "execute_result"
    }
   ],
   "source": [
    "df_ports = df[['tcp.dstport']]\n",
    "df_ports.head(10)\n",
    "\n",
    "df['tcp.dstport'].value_counts().sort('counts')"
   ]
  },
  {
   "cell_type": "code",
   "execution_count": 19,
   "metadata": {},
   "outputs": [
    {
     "data": {
      "text/html": [
       "<div><style>\n",
       ".dataframe > thead > tr > th,\n",
       ".dataframe > tbody > tr > td {\n",
       "  text-align: right;\n",
       "  white-space: pre-wrap;\n",
       "}\n",
       "</style>\n",
       "<small>shape: (35_805, 2)</small><table border=\"1\" class=\"dataframe\"><thead><tr><th>tcp.srcport</th><th>counts</th></tr><tr><td>f64</td><td>u32</td></tr></thead><tbody><tr><td>61423.699278</td><td>1</td></tr><tr><td>65523.0</td><td>1</td></tr><tr><td>53591.175579</td><td>1</td></tr><tr><td>63441.080467</td><td>1</td></tr><tr><td>56468.776705</td><td>1</td></tr><tr><td>63670.748766</td><td>1</td></tr><tr><td>60500.598726</td><td>1</td></tr><tr><td>56964.0</td><td>1</td></tr><tr><td>56489.359895</td><td>1</td></tr><tr><td>53622.441732</td><td>1</td></tr><tr><td>59812.0</td><td>1</td></tr><tr><td>56482.97789</td><td>1</td></tr><tr><td>&hellip;</td><td>&hellip;</td></tr><tr><td>37928.0</td><td>7</td></tr><tr><td>57030.0</td><td>7</td></tr><tr><td>58035.0</td><td>7</td></tr><tr><td>53606.0</td><td>7</td></tr><tr><td>64764.0</td><td>7</td></tr><tr><td>56641.0</td><td>7</td></tr><tr><td>62501.0</td><td>7</td></tr><tr><td>62117.0</td><td>8</td></tr><tr><td>44438.0</td><td>19</td></tr><tr><td>443.0</td><td>73</td></tr><tr><td>80.0</td><td>7469</td></tr><tr><td>0.0</td><td>47938</td></tr></tbody></table></div>"
      ],
      "text/plain": [
       "shape: (35_805, 2)\n",
       "┌──────────────┬────────┐\n",
       "│ tcp.srcport  ┆ counts │\n",
       "│ ---          ┆ ---    │\n",
       "│ f64          ┆ u32    │\n",
       "╞══════════════╪════════╡\n",
       "│ 61423.699278 ┆ 1      │\n",
       "│ 65523.0      ┆ 1      │\n",
       "│ 53591.175579 ┆ 1      │\n",
       "│ 63441.080467 ┆ 1      │\n",
       "│ …            ┆ …      │\n",
       "│ 44438.0      ┆ 19     │\n",
       "│ 443.0        ┆ 73     │\n",
       "│ 80.0         ┆ 7469   │\n",
       "│ 0.0          ┆ 47938  │\n",
       "└──────────────┴────────┘"
      ]
     },
     "execution_count": 19,
     "metadata": {},
     "output_type": "execute_result"
    }
   ],
   "source": [
    "df_ports = df[['tcp.srcport']]\n",
    "df_ports.head(10)\n",
    "\n",
    "df['tcp.srcport'].value_counts().sort('counts')\n"
   ]
  },
  {
   "cell_type": "code",
   "execution_count": 20,
   "metadata": {},
   "outputs": [],
   "source": [
    "#sns.pairplot(df.to_pandas())\n",
    "#plt.show()"
   ]
  },
  {
   "cell_type": "code",
   "execution_count": 21,
   "metadata": {},
   "outputs": [],
   "source": [
    "#sns.pairplot(df.to_pandas(), hue='normality')\n",
    "#plt.show()"
   ]
  },
  {
   "cell_type": "code",
   "execution_count": 22,
   "metadata": {},
   "outputs": [],
   "source": [
    "ports_map = {\n",
    "    80:1,\n",
    "    443:2,\n",
    "    \n",
    "    115:4,\n",
    "    20:5,\n",
    "    21:6,\n",
    "\n",
    "    22:8,\n",
    "    23:9,\n",
    "\n",
    "    7:11,\n",
    "    53:12,\n",
    "    67:13,\n",
    "    68:14,\n",
    "}"
   ]
  },
  {
   "cell_type": "code",
   "execution_count": 23,
   "metadata": {},
   "outputs": [
    {
     "data": {
      "text/plain": [
       "array([[ 6.20000000e+01,  1.67275820e+14,  8.79719598e+13, ...,\n",
       "         1.00000000e+00,  1.00000000e+02, -9.90000000e+01],\n",
       "       [ 4.20000000e+01,  1.67275820e+14,  1.10425385e+14, ...,\n",
       "         1.00000000e+02,  1.00000000e+02, -4.00000000e+00],\n",
       "       [ 2.69000000e+02,  8.79719598e+13,  1.67275820e+14, ...,\n",
       "         1.00000000e+02,  1.00000000e+00,  6.20000000e+01],\n",
       "       ...,\n",
       "       [ 9.80000000e+01,  1.67275820e+14,  1.89924305e+14, ...,\n",
       "         1.00000000e+02,  1.00000000e+02, -2.00000000e+00],\n",
       "       [ 4.20000000e+01,  3.75596775e+13,  1.67275820e+14, ...,\n",
       "         1.00000000e+02,  1.00000000e+02, -4.00000000e+00],\n",
       "       [ 5.40000000e+01,  8.79719598e+13,  1.67275820e+14, ...,\n",
       "         1.00000000e+02,  1.00000000e+00, -9.90000000e+01]])"
      ]
     },
     "execution_count": 23,
     "metadata": {},
     "output_type": "execute_result"
    }
   ],
   "source": [
    "df_clean = df.drop(['frame.number', 'frame.time', 'normality'])\n",
    "\n",
    "\n",
    "df_clean = df_clean.with_columns(\n",
    "    pl.col('tcp.srcport')\n",
    "    .map_dict(ports_map, default=100)\n",
    "    .alias('tcp.srcport'))\n",
    "\n",
    "df_clean = df_clean.with_columns(\n",
    "    pl.col('tcp.dstport')\n",
    "    .map_dict(ports_map, default=100)\n",
    "    .alias('tcp.dstport'))\n",
    "\n",
    "X = df_clean.drop_nulls().to_numpy()\n",
    "y = df[['normality']].drop_nulls().to_numpy()\n",
    "X"
   ]
  },
  {
   "cell_type": "code",
   "execution_count": 24,
   "metadata": {},
   "outputs": [
    {
     "data": {
      "text/plain": [
       "array([[-6.64928710e-01,  8.48907538e-01, -1.42961598e+00, ...,\n",
       "        -3.41509860e+00,  8.49195155e-01, -1.65410955e-02],\n",
       "       [-8.92336900e-01,  8.48907538e-01, -9.88228534e-01, ...,\n",
       "         2.92848089e-01,  8.49195155e-01, -3.21237184e-03],\n",
       "       [ 1.68874605e+00, -9.23613605e-01,  1.29332260e-01, ...,\n",
       "         2.92848089e-01, -1.17763222e+00,  6.04758356e-03],\n",
       "       ...,\n",
       "       [-2.55593968e-01,  8.48907538e-01,  5.74554168e-01, ...,\n",
       "         2.92848089e-01,  8.49195155e-01, -2.93176713e-03],\n",
       "       [-8.92336900e-01, -2.05037888e+00,  1.29332260e-01, ...,\n",
       "         2.92848089e-01,  8.49195155e-01, -3.21237184e-03],\n",
       "       [-7.55891986e-01, -9.23613605e-01,  1.29332260e-01, ...,\n",
       "         2.92848089e-01, -1.17763222e+00, -1.65410955e-02]])"
      ]
     },
     "execution_count": 24,
     "metadata": {},
     "output_type": "execute_result"
    }
   ],
   "source": [
    "scaler = StandardScaler()\n",
    "X_scaled = scaler.fit_transform(X)\n",
    "\n",
    "X_scaled"
   ]
  },
  {
   "cell_type": "code",
   "execution_count": 25,
   "metadata": {},
   "outputs": [
    {
     "data": {
      "image/png": "[encoded data removed]",
      "text/plain": [
       "<Figure size 2000x500 with 1 Axes>"
      ]
     },
     "metadata": {},
     "output_type": "display_data"
    },
    {
     "data": {
      "text/plain": [
       "<Axes: title={'center': 'Distortion Score Elbow for KMeans Clustering'}, xlabel='k', ylabel='distortion score'>"
      ]
     },
     "execution_count": 25,
     "metadata": {},
     "output_type": "execute_result"
    }
   ],
   "source": [
    "# Instantiate the clustering model and visualizer\n",
    "model = KMeans(n_init='auto')\n",
    "visualizer = KElbowVisualizer(model, k=(4, 20), timings=False)\n",
    "\n",
    "visualizer.fit(X_scaled)  # Fit the data to the visualizer\n",
    "visualizer.show()  # Finalize and render the figure"
   ]
  },
  {
   "cell_type": "code",
   "execution_count": 26,
   "metadata": {},
   "outputs": [],
   "source": [
    "k=8\n",
    "kmeans = KMeans(n_clusters=k, n_init='auto')\n",
    "kmeans.fit(X)\n",
    "distances = kmeans.transform(X)\n",
    "cluster_indices = kmeans.labels_"
   ]
  },
  {
   "cell_type": "code",
   "execution_count": 27,
   "metadata": {},
   "outputs": [
    {
     "name": "stdout",
     "output_type": "stream",
     "text": [
      "thresholds: [1.92353325e+05 5.30629742e+10 4.28767231e+11 2.67707742e+12\n",
      " 1.04583240e+11 6.55605379e+07 5.41541436e+11 4.47085560e+11]\n",
      "[ True  True  True ...  True  True  True]\n"
     ]
    }
   ],
   "source": [
    "mask = (cluster_indices[:, None] == np.arange(distances.shape[1]))\n",
    "distances[~mask] = 0\n",
    "\n",
    "dictionary = {i: column for i, column in enumerate(zip(*distances))}\n",
    "\n",
    "mean_distances = [sum(values) / len(values) for key, values in dictionary.items()]\n",
    "thresholds = np.array(mean_distances)  # thresholds als NumPy-Array anpassen\n",
    "\n",
    "print(f'thresholds: {thresholds}')\n",
    "\n",
    "outliers = np.any(np.array(distances) > thresholds, axis=1)  \n",
    "print(f'{outliers}')"
   ]
  },
  {
   "cell_type": "code",
   "execution_count": 28,
   "metadata": {},
   "outputs": [
    {
     "name": "stdout",
     "output_type": "stream",
     "text": [
      "Accuracy:0.16444984394964496\n"
     ]
    }
   ],
   "source": [
    "filtered_outlier = y[outliers]\n",
    "\n",
    "filtered_labels = filtered_outlier[filtered_outlier != 0]\n",
    "\n",
    "count = (len(filtered_outlier) - len(filtered_labels)) / len(filtered_outlier)\n",
    "\n",
    "print(f'Accuracy:{count}')"
   ]
  }
 ],
 "metadata": {
  "kernelspec": {
   "display_name": "venv",
   "language": "python",
   "name": "python3"
  },
  "language_info": {
   "codemirror_mode": {
    "name": "ipython",
    "version": 3
   },
   "file_extension": ".py",
   "mimetype": "text/x-python",
   "name": "python",
   "nbconvert_exporter": "python",
   "pygments_lexer": "ipython3",
   "version": "3.11.10"
  }
 },
 "nbformat": 4,
 "nbformat_minor": 2
}
