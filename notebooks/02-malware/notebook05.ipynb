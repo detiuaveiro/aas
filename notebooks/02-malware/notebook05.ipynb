{
 "cells": [
  {
   "cell_type": "markdown",
   "metadata": {},
   "source": [
    "# Malware detection\n",
    "\n",
    "A toy dataset for malware detection. It contains only two classes (benign and malware).\n",
    "\n",
    "This notebook will address the topic of feature importance and feature selection."
   ]
  },
  {
   "cell_type": "code",
   "execution_count": 33,
   "metadata": {},
   "outputs": [],
   "source": [
    "import numpy as np\n",
    "import polars as pl\n",
    "import seaborn as sns\n",
    "import matplotlib.pyplot as plt\n",
    "\n",
    "from sklearn.model_selection import train_test_split\n",
    "from sklearn.metrics import classification_report, confusion_matrix\n",
    "\n",
    "plt.style.use('ggplot')\n",
    "plt.rcParams['figure.figsize'] = [15, 7]"
   ]
  },
  {
   "cell_type": "code",
   "execution_count": 34,
   "metadata": {},
   "outputs": [
    {
     "data": {
      "text/html": [
       "<div><style>\n",
       ".dataframe > thead > tr,\n",
       ".dataframe > tbody > tr {\n",
       "  text-align: right;\n",
       "  white-space: pre-wrap;\n",
       "}\n",
       "</style>\n",
       "<small>shape: (5, 35)</small><table border=\"1\" class=\"dataframe\"><thead><tr><th>hash</th><th>millisecond</th><th>classification</th><th>state</th><th>usage_counter</th><th>prio</th><th>static_prio</th><th>normal_prio</th><th>policy</th><th>vm_pgoff</th><th>vm_truncate_count</th><th>task_size</th><th>cached_hole_size</th><th>free_area_cache</th><th>mm_users</th><th>map_count</th><th>hiwater_rss</th><th>total_vm</th><th>shared_vm</th><th>exec_vm</th><th>reserved_vm</th><th>nr_ptes</th><th>end_data</th><th>last_interval</th><th>nvcsw</th><th>nivcsw</th><th>min_flt</th><th>maj_flt</th><th>fs_excl_counter</th><th>lock</th><th>utime</th><th>stime</th><th>gtime</th><th>cgtime</th><th>signal_nvcsw</th></tr><tr><td>str</td><td>i64</td><td>str</td><td>i64</td><td>i64</td><td>i64</td><td>i64</td><td>i64</td><td>i64</td><td>i64</td><td>i64</td><td>i64</td><td>i64</td><td>i64</td><td>i64</td><td>i64</td><td>i64</td><td>i64</td><td>i64</td><td>i64</td><td>i64</td><td>i64</td><td>i64</td><td>i64</td><td>i64</td><td>i64</td><td>i64</td><td>i64</td><td>i64</td><td>i64</td><td>i64</td><td>i64</td><td>i64</td><td>i64</td><td>i64</td></tr></thead><tbody><tr><td>&quot;42fb5e2ec009a05ff5143227297074…</td><td>0</td><td>&quot;malware&quot;</td><td>0</td><td>0</td><td>3069378560</td><td>14274</td><td>0</td><td>0</td><td>0</td><td>13173</td><td>0</td><td>0</td><td>24</td><td>724</td><td>6850</td><td>0</td><td>150</td><td>120</td><td>124</td><td>210</td><td>0</td><td>120</td><td>3473</td><td>341974</td><td>0</td><td>0</td><td>120</td><td>0</td><td>3204448256</td><td>380690</td><td>4</td><td>0</td><td>0</td><td>0</td></tr><tr><td>&quot;42fb5e2ec009a05ff5143227297074…</td><td>1</td><td>&quot;malware&quot;</td><td>0</td><td>0</td><td>3069378560</td><td>14274</td><td>0</td><td>0</td><td>0</td><td>13173</td><td>0</td><td>0</td><td>24</td><td>724</td><td>6850</td><td>0</td><td>150</td><td>120</td><td>124</td><td>210</td><td>0</td><td>120</td><td>3473</td><td>341974</td><td>0</td><td>0</td><td>120</td><td>0</td><td>3204448256</td><td>380690</td><td>4</td><td>0</td><td>0</td><td>0</td></tr><tr><td>&quot;42fb5e2ec009a05ff5143227297074…</td><td>2</td><td>&quot;malware&quot;</td><td>0</td><td>0</td><td>3069378560</td><td>14274</td><td>0</td><td>0</td><td>0</td><td>13173</td><td>0</td><td>0</td><td>24</td><td>724</td><td>6850</td><td>0</td><td>150</td><td>120</td><td>124</td><td>210</td><td>0</td><td>120</td><td>3473</td><td>341974</td><td>0</td><td>0</td><td>120</td><td>0</td><td>3204448256</td><td>380690</td><td>4</td><td>0</td><td>0</td><td>0</td></tr><tr><td>&quot;42fb5e2ec009a05ff5143227297074…</td><td>3</td><td>&quot;malware&quot;</td><td>0</td><td>0</td><td>3069378560</td><td>14274</td><td>0</td><td>0</td><td>0</td><td>13173</td><td>0</td><td>0</td><td>24</td><td>724</td><td>6850</td><td>0</td><td>150</td><td>120</td><td>124</td><td>210</td><td>0</td><td>120</td><td>3473</td><td>341974</td><td>0</td><td>0</td><td>120</td><td>0</td><td>3204448256</td><td>380690</td><td>4</td><td>0</td><td>0</td><td>0</td></tr><tr><td>&quot;42fb5e2ec009a05ff5143227297074…</td><td>4</td><td>&quot;malware&quot;</td><td>0</td><td>0</td><td>3069378560</td><td>14274</td><td>0</td><td>0</td><td>0</td><td>13173</td><td>0</td><td>0</td><td>24</td><td>724</td><td>6850</td><td>0</td><td>150</td><td>120</td><td>124</td><td>210</td><td>0</td><td>120</td><td>3473</td><td>341974</td><td>0</td><td>0</td><td>120</td><td>0</td><td>3204448256</td><td>380690</td><td>4</td><td>0</td><td>0</td><td>0</td></tr></tbody></table></div>"
      ],
      "text/plain": [
       "shape: (5, 35)\n",
       "┌────────────────┬─────────────┬───────────────┬───────┬───┬───────┬───────┬────────┬──────────────┐\n",
       "│ hash           ┆ millisecond ┆ classificatio ┆ state ┆ … ┆ stime ┆ gtime ┆ cgtime ┆ signal_nvcsw │\n",
       "│ ---            ┆ ---         ┆ n             ┆ ---   ┆   ┆ ---   ┆ ---   ┆ ---    ┆ ---          │\n",
       "│ str            ┆ i64         ┆ ---           ┆ i64   ┆   ┆ i64   ┆ i64   ┆ i64    ┆ i64          │\n",
       "│                ┆             ┆ str           ┆       ┆   ┆       ┆       ┆        ┆              │\n",
       "╞════════════════╪═════════════╪═══════════════╪═══════╪═══╪═══════╪═══════╪════════╪══════════════╡\n",
       "│ 42fb5e2ec009a0 ┆ 0           ┆ malware       ┆ 0     ┆ … ┆ 4     ┆ 0     ┆ 0      ┆ 0            │\n",
       "│ 5ff51432272970 ┆             ┆               ┆       ┆   ┆       ┆       ┆        ┆              │\n",
       "│ 74…            ┆             ┆               ┆       ┆   ┆       ┆       ┆        ┆              │\n",
       "│ 42fb5e2ec009a0 ┆ 1           ┆ malware       ┆ 0     ┆ … ┆ 4     ┆ 0     ┆ 0      ┆ 0            │\n",
       "│ 5ff51432272970 ┆             ┆               ┆       ┆   ┆       ┆       ┆        ┆              │\n",
       "│ 74…            ┆             ┆               ┆       ┆   ┆       ┆       ┆        ┆              │\n",
       "│ 42fb5e2ec009a0 ┆ 2           ┆ malware       ┆ 0     ┆ … ┆ 4     ┆ 0     ┆ 0      ┆ 0            │\n",
       "│ 5ff51432272970 ┆             ┆               ┆       ┆   ┆       ┆       ┆        ┆              │\n",
       "│ 74…            ┆             ┆               ┆       ┆   ┆       ┆       ┆        ┆              │\n",
       "│ 42fb5e2ec009a0 ┆ 3           ┆ malware       ┆ 0     ┆ … ┆ 4     ┆ 0     ┆ 0      ┆ 0            │\n",
       "│ 5ff51432272970 ┆             ┆               ┆       ┆   ┆       ┆       ┆        ┆              │\n",
       "│ 74…            ┆             ┆               ┆       ┆   ┆       ┆       ┆        ┆              │\n",
       "│ 42fb5e2ec009a0 ┆ 4           ┆ malware       ┆ 0     ┆ … ┆ 4     ┆ 0     ┆ 0      ┆ 0            │\n",
       "│ 5ff51432272970 ┆             ┆               ┆       ┆   ┆       ┆       ┆        ┆              │\n",
       "│ 74…            ┆             ┆               ┆       ┆   ┆       ┆       ┆        ┆              │\n",
       "└────────────────┴─────────────┴───────────────┴───────┴───┴───────┴───────┴────────┴──────────────┘"
      ]
     },
     "execution_count": 34,
     "metadata": {},
     "output_type": "execute_result"
    }
   ],
   "source": [
    "df = pl.read_csv('https://cloud.hrun.mooo.com/s/CSEFd6fBQRnryk2/download/malware_dataset.csv')\n",
    "df.head()"
   ]
  },
  {
   "cell_type": "code",
   "execution_count": 35,
   "metadata": {},
   "outputs": [],
   "source": [
    "mapping = {'benign':0, 'malware':1} \n",
    "df = df.with_columns(pl.col('classification').replace(mapping).cast(pl.Int32, strict=False).alias('classification'))"
   ]
  },
  {
   "cell_type": "code",
   "execution_count": 36,
   "metadata": {},
   "outputs": [
    {
     "data": {
      "image/png": "[encoded data removed]",
      "text/plain": [
       "<Figure size 1500x700 with 1 Axes>"
      ]
     },
     "metadata": {},
     "output_type": "display_data"
    }
   ],
   "source": [
    "sns.countplot(data=df, x='classification', hue='classification')\n",
    "plt.show()"
   ]
  },
  {
   "cell_type": "code",
   "execution_count": 37,
   "metadata": {},
   "outputs": [
    {
     "data": {
      "text/html": [
       "<div><style>\n",
       ".dataframe > thead > tr,\n",
       ".dataframe > tbody > tr {\n",
       "  text-align: right;\n",
       "  white-space: pre-wrap;\n",
       "}\n",
       "</style>\n",
       "<small>shape: (9, 34)</small><table border=\"1\" class=\"dataframe\"><thead><tr><th>statistic</th><th>classification</th><th>state</th><th>usage_counter</th><th>prio</th><th>static_prio</th><th>normal_prio</th><th>policy</th><th>vm_pgoff</th><th>vm_truncate_count</th><th>task_size</th><th>cached_hole_size</th><th>free_area_cache</th><th>mm_users</th><th>map_count</th><th>hiwater_rss</th><th>total_vm</th><th>shared_vm</th><th>exec_vm</th><th>reserved_vm</th><th>nr_ptes</th><th>end_data</th><th>last_interval</th><th>nvcsw</th><th>nivcsw</th><th>min_flt</th><th>maj_flt</th><th>fs_excl_counter</th><th>lock</th><th>utime</th><th>stime</th><th>gtime</th><th>cgtime</th><th>signal_nvcsw</th></tr><tr><td>str</td><td>f64</td><td>f64</td><td>f64</td><td>f64</td><td>f64</td><td>f64</td><td>f64</td><td>f64</td><td>f64</td><td>f64</td><td>f64</td><td>f64</td><td>f64</td><td>f64</td><td>f64</td><td>f64</td><td>f64</td><td>f64</td><td>f64</td><td>f64</td><td>f64</td><td>f64</td><td>f64</td><td>f64</td><td>f64</td><td>f64</td><td>f64</td><td>f64</td><td>f64</td><td>f64</td><td>f64</td><td>f64</td><td>f64</td></tr></thead><tbody><tr><td>&quot;count&quot;</td><td>100000.0</td><td>100000.0</td><td>100000.0</td><td>100000.0</td><td>100000.0</td><td>100000.0</td><td>100000.0</td><td>100000.0</td><td>100000.0</td><td>100000.0</td><td>100000.0</td><td>100000.0</td><td>100000.0</td><td>100000.0</td><td>100000.0</td><td>100000.0</td><td>100000.0</td><td>100000.0</td><td>100000.0</td><td>100000.0</td><td>100000.0</td><td>100000.0</td><td>100000.0</td><td>100000.0</td><td>100000.0</td><td>100000.0</td><td>100000.0</td><td>100000.0</td><td>100000.0</td><td>100000.0</td><td>100000.0</td><td>100000.0</td><td>100000.0</td></tr><tr><td>&quot;null_count&quot;</td><td>0.0</td><td>0.0</td><td>0.0</td><td>0.0</td><td>0.0</td><td>0.0</td><td>0.0</td><td>0.0</td><td>0.0</td><td>0.0</td><td>0.0</td><td>0.0</td><td>0.0</td><td>0.0</td><td>0.0</td><td>0.0</td><td>0.0</td><td>0.0</td><td>0.0</td><td>0.0</td><td>0.0</td><td>0.0</td><td>0.0</td><td>0.0</td><td>0.0</td><td>0.0</td><td>0.0</td><td>0.0</td><td>0.0</td><td>0.0</td><td>0.0</td><td>0.0</td><td>0.0</td></tr><tr><td>&quot;mean&quot;</td><td>0.5</td><td>157768.33536</td><td>0.0</td><td>3.0697e9</td><td>18183.90007</td><td>0.0</td><td>0.0</td><td>0.0</td><td>15312.73951</td><td>0.0</td><td>0.0</td><td>9.58777</td><td>728.46543</td><td>8771.13948</td><td>0.0</td><td>266.49112</td><td>117.92024</td><td>127.67815</td><td>205.32485</td><td>0.0</td><td>117.92024</td><td>2435.97361</td><td>348313.0716</td><td>32.99116</td><td>2.05313</td><td>117.92024</td><td>1.10919</td><td>3.2044e9</td><td>385415.45197</td><td>4.05931</td><td>1.66142</td><td>0.0</td><td>0.0</td></tr><tr><td>&quot;std&quot;</td><td>0.500003</td><td>936172.583333</td><td>0.0</td><td>296306.144182</td><td>4609.792765</td><td>0.0</td><td>0.0</td><td>0.0</td><td>3256.475008</td><td>0.0</td><td>0.0</td><td>46.504908</td><td>84.475361</td><td>3785.30516</td><td>0.0</td><td>311.996779</td><td>3.116892</td><td>22.277995</td><td>112.717875</td><td>0.0</td><td>3.116892</td><td>2605.564669</td><td>9117.720632</td><td>52.730176</td><td>13.881382</td><td>3.116892</td><td>2.160466</td><td>0.0</td><td>10144.036494</td><td>0.822848</td><td>3.26304</td><td>0.0</td><td>0.0</td></tr><tr><td>&quot;min&quot;</td><td>0.0</td><td>0.0</td><td>0.0</td><td>3.0692e9</td><td>13988.0</td><td>0.0</td><td>0.0</td><td>0.0</td><td>9695.0</td><td>0.0</td><td>0.0</td><td>0.0</td><td>612.0</td><td>2588.0</td><td>0.0</td><td>4.0</td><td>112.0</td><td>92.0</td><td>29.0</td><td>0.0</td><td>112.0</td><td>0.0</td><td>337688.0</td><td>0.0</td><td>0.0</td><td>112.0</td><td>0.0</td><td>3.2044e9</td><td>371782.0</td><td>3.0</td><td>0.0</td><td>0.0</td><td>0.0</td></tr><tr><td>&quot;25%&quot;</td><td>0.0</td><td>0.0</td><td>0.0</td><td>3.0695e9</td><td>14352.0</td><td>0.0</td><td>0.0</td><td>0.0</td><td>12648.0</td><td>0.0</td><td>0.0</td><td>0.0</td><td>651.0</td><td>6428.0</td><td>0.0</td><td>99.0</td><td>114.0</td><td>112.0</td><td>112.0</td><td>0.0</td><td>114.0</td><td>0.0</td><td>341974.0</td><td>1.0</td><td>0.0</td><td>114.0</td><td>0.0</td><td>3.2044e9</td><td>378208.0</td><td>3.0</td><td>0.0</td><td>0.0</td><td>0.0</td></tr><tr><td>&quot;50%&quot;</td><td>1.0</td><td>0.0</td><td>0.0</td><td>3.0697e9</td><td>16159.0</td><td>0.0</td><td>0.0</td><td>0.0</td><td>15245.0</td><td>0.0</td><td>0.0</td><td>1.0</td><td>725.0</td><td>7865.0</td><td>0.0</td><td>177.0</td><td>120.0</td><td>127.0</td><td>193.0</td><td>0.0</td><td>120.0</td><td>2017.0</td><td>347244.0</td><td>9.0</td><td>1.0</td><td>120.0</td><td>0.0</td><td>3.2044e9</td><td>383637.0</td><td>4.0</td><td>0.0</td><td>0.0</td><td>0.0</td></tr><tr><td>&quot;75%&quot;</td><td>1.0</td><td>4096.0</td><td>0.0</td><td>3.0700e9</td><td>22182.0</td><td>0.0</td><td>0.0</td><td>0.0</td><td>17663.0</td><td>0.0</td><td>0.0</td><td>4.0</td><td>785.0</td><td>10684.0</td><td>0.0</td><td>327.0</td><td>120.0</td><td>138.0</td><td>273.0</td><td>0.0</td><td>120.0</td><td>4036.0</td><td>351667.0</td><td>46.0</td><td>1.0</td><td>120.0</td><td>1.0</td><td>3.2044e9</td><td>390324.0</td><td>5.0</td><td>1.0</td><td>0.0</td><td>0.0</td></tr><tr><td>&quot;max&quot;</td><td>1.0</td><td>4.3266048e7</td><td>0.0</td><td>3.0702e9</td><td>31855.0</td><td>0.0</td><td>0.0</td><td>0.0</td><td>27157.0</td><td>0.0</td><td>0.0</td><td>515.0</td><td>995.0</td><td>28184.0</td><td>0.0</td><td>2810.0</td><td>120.0</td><td>196.0</td><td>755.0</td><td>0.0</td><td>120.0</td><td>9526.0</td><td>384520.0</td><td>365.0</td><td>256.0</td><td>120.0</td><td>18.0</td><td>3.2044e9</td><td>421913.0</td><td>7.0</td><td>15.0</td><td>0.0</td><td>0.0</td></tr></tbody></table></div>"
      ],
      "text/plain": [
       "shape: (9, 34)\n",
       "┌────────────┬────────────┬───────────┬───────────┬───┬──────────┬──────────┬──────────┬───────────┐\n",
       "│ statistic  ┆ classifica ┆ state     ┆ usage_cou ┆ … ┆ stime    ┆ gtime    ┆ cgtime   ┆ signal_nv │\n",
       "│ ---        ┆ tion       ┆ ---       ┆ nter      ┆   ┆ ---      ┆ ---      ┆ ---      ┆ csw       │\n",
       "│ str        ┆ ---        ┆ f64       ┆ ---       ┆   ┆ f64      ┆ f64      ┆ f64      ┆ ---       │\n",
       "│            ┆ f64        ┆           ┆ f64       ┆   ┆          ┆          ┆          ┆ f64       │\n",
       "╞════════════╪════════════╪═══════════╪═══════════╪═══╪══════════╪══════════╪══════════╪═══════════╡\n",
       "│ count      ┆ 100000.0   ┆ 100000.0  ┆ 100000.0  ┆ … ┆ 100000.0 ┆ 100000.0 ┆ 100000.0 ┆ 100000.0  │\n",
       "│ null_count ┆ 0.0        ┆ 0.0       ┆ 0.0       ┆ … ┆ 0.0      ┆ 0.0      ┆ 0.0      ┆ 0.0       │\n",
       "│ mean       ┆ 0.5        ┆ 157768.33 ┆ 0.0       ┆ … ┆ 4.05931  ┆ 1.66142  ┆ 0.0      ┆ 0.0       │\n",
       "│            ┆            ┆ 536       ┆           ┆   ┆          ┆          ┆          ┆           │\n",
       "│ std        ┆ 0.500003   ┆ 936172.58 ┆ 0.0       ┆ … ┆ 0.822848 ┆ 3.26304  ┆ 0.0      ┆ 0.0       │\n",
       "│            ┆            ┆ 3333      ┆           ┆   ┆          ┆          ┆          ┆           │\n",
       "│ min        ┆ 0.0        ┆ 0.0       ┆ 0.0       ┆ … ┆ 3.0      ┆ 0.0      ┆ 0.0      ┆ 0.0       │\n",
       "│ 25%        ┆ 0.0        ┆ 0.0       ┆ 0.0       ┆ … ┆ 3.0      ┆ 0.0      ┆ 0.0      ┆ 0.0       │\n",
       "│ 50%        ┆ 1.0        ┆ 0.0       ┆ 0.0       ┆ … ┆ 4.0      ┆ 0.0      ┆ 0.0      ┆ 0.0       │\n",
       "│ 75%        ┆ 1.0        ┆ 4096.0    ┆ 0.0       ┆ … ┆ 5.0      ┆ 1.0      ┆ 0.0      ┆ 0.0       │\n",
       "│ max        ┆ 1.0        ┆ 4.3266048 ┆ 0.0       ┆ … ┆ 7.0      ┆ 15.0     ┆ 0.0      ┆ 0.0       │\n",
       "│            ┆            ┆ e7        ┆           ┆   ┆          ┆          ┆          ┆           │\n",
       "└────────────┴────────────┴───────────┴───────────┴───┴──────────┴──────────┴──────────┴───────────┘"
      ]
     },
     "execution_count": 37,
     "metadata": {},
     "output_type": "execute_result"
    }
   ],
   "source": [
    "df = df.drop(['hash', 'millisecond'])\n",
    "df.describe()"
   ]
  },
  {
   "cell_type": "markdown",
   "metadata": {},
   "source": [
    "## Drop columns with low variance"
   ]
  },
  {
   "cell_type": "code",
   "execution_count": 38,
   "metadata": {},
   "outputs": [
    {
     "data": {
      "text/html": [
       "<div><style>\n",
       ".dataframe > thead > tr,\n",
       ".dataframe > tbody > tr {\n",
       "  text-align: right;\n",
       "  white-space: pre-wrap;\n",
       "}\n",
       "</style>\n",
       "<small>shape: (9, 23)</small><table border=\"1\" class=\"dataframe\"><thead><tr><th>statistic</th><th>classification</th><th>state</th><th>prio</th><th>static_prio</th><th>vm_truncate_count</th><th>free_area_cache</th><th>mm_users</th><th>map_count</th><th>total_vm</th><th>shared_vm</th><th>exec_vm</th><th>reserved_vm</th><th>end_data</th><th>last_interval</th><th>nvcsw</th><th>nivcsw</th><th>min_flt</th><th>maj_flt</th><th>fs_excl_counter</th><th>utime</th><th>stime</th><th>gtime</th></tr><tr><td>str</td><td>f64</td><td>f64</td><td>f64</td><td>f64</td><td>f64</td><td>f64</td><td>f64</td><td>f64</td><td>f64</td><td>f64</td><td>f64</td><td>f64</td><td>f64</td><td>f64</td><td>f64</td><td>f64</td><td>f64</td><td>f64</td><td>f64</td><td>f64</td><td>f64</td><td>f64</td></tr></thead><tbody><tr><td>&quot;count&quot;</td><td>100000.0</td><td>100000.0</td><td>100000.0</td><td>100000.0</td><td>100000.0</td><td>100000.0</td><td>100000.0</td><td>100000.0</td><td>100000.0</td><td>100000.0</td><td>100000.0</td><td>100000.0</td><td>100000.0</td><td>100000.0</td><td>100000.0</td><td>100000.0</td><td>100000.0</td><td>100000.0</td><td>100000.0</td><td>100000.0</td><td>100000.0</td><td>100000.0</td></tr><tr><td>&quot;null_count&quot;</td><td>0.0</td><td>0.0</td><td>0.0</td><td>0.0</td><td>0.0</td><td>0.0</td><td>0.0</td><td>0.0</td><td>0.0</td><td>0.0</td><td>0.0</td><td>0.0</td><td>0.0</td><td>0.0</td><td>0.0</td><td>0.0</td><td>0.0</td><td>0.0</td><td>0.0</td><td>0.0</td><td>0.0</td><td>0.0</td></tr><tr><td>&quot;mean&quot;</td><td>0.5</td><td>157768.33536</td><td>3.0697e9</td><td>18183.90007</td><td>15312.73951</td><td>9.58777</td><td>728.46543</td><td>8771.13948</td><td>266.49112</td><td>117.92024</td><td>127.67815</td><td>205.32485</td><td>117.92024</td><td>2435.97361</td><td>348313.0716</td><td>32.99116</td><td>2.05313</td><td>117.92024</td><td>1.10919</td><td>385415.45197</td><td>4.05931</td><td>1.66142</td></tr><tr><td>&quot;std&quot;</td><td>0.500003</td><td>936172.583333</td><td>296306.144182</td><td>4609.792765</td><td>3256.475008</td><td>46.504908</td><td>84.475361</td><td>3785.30516</td><td>311.996779</td><td>3.116892</td><td>22.277995</td><td>112.717875</td><td>3.116892</td><td>2605.564669</td><td>9117.720632</td><td>52.730176</td><td>13.881382</td><td>3.116892</td><td>2.160466</td><td>10144.036494</td><td>0.822848</td><td>3.26304</td></tr><tr><td>&quot;min&quot;</td><td>0.0</td><td>0.0</td><td>3.0692e9</td><td>13988.0</td><td>9695.0</td><td>0.0</td><td>612.0</td><td>2588.0</td><td>4.0</td><td>112.0</td><td>92.0</td><td>29.0</td><td>112.0</td><td>0.0</td><td>337688.0</td><td>0.0</td><td>0.0</td><td>112.0</td><td>0.0</td><td>371782.0</td><td>3.0</td><td>0.0</td></tr><tr><td>&quot;25%&quot;</td><td>0.0</td><td>0.0</td><td>3.0695e9</td><td>14352.0</td><td>12648.0</td><td>0.0</td><td>651.0</td><td>6428.0</td><td>99.0</td><td>114.0</td><td>112.0</td><td>112.0</td><td>114.0</td><td>0.0</td><td>341974.0</td><td>1.0</td><td>0.0</td><td>114.0</td><td>0.0</td><td>378208.0</td><td>3.0</td><td>0.0</td></tr><tr><td>&quot;50%&quot;</td><td>1.0</td><td>0.0</td><td>3.0697e9</td><td>16159.0</td><td>15245.0</td><td>1.0</td><td>725.0</td><td>7865.0</td><td>177.0</td><td>120.0</td><td>127.0</td><td>193.0</td><td>120.0</td><td>2017.0</td><td>347244.0</td><td>9.0</td><td>1.0</td><td>120.0</td><td>0.0</td><td>383637.0</td><td>4.0</td><td>0.0</td></tr><tr><td>&quot;75%&quot;</td><td>1.0</td><td>4096.0</td><td>3.0700e9</td><td>22182.0</td><td>17663.0</td><td>4.0</td><td>785.0</td><td>10684.0</td><td>327.0</td><td>120.0</td><td>138.0</td><td>273.0</td><td>120.0</td><td>4036.0</td><td>351667.0</td><td>46.0</td><td>1.0</td><td>120.0</td><td>1.0</td><td>390324.0</td><td>5.0</td><td>1.0</td></tr><tr><td>&quot;max&quot;</td><td>1.0</td><td>4.3266048e7</td><td>3.0702e9</td><td>31855.0</td><td>27157.0</td><td>515.0</td><td>995.0</td><td>28184.0</td><td>2810.0</td><td>120.0</td><td>196.0</td><td>755.0</td><td>120.0</td><td>9526.0</td><td>384520.0</td><td>365.0</td><td>256.0</td><td>120.0</td><td>18.0</td><td>421913.0</td><td>7.0</td><td>15.0</td></tr></tbody></table></div>"
      ],
      "text/plain": [
       "shape: (9, 23)\n",
       "┌────────────┬───────────┬───────────┬───────────┬───┬───────────┬───────────┬──────────┬──────────┐\n",
       "│ statistic  ┆ classific ┆ state     ┆ prio      ┆ … ┆ fs_excl_c ┆ utime     ┆ stime    ┆ gtime    │\n",
       "│ ---        ┆ ation     ┆ ---       ┆ ---       ┆   ┆ ounter    ┆ ---       ┆ ---      ┆ ---      │\n",
       "│ str        ┆ ---       ┆ f64       ┆ f64       ┆   ┆ ---       ┆ f64       ┆ f64      ┆ f64      │\n",
       "│            ┆ f64       ┆           ┆           ┆   ┆ f64       ┆           ┆          ┆          │\n",
       "╞════════════╪═══════════╪═══════════╪═══════════╪═══╪═══════════╪═══════════╪══════════╪══════════╡\n",
       "│ count      ┆ 100000.0  ┆ 100000.0  ┆ 100000.0  ┆ … ┆ 100000.0  ┆ 100000.0  ┆ 100000.0 ┆ 100000.0 │\n",
       "│ null_count ┆ 0.0       ┆ 0.0       ┆ 0.0       ┆ … ┆ 0.0       ┆ 0.0       ┆ 0.0      ┆ 0.0      │\n",
       "│ mean       ┆ 0.5       ┆ 157768.33 ┆ 3.0697e9  ┆ … ┆ 1.10919   ┆ 385415.45 ┆ 4.05931  ┆ 1.66142  │\n",
       "│            ┆           ┆ 536       ┆           ┆   ┆           ┆ 197       ┆          ┆          │\n",
       "│ std        ┆ 0.500003  ┆ 936172.58 ┆ 296306.14 ┆ … ┆ 2.160466  ┆ 10144.036 ┆ 0.822848 ┆ 3.26304  │\n",
       "│            ┆           ┆ 3333      ┆ 4182      ┆   ┆           ┆ 494       ┆          ┆          │\n",
       "│ min        ┆ 0.0       ┆ 0.0       ┆ 3.0692e9  ┆ … ┆ 0.0       ┆ 371782.0  ┆ 3.0      ┆ 0.0      │\n",
       "│ 25%        ┆ 0.0       ┆ 0.0       ┆ 3.0695e9  ┆ … ┆ 0.0       ┆ 378208.0  ┆ 3.0      ┆ 0.0      │\n",
       "│ 50%        ┆ 1.0       ┆ 0.0       ┆ 3.0697e9  ┆ … ┆ 0.0       ┆ 383637.0  ┆ 4.0      ┆ 0.0      │\n",
       "│ 75%        ┆ 1.0       ┆ 4096.0    ┆ 3.0700e9  ┆ … ┆ 1.0       ┆ 390324.0  ┆ 5.0      ┆ 1.0      │\n",
       "│ max        ┆ 1.0       ┆ 4.3266048 ┆ 3.0702e9  ┆ … ┆ 18.0      ┆ 421913.0  ┆ 7.0      ┆ 15.0     │\n",
       "│            ┆           ┆ e7        ┆           ┆   ┆           ┆           ┆          ┆          │\n",
       "└────────────┴───────────┴───────────┴───────────┴───┴───────────┴───────────┴──────────┴──────────┘"
      ]
     },
     "execution_count": 38,
     "metadata": {},
     "output_type": "execute_result"
    }
   ],
   "source": [
    "threshold = 0.5\n",
    "df = df.drop([col.name for col in df.select(pl.all().std() < threshold) if col.item()])\n",
    "df.describe()"
   ]
  },
  {
   "cell_type": "markdown",
   "metadata": {},
   "source": [
    "## Split the data"
   ]
  },
  {
   "cell_type": "code",
   "execution_count": 39,
   "metadata": {},
   "outputs": [],
   "source": [
    "Y = df['classification']\n",
    "X = df.drop(['classification'])\n",
    "\n",
    "X_train, X_test, y_train, y_test = train_test_split(X, Y, test_size=0.2, random_state=42)"
   ]
  },
  {
   "cell_type": "code",
   "execution_count": 40,
   "metadata": {},
   "outputs": [],
   "source": [
    "from sklearn.preprocessing import StandardScaler\n",
    "sc_X = StandardScaler()\n",
    "X_train = sc_X.fit_transform(X_train)\n",
    "X_test = sc_X.transform(X_test)"
   ]
  },
  {
   "cell_type": "markdown",
   "metadata": {},
   "source": [
    "## Logistic Regression Feature Importance\n",
    "\n",
    "We can fit a LogisticRegression model on the regression dataset and retrieve the coeff_ property that contains the coefficients found for each input variable.\n",
    "\n",
    "These coefficients can provide the basis for a crude feature importance score. This assumes that the input variables have the same scale or have been scaled prior to fitting a model.\n",
    "\n",
    "The complete example of logistic regression coefficients for feature importance is listed below."
   ]
  },
  {
   "cell_type": "code",
   "execution_count": 41,
   "metadata": {},
   "outputs": [
    {
     "name": "stdout",
     "output_type": "stream",
     "text": [
      "              precision    recall  f1-score   support\n",
      "\n",
      "      Benign       0.96      0.92      0.94     10030\n",
      "     Malware       0.92      0.96      0.94      9970\n",
      "\n",
      "    accuracy                           0.94     20000\n",
      "   macro avg       0.94      0.94      0.94     20000\n",
      "weighted avg       0.94      0.94      0.94     20000\n",
      "\n",
      "Feature: 0, Score: 0.05136\n",
      "Feature: 1, Score: -0.34836\n",
      "Feature: 2, Score: 2.45199\n",
      "Feature: 3, Score: 0.22657\n",
      "Feature: 4, Score: 0.42878\n",
      "Feature: 5, Score: 5.31146\n",
      "Feature: 6, Score: 1.19825\n",
      "Feature: 7, Score: -1.04398\n",
      "Feature: 8, Score: -1.89564\n",
      "Feature: 9, Score: 5.63520\n",
      "Feature: 10, Score: -1.17985\n",
      "Feature: 11, Score: -1.89564\n",
      "Feature: 12, Score: 5.07465\n",
      "Feature: 13, Score: -8.28506\n",
      "Feature: 14, Score: -1.43367\n",
      "Feature: 15, Score: -0.03926\n",
      "Feature: 16, Score: -1.89564\n",
      "Feature: 17, Score: 0.78091\n",
      "Feature: 18, Score: -14.65332\n",
      "Feature: 19, Score: -0.35455\n",
      "Feature: 20, Score: -1.79791\n"
     ]
    },
    {
     "data": {
      "image/png": "[encoded data removed]",
      "text/plain": [
       "<Figure size 1500x700 with 1 Axes>"
      ]
     },
     "metadata": {},
     "output_type": "display_data"
    }
   ],
   "source": [
    "from sklearn.linear_model import LogisticRegression\n",
    "\n",
    "# define the model\n",
    "model = LogisticRegression(max_iter=1000)\n",
    "# fit the model\n",
    "model.fit(X_train, y_train)\n",
    "\n",
    "y_pred = model.predict(X_test)\n",
    "print(classification_report(y_test, y_pred, target_names=['Benign', 'Malware']))\n",
    "\n",
    "# get importance\n",
    "importance = model.coef_[0]\n",
    "# summarize feature importance\n",
    "for i,v in enumerate(importance):\n",
    "    print('Feature: %0d, Score: %.5f' % (i,v))\n",
    "# plot feature importance\n",
    "plt.bar([x for x in range(len(importance))], importance)\n",
    "plt.show()"
   ]
  },
  {
   "cell_type": "markdown",
   "metadata": {},
   "source": [
    "## Decision Tree Feature Importance\n",
    "\n",
    "Decision tree algorithms like classification and regression trees (CART) offer importance scores based on the reduction in the criterion used to select split points, like Gini or entropy.\n",
    "\n",
    "This same approach can be used for ensembles of decision trees, such as the random forest and stochastic gradient boosting algorithms.\n",
    "\n",
    "Let’s take a look at a worked example of each.\n",
    "\n",
    "### CART Feature Importance\n",
    "\n",
    "We can use the CART algorithm for feature importance implemented in scikit-learn as the DecisionTreeRegressor and DecisionTreeClassifier classes.\n",
    "\n",
    "After being fit, the model provides a feature_importances_ property that can be accessed to retrieve the relative importance scores for each input feature.\n",
    "\n",
    "Let’s take a look at an example of this for regression and classification."
   ]
  },
  {
   "cell_type": "code",
   "execution_count": 42,
   "metadata": {},
   "outputs": [
    {
     "name": "stdout",
     "output_type": "stream",
     "text": [
      "              precision    recall  f1-score   support\n",
      "\n",
      "      Benign       1.00      1.00      1.00     10030\n",
      "     Malware       1.00      1.00      1.00      9970\n",
      "\n",
      "    accuracy                           1.00     20000\n",
      "   macro avg       1.00      1.00      1.00     20000\n",
      "weighted avg       1.00      1.00      1.00     20000\n",
      "\n",
      "Feature: 0, Score: 0.00000\n",
      "Feature: 1, Score: 0.01548\n",
      "Feature: 2, Score: 0.54203\n",
      "Feature: 3, Score: 0.00000\n",
      "Feature: 4, Score: 0.00000\n",
      "Feature: 5, Score: 0.00000\n",
      "Feature: 6, Score: 0.00715\n",
      "Feature: 7, Score: 0.04011\n",
      "Feature: 8, Score: 0.00000\n",
      "Feature: 9, Score: 0.05585\n",
      "Feature: 10, Score: 0.02901\n",
      "Feature: 11, Score: 0.00000\n",
      "Feature: 12, Score: 0.00010\n",
      "Feature: 13, Score: 0.06489\n",
      "Feature: 14, Score: 0.02015\n",
      "Feature: 15, Score: 0.00000\n",
      "Feature: 16, Score: 0.19959\n",
      "Feature: 17, Score: 0.00398\n",
      "Feature: 18, Score: 0.02166\n",
      "Feature: 19, Score: 0.00000\n",
      "Feature: 20, Score: 0.00001\n"
     ]
    },
    {
     "data": {
      "image/png": "[encoded data removed]",
      "text/plain": [
       "<Figure size 1500x700 with 1 Axes>"
      ]
     },
     "metadata": {},
     "output_type": "display_data"
    }
   ],
   "source": [
    "from sklearn.tree import DecisionTreeClassifier\n",
    "\n",
    "# define the model\n",
    "model = DecisionTreeClassifier()\n",
    "\n",
    "# fit the model\n",
    "model.fit(X_train, y_train)\n",
    "\n",
    "y_pred = model.predict(X_test)\n",
    "print(classification_report(y_test, y_pred, target_names=['Benign', 'Malware']))\n",
    "\n",
    "# get importance\n",
    "importance = model.feature_importances_\n",
    "# summarize feature importance\n",
    "for i,v in enumerate(importance):\n",
    "    print('Feature: %0d, Score: %.5f' % (i,v))\n",
    "# plot feature importance\n",
    "plt.bar([x for x in range(len(importance))], importance)\n",
    "plt.show()"
   ]
  },
  {
   "cell_type": "markdown",
   "metadata": {},
   "source": [
    "### Random Forest Feature Importance\n",
    "\n",
    "We can use the Random Forest algorithm for feature importance implemented in scikit-learn as the RandomForestRegressor and RandomForestClassifier classes.\n",
    "\n",
    "After being fit, the model provides a feature_importances_ property that can be accessed to retrieve the relative importance scores for each input feature.\n",
    "\n",
    "This approach can also be used with the bagging and extra trees algorithms.\n",
    "\n",
    "Let’s take a look at an example of this for regression and classification."
   ]
  },
  {
   "cell_type": "code",
   "execution_count": 43,
   "metadata": {},
   "outputs": [
    {
     "name": "stdout",
     "output_type": "stream",
     "text": [
      "              precision    recall  f1-score   support\n",
      "\n",
      "      Benign       1.00      1.00      1.00     10030\n",
      "     Malware       1.00      1.00      1.00      9970\n",
      "\n",
      "    accuracy                           1.00     20000\n",
      "   macro avg       1.00      1.00      1.00     20000\n",
      "weighted avg       1.00      1.00      1.00     20000\n",
      "\n",
      "Feature: 0, Score: 0.00118\n",
      "Feature: 1, Score: 0.03028\n",
      "Feature: 2, Score: 0.23606\n",
      "Feature: 3, Score: 0.05554\n",
      "Feature: 4, Score: 0.09053\n",
      "Feature: 5, Score: 0.03183\n",
      "Feature: 6, Score: 0.04422\n",
      "Feature: 7, Score: 0.02008\n",
      "Feature: 8, Score: 0.05083\n",
      "Feature: 9, Score: 0.04795\n",
      "Feature: 10, Score: 0.02705\n",
      "Feature: 11, Score: 0.05247\n",
      "Feature: 12, Score: 0.02715\n",
      "Feature: 13, Score: 0.09026\n",
      "Feature: 14, Score: 0.02095\n",
      "Feature: 15, Score: 0.00108\n",
      "Feature: 16, Score: 0.05025\n",
      "Feature: 17, Score: 0.01100\n",
      "Feature: 18, Score: 0.09207\n",
      "Feature: 19, Score: 0.01225\n",
      "Feature: 20, Score: 0.00699\n"
     ]
    },
    {
     "data": {
      "image/png": "[encoded data removed]",
      "text/plain": [
       "<Figure size 1500x700 with 1 Axes>"
      ]
     },
     "metadata": {},
     "output_type": "display_data"
    }
   ],
   "source": [
    "from sklearn.ensemble import RandomForestClassifier\n",
    "\n",
    "# define the model\n",
    "model = RandomForestClassifier()\n",
    "# fit the model\n",
    "model.fit(X_train, y_train)\n",
    "\n",
    "y_pred = model.predict(X_test)\n",
    "print(classification_report(y_test, y_pred, target_names=['Benign', 'Malware']))\n",
    "\n",
    "# get importance\n",
    "importance = model.feature_importances_\n",
    "# summarize feature importance\n",
    "for i,v in enumerate(importance):\n",
    "    print('Feature: %0d, Score: %.5f' % (i,v))\n",
    "# plot feature importance\n",
    "plt.bar([x for x in range(len(importance))], importance)\n",
    "plt.show()"
   ]
  },
  {
   "cell_type": "markdown",
   "metadata": {},
   "source": [
    "## Permutation Feature Importance\n",
    "\n",
    "Permutation feature importance is a technique for calculating relative importance scores that is independent of the model used.\n",
    "\n",
    "First, a model is fit on the dataset, such as a model that does not support native feature importance scores. Then the model is used to make predictions on a dataset, although the values of a feature (column) in the dataset are scrambled. This is repeated for each feature in the dataset. Then this whole process is repeated 3, 5, 10 or more times. The result is a mean importance score for each input feature (and distribution of scores given the repeats).\n",
    "\n",
    "This approach can be used for regression or classification and requires that a performance metric be chosen as the basis of the importance score, such as the mean squared error for regression and accuracy for classification.\n",
    "\n",
    "Permutation feature selection can be used via the permutation_importance() function that takes a fit model, a dataset (train or test dataset is fine), and a scoring function.\n",
    "\n",
    "Let’s take a look at this approach to feature selection with an algorithm that does not support feature selection natively, specifically k-nearest neighbors."
   ]
  },
  {
   "cell_type": "code",
   "execution_count": 44,
   "metadata": {},
   "outputs": [
    {
     "name": "stdout",
     "output_type": "stream",
     "text": [
      "              precision    recall  f1-score   support\n",
      "\n",
      "      Benign       1.00      1.00      1.00     10030\n",
      "     Malware       1.00      1.00      1.00      9970\n",
      "\n",
      "    accuracy                           1.00     20000\n",
      "   macro avg       1.00      1.00      1.00     20000\n",
      "weighted avg       1.00      1.00      1.00     20000\n",
      "\n",
      "Feature: 0, Score: 0.00358\n",
      "Feature: 1, Score: 0.06480\n",
      "Feature: 2, Score: 0.06449\n",
      "Feature: 3, Score: 0.03191\n",
      "Feature: 4, Score: 0.00722\n",
      "Feature: 5, Score: 0.04565\n",
      "Feature: 6, Score: 0.03971\n",
      "Feature: 7, Score: 0.02035\n",
      "Feature: 8, Score: 0.00001\n",
      "Feature: 9, Score: 0.04497\n",
      "Feature: 10, Score: 0.04421\n",
      "Feature: 11, Score: 0.00001\n",
      "Feature: 12, Score: 0.02963\n",
      "Feature: 13, Score: 0.06457\n",
      "Feature: 14, Score: 0.03023\n",
      "Feature: 15, Score: 0.00205\n",
      "Feature: 16, Score: 0.00001\n",
      "Feature: 17, Score: 0.03149\n",
      "Feature: 18, Score: 0.05698\n",
      "Feature: 19, Score: 0.01966\n",
      "Feature: 20, Score: 0.03351\n"
     ]
    },
    {
     "data": {
      "image/png": "[encoded data removed]",
      "text/plain": [
       "<Figure size 1500x700 with 1 Axes>"
      ]
     },
     "metadata": {},
     "output_type": "display_data"
    }
   ],
   "source": [
    "from sklearn.neighbors import KNeighborsClassifier\n",
    "from sklearn.inspection import permutation_importance\n",
    "\n",
    "# define the model\n",
    "model = KNeighborsClassifier()\n",
    "\n",
    "# fit the model\n",
    "model.fit(X_train, y_train)\n",
    "\n",
    "y_pred = model.predict(X_test)\n",
    "print(classification_report(y_test, y_pred, target_names=['Benign', 'Malware']))\n",
    "\n",
    "# perform permutation importance\n",
    "results = permutation_importance(model, X_train, y_train, scoring='accuracy')\n",
    "\n",
    "# get importance\n",
    "importance = results.importances_mean\n",
    "# summarize feature importance\n",
    "for i,v in enumerate(importance):\n",
    "    print('Feature: %0d, Score: %.5f' % (i,v))\n",
    "# plot feature importance\n",
    "plt.bar([x for x in range(len(importance))], importance)\n",
    "plt.show()"
   ]
  }
 ],
 "metadata": {
  "kernelspec": {
   "display_name": "venv",
   "language": "python",
   "name": "python3"
  },
  "language_info": {
   "codemirror_mode": {
    "name": "ipython",
    "version": 3
   },
   "file_extension": ".py",
   "mimetype": "text/x-python",
   "name": "python",
   "nbconvert_exporter": "python",
   "pygments_lexer": "ipython3",
   "version": "3.12.7"
  }
 },
 "nbformat": 4,
 "nbformat_minor": 2
}
